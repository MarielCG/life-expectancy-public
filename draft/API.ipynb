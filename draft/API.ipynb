{
 "cells": [
  {
   "cell_type": "code",
   "execution_count": 1,
   "id": "61a6f00a-a676-4be8-8ebe-cd894c02e254",
   "metadata": {},
   "outputs": [],
   "source": [
    "%load_ext lab_black"
   ]
  },
  {
   "cell_type": "code",
   "execution_count": 2,
   "id": "f0b374fb-9db5-4e0b-b1f3-6e867852c987",
   "metadata": {},
   "outputs": [],
   "source": [
    "import requests\n",
    "import json\n",
    "import datetime\n",
    "import pandas as pd\n",
    "from pathlib import Path"
   ]
  },
  {
   "cell_type": "code",
   "execution_count": 3,
   "id": "b55f030b-9f5d-4288-a3c6-c112ea6f78f2",
   "metadata": {},
   "outputs": [],
   "source": [
    "# the UN's API includes many entities which are not sovereign states,\n",
    "# yet are listed as \"Country\". This workaround is a manuel fix for if\n",
    "# one is only interested in countries by the classic definition\n",
    "not_countries = [\n",
    "    \"American Samoa\",\n",
    "    \"Bermuda\",\n",
    "    \"British Virgin Islands\",\n",
    "    \"Cayman Islands\",\n",
    "    \"Mayotte\",\n",
    "    \"Cook Islands\",\n",
    "    \"Faroe Islands\",\n",
    "    \"Falkland Islands (Malvinas)\",\n",
    "    \"French Guiana\",\n",
    "    \"French Polynesia\",\n",
    "    \"Gibraltar\",\n",
    "    \"Greenland\",\n",
    "    \"Guadeloupe\",\n",
    "    \"Guam\",\n",
    "    \"China, Hong Kong SAR\",\n",
    "    \"China, Macao SAR\",\n",
    "    \"Martinique\",\n",
    "    \"Montserrat\",\n",
    "    \"Curaçao\",\n",
    "    \"Aruba\",\n",
    "    \"Sint Maarten (Dutch part)\",\n",
    "    \"Bonaire, Sint Eustatius and Saba\",\n",
    "    \"New Caledonia\",\n",
    "    \"Niue\",\n",
    "    \"Northern Mariana Islands\",\n",
    "    \"Puerto Rico\",\n",
    "    \"Réunion\",\n",
    "    \"Saint Helena\",\n",
    "    \"Anguilla\",\n",
    "    \"Saint Pierre and Miquelon\",\n",
    "    \"Tokelau\",\n",
    "    \"Turks and Caicos Islands\",\n",
    "    \"Isle of Man\",\n",
    "    \"United States Virgin Islands\",\n",
    "    \"Wallis and Futuna Islands\",\n",
    "]"
   ]
  },
  {
   "cell_type": "code",
   "execution_count": 4,
   "id": "38063f71-470e-4e53-ae24-97b4ccfeec5f",
   "metadata": {},
   "outputs": [
    {
     "name": "stdout",
     "output_type": "stream",
     "text": [
      "<Response [200]>\n"
     ]
    }
   ],
   "source": [
    "base_url = \"https://population.un.org/dataportalapi/api/v1/indicators/\"\n",
    "response = requests.get(base_url)\n",
    "print(response)"
   ]
  },
  {
   "cell_type": "code",
   "execution_count": 8,
   "id": "fde7131f-f0b2-4913-9011-b283de8249f3",
   "metadata": {},
   "outputs": [],
   "source": [
    "def callAPI(relative_path: str, topic_list: bool = False) -> pd.DataFrame:\n",
    "    base_url = \"https://population.un.org/dataportalapi/api/v1\"\n",
    "    target = base_url + relative_path\n",
    "    # Calls the API\n",
    "    response = requests.get(target)\n",
    "    # Reformats response into a JSON object\n",
    "    j = response.json()\n",
    "    # The block below will deal with paginated results.\n",
    "    # If results not paginated, this will be skipped.\n",
    "    try:\n",
    "        # If results are paginated, they are transformed into a\n",
    "        # python dictionary.\n",
    "        # The data may be accessed using the 'data' key of the dictionary.\n",
    "        df = pd.json_normalize(j[\"data\"])\n",
    "        # As long as the nextPage key of the dictionary contains an\n",
    "        # address for the next API call, the function will continue\n",
    "        # to call the API and append the results to the dataframe.\n",
    "        while j[\"nextPage\"] is not None:\n",
    "            response = requests.get(j[\"nextPage\"])\n",
    "            j = response.json()\n",
    "            df_temp = pd.json_normalize(j[\"data\"])\n",
    "            df = pd.concat([df, df_temp])\n",
    "    except Exception:\n",
    "        if topic_list:\n",
    "            df = pd.json_normalize(j, \"indicators\")\n",
    "        else:\n",
    "            df = pd.DataFrame(j)\n",
    "    return df"
   ]
  },
  {
   "cell_type": "code",
   "execution_count": 9,
   "id": "9d084c5e-0e19-426d-b2ba-c82449789ff5",
   "metadata": {},
   "outputs": [],
   "source": [
    "df_locations = callAPI(\"/locations/\")"
   ]
  },
  {
   "cell_type": "code",
   "execution_count": 16,
   "id": "5bb0d9ab-3847-4f89-be9d-526f2ddc173d",
   "metadata": {},
   "outputs": [
    {
     "data": {
      "text/html": [
       "<div>\n",
       "<style scoped>\n",
       "    .dataframe tbody tr th:only-of-type {\n",
       "        vertical-align: middle;\n",
       "    }\n",
       "\n",
       "    .dataframe tbody tr th {\n",
       "        vertical-align: top;\n",
       "    }\n",
       "\n",
       "    .dataframe thead th {\n",
       "        text-align: right;\n",
       "    }\n",
       "</style>\n",
       "<table border=\"1\" class=\"dataframe\">\n",
       "  <thead>\n",
       "    <tr style=\"text-align: right;\">\n",
       "      <th></th>\n",
       "      <th>id</th>\n",
       "      <th>parentId</th>\n",
       "      <th>name</th>\n",
       "      <th>iso3</th>\n",
       "      <th>iso2</th>\n",
       "      <th>locationTypeId</th>\n",
       "      <th>locationType</th>\n",
       "      <th>longitude</th>\n",
       "      <th>latitude</th>\n",
       "    </tr>\n",
       "  </thead>\n",
       "  <tbody>\n",
       "    <tr>\n",
       "      <th>0</th>\n",
       "      <td>4</td>\n",
       "      <td>5501</td>\n",
       "      <td>Afghanistan</td>\n",
       "      <td>AFG</td>\n",
       "      <td>AF</td>\n",
       "      <td>4</td>\n",
       "      <td>Country</td>\n",
       "      <td>67.709953</td>\n",
       "      <td>33.939110</td>\n",
       "    </tr>\n",
       "    <tr>\n",
       "      <th>1</th>\n",
       "      <td>8</td>\n",
       "      <td>925</td>\n",
       "      <td>Albania</td>\n",
       "      <td>ALB</td>\n",
       "      <td>AL</td>\n",
       "      <td>4</td>\n",
       "      <td>Country</td>\n",
       "      <td>20.168331</td>\n",
       "      <td>41.153332</td>\n",
       "    </tr>\n",
       "    <tr>\n",
       "      <th>2</th>\n",
       "      <td>12</td>\n",
       "      <td>912</td>\n",
       "      <td>Algeria</td>\n",
       "      <td>DZA</td>\n",
       "      <td>DZ</td>\n",
       "      <td>4</td>\n",
       "      <td>Country</td>\n",
       "      <td>1.659626</td>\n",
       "      <td>28.033886</td>\n",
       "    </tr>\n",
       "    <tr>\n",
       "      <th>3</th>\n",
       "      <td>16</td>\n",
       "      <td>957</td>\n",
       "      <td>American Samoa</td>\n",
       "      <td>ASM</td>\n",
       "      <td>AS</td>\n",
       "      <td>4</td>\n",
       "      <td>Country</td>\n",
       "      <td>-170.696182</td>\n",
       "      <td>-14.306021</td>\n",
       "    </tr>\n",
       "    <tr>\n",
       "      <th>4</th>\n",
       "      <td>20</td>\n",
       "      <td>925</td>\n",
       "      <td>Andorra</td>\n",
       "      <td>AND</td>\n",
       "      <td>AD</td>\n",
       "      <td>4</td>\n",
       "      <td>Country</td>\n",
       "      <td>1.521801</td>\n",
       "      <td>42.506287</td>\n",
       "    </tr>\n",
       "  </tbody>\n",
       "</table>\n",
       "</div>"
      ],
      "text/plain": [
       "   id  parentId            name iso3 iso2  locationTypeId locationType  \\\n",
       "0   4      5501     Afghanistan  AFG   AF               4      Country   \n",
       "1   8       925         Albania  ALB   AL               4      Country   \n",
       "2  12       912         Algeria  DZA   DZ               4      Country   \n",
       "3  16       957  American Samoa  ASM   AS               4      Country   \n",
       "4  20       925         Andorra  AND   AD               4      Country   \n",
       "\n",
       "    longitude   latitude  \n",
       "0   67.709953  33.939110  \n",
       "1   20.168331  41.153332  \n",
       "2    1.659626  28.033886  \n",
       "3 -170.696182 -14.306021  \n",
       "4    1.521801  42.506287  "
      ]
     },
     "execution_count": 16,
     "metadata": {},
     "output_type": "execute_result"
    }
   ],
   "source": [
    "df_locations.head()"
   ]
  },
  {
   "cell_type": "code",
   "execution_count": 17,
   "id": "d868d8bd-7319-4fac-a382-4bd00f9ee26d",
   "metadata": {},
   "outputs": [],
   "source": [
    "# Identifies ID code for Western Africa\n",
    "western_africa_id = df_locations.loc[df_locations[\"name\"] == \"Afghanistan\", \"id\"].iloc[\n",
    "    0\n",
    "]"
   ]
  },
  {
   "cell_type": "code",
   "execution_count": 18,
   "id": "db089647-5438-4fbb-9527-28858562a9b9",
   "metadata": {},
   "outputs": [
    {
     "data": {
      "text/plain": [
       "4"
      ]
     },
     "execution_count": 18,
     "metadata": {},
     "output_type": "execute_result"
    }
   ],
   "source": [
    "western_africa_id"
   ]
  },
  {
   "cell_type": "code",
   "execution_count": null,
   "id": "19dc0e60-cecc-4ef8-97ac-723e270210bc",
   "metadata": {},
   "outputs": [],
   "source": []
  }
 ],
 "metadata": {
  "kernelspec": {
   "display_name": "Python 3 (ipykernel)",
   "language": "python",
   "name": "python3"
  },
  "language_info": {
   "codemirror_mode": {
    "name": "ipython",
    "version": 3
   },
   "file_extension": ".py",
   "mimetype": "text/x-python",
   "name": "python",
   "nbconvert_exporter": "python",
   "pygments_lexer": "ipython3",
   "version": "3.8.10"
  }
 },
 "nbformat": 4,
 "nbformat_minor": 5
}
