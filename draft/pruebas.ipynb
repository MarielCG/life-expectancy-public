{
 "cells": [
  {
   "cell_type": "markdown",
   "metadata": {},
   "source": [
    "# Obtención de datos desde la API del Banco Mundial"
   ]
  },
  {
   "cell_type": "code",
   "execution_count": 1,
   "metadata": {},
   "outputs": [],
   "source": [
    "import requests\n",
    "import pandas as pd"
   ]
  },
  {
   "cell_type": "markdown",
   "metadata": {},
   "source": [
    "## Extracción de los datos de la variable objetivo: Esperanza de Vida al Nacer"
   ]
  },
  {
   "cell_type": "markdown",
   "metadata": {},
   "source": [
    "Según David, Rodríguez (2015) los factores que inciden sobre la Esperanza de Vida al Nacer dependen en gran medida de los ingresos per capita del país. Por ello vamos a extraer datos de paises que pertenezcan a cada una de las 4 categorías: Ingresos Bajos, Ingresos Medio - Bajos, Ingresos Medio - Altos e Ingresos Altos. Todo ello según la clasificación del Banco Mundial"
   ]
  },
  {
   "cell_type": "markdown",
   "metadata": {},
   "source": [
    "Aqui vemos los codigos para cada categoría que sera el argumento para la extraccion de los paises"
   ]
  },
  {
   "cell_type": "code",
   "execution_count": 19,
   "metadata": {},
   "outputs": [
    {
     "data": {
      "text/html": [
       "<div>\n",
       "<style scoped>\n",
       "    .dataframe tbody tr th:only-of-type {\n",
       "        vertical-align: middle;\n",
       "    }\n",
       "\n",
       "    .dataframe tbody tr th {\n",
       "        vertical-align: top;\n",
       "    }\n",
       "\n",
       "    .dataframe thead th {\n",
       "        text-align: right;\n",
       "    }\n",
       "</style>\n",
       "<table border=\"1\" class=\"dataframe\">\n",
       "  <thead>\n",
       "    <tr style=\"text-align: right;\">\n",
       "      <th></th>\n",
       "      <th>value</th>\n",
       "      <th>id</th>\n",
       "    </tr>\n",
       "  </thead>\n",
       "  <tbody>\n",
       "    <tr>\n",
       "      <th>0</th>\n",
       "      <td>High income</td>\n",
       "      <td>HIC</td>\n",
       "    </tr>\n",
       "    <tr>\n",
       "      <th>1</th>\n",
       "      <td>Not classified</td>\n",
       "      <td>INX</td>\n",
       "    </tr>\n",
       "    <tr>\n",
       "      <th>2</th>\n",
       "      <td>Low income</td>\n",
       "      <td>LIC</td>\n",
       "    </tr>\n",
       "    <tr>\n",
       "      <th>3</th>\n",
       "      <td>Lower middle income</td>\n",
       "      <td>LMC</td>\n",
       "    </tr>\n",
       "    <tr>\n",
       "      <th>4</th>\n",
       "      <td>Low &amp; middle income</td>\n",
       "      <td>LMY</td>\n",
       "    </tr>\n",
       "    <tr>\n",
       "      <th>5</th>\n",
       "      <td>Middle income</td>\n",
       "      <td>MIC</td>\n",
       "    </tr>\n",
       "    <tr>\n",
       "      <th>6</th>\n",
       "      <td>Upper middle income</td>\n",
       "      <td>UMC</td>\n",
       "    </tr>\n",
       "  </tbody>\n",
       "</table>\n",
       "</div>"
      ],
      "text/plain": [
       "                 value   id\n",
       "0          High income  HIC\n",
       "1       Not classified  INX\n",
       "2           Low income  LIC\n",
       "3  Lower middle income  LMC\n",
       "4  Low & middle income  LMY\n",
       "5        Middle income  MIC\n",
       "6  Upper middle income  UMC"
      ]
     },
     "execution_count": 19,
     "metadata": {},
     "output_type": "execute_result"
    }
   ],
   "source": [
    "url = 'http://api.worldbank.org/v2/incomelevel' #Aqui vemos la lista de niveles de Ingreso y sus respectivos códigos\n",
    "args = {\"format\":\"json\", \"prefix\":\"Getdata\"}\n",
    "dic_Income_Level = requests.get(url, params=args)\n",
    "datos = dic_Income_Level.json()[1]\n",
    "data = pd.json_normalize(datos)\n",
    "data[['value', 'id']]"
   ]
  },
  {
   "cell_type": "markdown",
   "metadata": {},
   "source": [
    "Ahora vamos a tomar una muestra de 10 paises de cada categoría"
   ]
  },
  {
   "cell_type": "code",
   "execution_count": 24,
   "metadata": {},
   "outputs": [
    {
     "data": {
      "text/html": [
       "<div>\n",
       "<style scoped>\n",
       "    .dataframe tbody tr th:only-of-type {\n",
       "        vertical-align: middle;\n",
       "    }\n",
       "\n",
       "    .dataframe tbody tr th {\n",
       "        vertical-align: top;\n",
       "    }\n",
       "\n",
       "    .dataframe thead th {\n",
       "        text-align: right;\n",
       "    }\n",
       "</style>\n",
       "<table border=\"1\" class=\"dataframe\">\n",
       "  <thead>\n",
       "    <tr style=\"text-align: right;\">\n",
       "      <th></th>\n",
       "      <th>name</th>\n",
       "      <th>id</th>\n",
       "      <th>region.value</th>\n",
       "      <th>incomeLevel.value</th>\n",
       "    </tr>\n",
       "  </thead>\n",
       "  <tbody>\n",
       "    <tr>\n",
       "      <th>0</th>\n",
       "      <td>Aruba</td>\n",
       "      <td>ABW</td>\n",
       "      <td>Latin America &amp; Caribbean</td>\n",
       "      <td>High income</td>\n",
       "    </tr>\n",
       "    <tr>\n",
       "      <th>1</th>\n",
       "      <td>Andorra</td>\n",
       "      <td>AND</td>\n",
       "      <td>Europe &amp; Central Asia</td>\n",
       "      <td>High income</td>\n",
       "    </tr>\n",
       "    <tr>\n",
       "      <th>2</th>\n",
       "      <td>United Arab Emirates</td>\n",
       "      <td>ARE</td>\n",
       "      <td>Middle East &amp; North Africa</td>\n",
       "      <td>High income</td>\n",
       "    </tr>\n",
       "    <tr>\n",
       "      <th>3</th>\n",
       "      <td>Antigua and Barbuda</td>\n",
       "      <td>ATG</td>\n",
       "      <td>Latin America &amp; Caribbean</td>\n",
       "      <td>High income</td>\n",
       "    </tr>\n",
       "    <tr>\n",
       "      <th>4</th>\n",
       "      <td>Australia</td>\n",
       "      <td>AUS</td>\n",
       "      <td>East Asia &amp; Pacific</td>\n",
       "      <td>High income</td>\n",
       "    </tr>\n",
       "    <tr>\n",
       "      <th>5</th>\n",
       "      <td>Austria</td>\n",
       "      <td>AUT</td>\n",
       "      <td>Europe &amp; Central Asia</td>\n",
       "      <td>High income</td>\n",
       "    </tr>\n",
       "    <tr>\n",
       "      <th>6</th>\n",
       "      <td>Belgium</td>\n",
       "      <td>BEL</td>\n",
       "      <td>Europe &amp; Central Asia</td>\n",
       "      <td>High income</td>\n",
       "    </tr>\n",
       "    <tr>\n",
       "      <th>7</th>\n",
       "      <td>Bahrain</td>\n",
       "      <td>BHR</td>\n",
       "      <td>Middle East &amp; North Africa</td>\n",
       "      <td>High income</td>\n",
       "    </tr>\n",
       "    <tr>\n",
       "      <th>8</th>\n",
       "      <td>Bahamas, The</td>\n",
       "      <td>BHS</td>\n",
       "      <td>Latin America &amp; Caribbean</td>\n",
       "      <td>High income</td>\n",
       "    </tr>\n",
       "    <tr>\n",
       "      <th>9</th>\n",
       "      <td>Bermuda</td>\n",
       "      <td>BMU</td>\n",
       "      <td>North America</td>\n",
       "      <td>High income</td>\n",
       "    </tr>\n",
       "  </tbody>\n",
       "</table>\n",
       "</div>"
      ],
      "text/plain": [
       "                   name   id                region.value incomeLevel.value\n",
       "0                 Aruba  ABW  Latin America & Caribbean        High income\n",
       "1               Andorra  AND       Europe & Central Asia       High income\n",
       "2  United Arab Emirates  ARE  Middle East & North Africa       High income\n",
       "3   Antigua and Barbuda  ATG  Latin America & Caribbean        High income\n",
       "4             Australia  AUS         East Asia & Pacific       High income\n",
       "5               Austria  AUT       Europe & Central Asia       High income\n",
       "6               Belgium  BEL       Europe & Central Asia       High income\n",
       "7               Bahrain  BHR  Middle East & North Africa       High income\n",
       "8          Bahamas, The  BHS  Latin America & Caribbean        High income\n",
       "9               Bermuda  BMU               North America       High income"
      ]
     },
     "execution_count": 24,
     "metadata": {},
     "output_type": "execute_result"
    }
   ],
   "source": [
    "url = 'http://api.worldbank.org/v2/country' #Aqui vemos la lista de niveles de Ingreso y sus respectivos códigos\n",
    "args = {\"format\":\"json\", \"prefix\":\"Getdata\", \"incomelevel\":\"HIC\"}\n",
    "dic_Income_Level = requests.get(url, params=args)\n",
    "datos = dic_Income_Level.json()[1]\n",
    "data = pd.json_normalize(datos)\n",
    "data[['name', 'id', 'region.value', 'incomeLevel.value']].head(10)"
   ]
  },
  {
   "cell_type": "markdown",
   "metadata": {},
   "source": [
    "Selección de un solo país bajo estudio. Si se eligen todos los países la API tarda un poco más de 30 segundos en responder una vez terminado el ciclo for. Y esa carga inicial podría molestar al usuario final."
   ]
  },
  {
   "cell_type": "code",
   "execution_count": 14,
   "metadata": {},
   "outputs": [],
   "source": [
    "paises=pd.read_csv('../datasets/paises.csv')\n",
    "\n",
    "seleccion = input(\"Ingrese un nombre de país: \")\n",
    "try:\n",
    "    pais = paises.loc[paises['country.value'].str.contains(seleccion, case=False),'countryiso3code'].values[0]\n",
    "except:\n",
    "    print(\"No se encontró el país, intente de nuevo\")"
   ]
  },
  {
   "cell_type": "code",
   "execution_count": 15,
   "metadata": {},
   "outputs": [],
   "source": [
    "# Establecemos los parámetros que queremos acceder.\n",
    "indicador = 'SP.DYN.LE00.IN'\n",
    "#pais = 'all' # Está comentado porque lo recibe del bloque anterior\n",
    "iyear = '1980'\n",
    "fyear = '2022'\n",
    "\n",
    "# Página de la api y path al recurso solicitado\n",
    "api_url = ' http://api.worldbank.org/v2/es'\n",
    "path = f'/country/{pais}/indicator/{indicador}'\n",
    "\n",
    "url = api_url + path\n",
    "\n",
    "# Creamos el diccionario con los parametros \n",
    "# para el método get\n",
    "def consultar(pagina = 1):\n",
    "    args= {\n",
    "        \"date\":iyear+\":\"+fyear,\n",
    "        'page':pagina,\n",
    "        \"per_page\":1000,\n",
    "        \"format\":\"json\",\n",
    "        \"prefix\":\"Getdata\",\n",
    "    }\n",
    "    return requests.get(url,params=args).json()\n",
    "\n",
    "dict_data = consultar()"
   ]
  },
  {
   "cell_type": "code",
   "execution_count": 16,
   "metadata": {},
   "outputs": [
    {
     "data": {
      "text/plain": [
       "1"
      ]
     },
     "execution_count": 16,
     "metadata": {},
     "output_type": "execute_result"
    }
   ],
   "source": [
    "# La primera parte de la respuesta nos indica en \n",
    "# cuantas páginas de encuentra la información\n",
    "paginas=dict_data[0][\"pages\"]\n",
    "paginas # Retornamos el número de páginas"
   ]
  },
  {
   "cell_type": "code",
   "execution_count": null,
   "metadata": {},
   "outputs": [],
   "source": [
    "# La segunda parte nos retorna una lista de diccionarios \n",
    "# con la información que queríamos\n",
    "datos=dict_data[1]\n",
    "datos"
   ]
  },
  {
   "cell_type": "code",
   "execution_count": 18,
   "metadata": {},
   "outputs": [],
   "source": [
    "# Agregamos los valores de las otras páginas, si existen a \n",
    "# nuestra lista de diccionarios\n",
    "for pagina in range(2,paginas+1):\n",
    "    datos.extend(consultar(pagina)[1])"
   ]
  },
  {
   "cell_type": "code",
   "execution_count": 19,
   "metadata": {},
   "outputs": [
    {
     "name": "stdout",
     "output_type": "stream",
     "text": [
      "<class 'list'>\n",
      "<class 'dict'>\n"
     ]
    }
   ],
   "source": [
    "# Verifico que lo obtenido sea una lista de diccionarios\n",
    "print(type(datos))\n",
    "print(type(datos[1]))"
   ]
  },
  {
   "cell_type": "code",
   "execution_count": 20,
   "metadata": {},
   "outputs": [],
   "source": [
    "# Creo el DataFrame con todos los datos\n",
    "data = pd.json_normalize(datos)"
   ]
  },
  {
   "cell_type": "code",
   "execution_count": null,
   "metadata": {},
   "outputs": [],
   "source": [
    "# Visualizo información relevante unicamente\n",
    "data[['date','value','country.value']]"
   ]
  },
  {
   "cell_type": "code",
   "execution_count": 10,
   "metadata": {},
   "outputs": [],
   "source": [
    "# Creo un dataset para trabajar offline\n",
    "# data.to_csv('../datasets/esperanza_de_vida.csv')"
   ]
  },
  {
   "cell_type": "markdown",
   "metadata": {},
   "source": [
    "# EDA"
   ]
  },
  {
   "cell_type": "markdown",
   "metadata": {},
   "source": [
    "Esto se hace en la primera ejecución del código, cuando se corría con todos los países"
   ]
  },
  {
   "cell_type": "code",
   "execution_count": 11,
   "metadata": {},
   "outputs": [],
   "source": [
    "paises = data[['countryiso3code','country.value']].groupby('countryiso3code').first()\n",
    "\n",
    "# Regreso el index creado por agrupar a una columna\n",
    "paises.reset_index(inplace=True)\n",
    "\n",
    "# Reemplazo todos los valores faltantes por NaN\n",
    "paises.replace(\"\", float(\"NaN\"), inplace=True)\n",
    "\n",
    "paises.dropna(inplace=True)\n",
    "\n",
    "# Creo el dataset de países que me va a servir de selección\n",
    "# paises.to_csv('../datasets/paises.csv')"
   ]
  },
  {
   "cell_type": "markdown",
   "metadata": {},
   "source": [
    "Verifico los datos faltantes en la respuesta de la API en español. Son dós nombres de países o grupo de países, con el código AFW y AFE, para Africa ocidental y central y Africa del este y del sur, respectivamente. En resumen: Regiones de Africa. No sé si lo vamos a incluir"
   ]
  },
  {
   "cell_type": "code",
   "execution_count": null,
   "metadata": {},
   "outputs": [],
   "source": [
    "data[data.countryiso3code.str.contains('AFE')]"
   ]
  },
  {
   "cell_type": "markdown",
   "metadata": {},
   "source": [
    "## Búsqueda de indicadores"
   ]
  },
  {
   "cell_type": "code",
   "execution_count": 13,
   "metadata": {},
   "outputs": [
    {
     "data": {
      "text/html": [
       "<div>\n",
       "<style scoped>\n",
       "    .dataframe tbody tr th:only-of-type {\n",
       "        vertical-align: middle;\n",
       "    }\n",
       "\n",
       "    .dataframe tbody tr th {\n",
       "        vertical-align: top;\n",
       "    }\n",
       "\n",
       "    .dataframe thead th {\n",
       "        text-align: right;\n",
       "    }\n",
       "</style>\n",
       "<table border=\"1\" class=\"dataframe\">\n",
       "  <thead>\n",
       "    <tr style=\"text-align: right;\">\n",
       "      <th></th>\n",
       "      <th>id</th>\n",
       "      <th>name</th>\n",
       "      <th>sourceNote</th>\n",
       "    </tr>\n",
       "  </thead>\n",
       "  <tbody>\n",
       "    <tr>\n",
       "      <th>179</th>\n",
       "      <td>3.0.Gini</td>\n",
       "      <td>Coeficiente de Gini</td>\n",
       "      <td>El coeficiente de Gini es la medida de desigua...</td>\n",
       "    </tr>\n",
       "    <tr>\n",
       "      <th>180</th>\n",
       "      <td>3.0.Gini_nozero</td>\n",
       "      <td>Coeficiente de Gini (Ingreso diferente de cero)</td>\n",
       "      <td>El coeficiente de Gini es la medida de desigua...</td>\n",
       "    </tr>\n",
       "    <tr>\n",
       "      <th>192</th>\n",
       "      <td>3.1.Gini</td>\n",
       "      <td>Gini, Rural</td>\n",
       "      <td>El coeficiente de Gini es la medida de desigua...</td>\n",
       "    </tr>\n",
       "    <tr>\n",
       "      <th>205</th>\n",
       "      <td>3.2.Gini</td>\n",
       "      <td>Gini, Urbano</td>\n",
       "      <td>El coeficiente de Gini es la medida de desigua...</td>\n",
       "    </tr>\n",
       "    <tr>\n",
       "      <th>17088</th>\n",
       "      <td>SI.POV.GINI</td>\n",
       "      <td>Índice de Gini</td>\n",
       "      <td>El índice de Gini mide hasta qué punto la dist...</td>\n",
       "    </tr>\n",
       "  </tbody>\n",
       "</table>\n",
       "</div>"
      ],
      "text/plain": [
       "                    id                                             name  \\\n",
       "179           3.0.Gini                              Coeficiente de Gini   \n",
       "180    3.0.Gini_nozero  Coeficiente de Gini (Ingreso diferente de cero)   \n",
       "192           3.1.Gini                                      Gini, Rural   \n",
       "205           3.2.Gini                                     Gini, Urbano   \n",
       "17088      SI.POV.GINI                                   Índice de Gini   \n",
       "\n",
       "                                              sourceNote  \n",
       "179    El coeficiente de Gini es la medida de desigua...  \n",
       "180    El coeficiente de Gini es la medida de desigua...  \n",
       "192    El coeficiente de Gini es la medida de desigua...  \n",
       "205    El coeficiente de Gini es la medida de desigua...  \n",
       "17088  El índice de Gini mide hasta qué punto la dist...  "
      ]
     },
     "execution_count": 13,
     "metadata": {},
     "output_type": "execute_result"
    }
   ],
   "source": [
    "url='http://api.worldbank.org/v2/es/indicator'\n",
    "def consultar_indicadores(pagina=1):\n",
    "    argumentos= {\n",
    "        'page':pagina,\n",
    "        'per_page':10000,\n",
    "        'format':'json'\n",
    "    }\n",
    "    return requests.get(url,params=argumentos).json()\n",
    "\n",
    "indicadores = consultar_indicadores()\n",
    "\n",
    "# la primera parte de la respuesta \n",
    "# contiene información sobre las páginas\n",
    "paginas = indicadores[0][\"pages\"]\n",
    "\n",
    "# Reasigno la variable únicamente a los datos de mi interés \n",
    "# es una lista de diccionarios\n",
    "indicadores = indicadores[1]\n",
    "\n",
    "# recorro todás las páginas que tiene la respuesta \n",
    "# y lo voy anexando a la lista principal\n",
    "for pagina in range(2, paginas+1):\n",
    "    indicadores.extend(consultar_indicadores(pagina)[1])\n",
    "indicators = pd.json_normalize(indicadores)\n",
    "\n",
    "# Dev data para trabajo offline\n",
    "# indicators.to_csv('../datasets/indicadores.csv')\n",
    "\n",
    "interes = input(\"Indicador de interés: \")\n",
    "indicators.loc[indicators.name.str.contains(interes,case=False),\n",
    "     ['id','name','sourceNote']]#.to_csv('temp.csv')"
   ]
  }
 ],
 "metadata": {
  "kernelspec": {
   "display_name": "Python 3.10.6 64-bit",
   "language": "python",
   "name": "python3"
  },
  "language_info": {
   "codemirror_mode": {
    "name": "ipython",
    "version": 3
   },
   "file_extension": ".py",
   "mimetype": "text/x-python",
   "name": "python",
   "nbconvert_exporter": "python",
   "pygments_lexer": "ipython3",
   "version": "3.10.6"
  },
  "vscode": {
   "interpreter": {
    "hash": "916dbcbb3f70747c44a77c7bcd40155683ae19c65e1c03b4aa3499c5328201f1"
   }
  }
 },
 "nbformat": 4,
 "nbformat_minor": 2
}
