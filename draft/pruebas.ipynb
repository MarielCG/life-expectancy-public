{
 "cells": [
  {
   "cell_type": "markdown",
   "metadata": {},
   "source": [
    "# Obtención de datos desde la API del Banco Mundial"
   ]
  },
  {
   "cell_type": "code",
   "execution_count": null,
   "metadata": {},
   "outputs": [],
   "source": [
    "import requests\n",
    "import pandas as pd"
   ]
  },
  {
   "cell_type": "markdown",
   "metadata": {},
   "source": [
    "## Extracción de los datos de la variable objetivo: Esperanza de Vida al Nacer"
   ]
  },
  {
   "cell_type": "markdown",
   "metadata": {},
   "source": [
    "Según David, Rodríguez (2015) los factores que inciden sobre la Esperanza de Vida al Nacer dependen en gran medida de los ingresos per capita del país. Por ello vamos a extraer datos de paises que pertenezcan a cada una de las 4 categorías: Ingresos Bajos, Ingresos Medio - Bajos, Ingresos Medio - Altos e Ingresos Altos. Todo ello según la clasificación del Banco Mundial"
   ]
  },
  {
   "cell_type": "markdown",
   "metadata": {},
   "source": [
    "Aqui vemos los codigos para cada categoría que sera el argumento para la extraccion de los paises"
   ]
  },
  {
   "cell_type": "code",
   "execution_count": 53,
   "metadata": {},
   "outputs": [
    {
     "data": {
      "text/html": [
       "<div>\n",
       "<style scoped>\n",
       "    .dataframe tbody tr th:only-of-type {\n",
       "        vertical-align: middle;\n",
       "    }\n",
       "\n",
       "    .dataframe tbody tr th {\n",
       "        vertical-align: top;\n",
       "    }\n",
       "\n",
       "    .dataframe thead th {\n",
       "        text-align: right;\n",
       "    }\n",
       "</style>\n",
       "<table border=\"1\" class=\"dataframe\">\n",
       "  <thead>\n",
       "    <tr style=\"text-align: right;\">\n",
       "      <th></th>\n",
       "      <th>value</th>\n",
       "      <th>id</th>\n",
       "    </tr>\n",
       "  </thead>\n",
       "  <tbody>\n",
       "    <tr>\n",
       "      <th>0</th>\n",
       "      <td>High income</td>\n",
       "      <td>HIC</td>\n",
       "    </tr>\n",
       "    <tr>\n",
       "      <th>1</th>\n",
       "      <td>Not classified</td>\n",
       "      <td>INX</td>\n",
       "    </tr>\n",
       "    <tr>\n",
       "      <th>2</th>\n",
       "      <td>Low income</td>\n",
       "      <td>LIC</td>\n",
       "    </tr>\n",
       "    <tr>\n",
       "      <th>3</th>\n",
       "      <td>Lower middle income</td>\n",
       "      <td>LMC</td>\n",
       "    </tr>\n",
       "    <tr>\n",
       "      <th>4</th>\n",
       "      <td>Low &amp; middle income</td>\n",
       "      <td>LMY</td>\n",
       "    </tr>\n",
       "    <tr>\n",
       "      <th>5</th>\n",
       "      <td>Middle income</td>\n",
       "      <td>MIC</td>\n",
       "    </tr>\n",
       "    <tr>\n",
       "      <th>6</th>\n",
       "      <td>Upper middle income</td>\n",
       "      <td>UMC</td>\n",
       "    </tr>\n",
       "  </tbody>\n",
       "</table>\n",
       "</div>"
      ],
      "text/plain": [
       "                 value   id\n",
       "0          High income  HIC\n",
       "1       Not classified  INX\n",
       "2           Low income  LIC\n",
       "3  Lower middle income  LMC\n",
       "4  Low & middle income  LMY\n",
       "5        Middle income  MIC\n",
       "6  Upper middle income  UMC"
      ]
     },
     "execution_count": 53,
     "metadata": {},
     "output_type": "execute_result"
    }
   ],
   "source": [
    "url = 'http://api.worldbank.org/v2/incomelevel' #Aqui vemos la lista de niveles de Ingreso y sus respectivos códigos\n",
    "args = {\"format\":\"json\", \"prefix\":\"Getdata\"}\n",
    "dic_Income_Level = requests.get(url, params=args)\n",
    "datos = dic_Income_Level.json()[1]\n",
    "data = pd.json_normalize(datos)\n",
    "data[['value', 'id']]"
   ]
  },
  {
   "cell_type": "markdown",
   "metadata": {},
   "source": [
    "Ahora vamos a tomar una muestra de 10 paises de cada categoría y vamos guardando en una lista los id para luego a partir de esa lista ir extrayendo los datos para cada indicador."
   ]
  },
  {
   "cell_type": "markdown",
   "metadata": {},
   "source": [
    "Nivel de Ingresos: Alto"
   ]
  },
  {
   "cell_type": "code",
   "execution_count": 54,
   "metadata": {},
   "outputs": [],
   "source": [
    "incomes = ['HIC', 'UMC', 'LMC', 'LIC']\n",
    "trabajo = pd.DataFrame()\n",
    "for income in incomes:\n",
    "    url = 'http://api.worldbank.org/v2/country' #Aqui vemos la lista de niveles de Ingreso y sus respectivos códigos\n",
    "    args = {\"format\":\"json\", \"prefix\":\"Getdata\", \"incomelevel\":income}\n",
    "    dic_Income_Level = requests.get(url, params=args)\n",
    "    datos = dic_Income_Level.json()[1]\n",
    "    data = pd.json_normalize(datos)\n",
    "    data = data[['name', 'id', 'region.value', 'incomeLevel.value']]\n",
    "    trabajo = pd.concat([trabajo, data], ignore_index=True)\n"
   ]
  },
  {
   "cell_type": "code",
   "execution_count": 55,
   "metadata": {},
   "outputs": [
    {
     "data": {
      "text/html": [
       "<div>\n",
       "<style scoped>\n",
       "    .dataframe tbody tr th:only-of-type {\n",
       "        vertical-align: middle;\n",
       "    }\n",
       "\n",
       "    .dataframe tbody tr th {\n",
       "        vertical-align: top;\n",
       "    }\n",
       "\n",
       "    .dataframe thead th {\n",
       "        text-align: right;\n",
       "    }\n",
       "</style>\n",
       "<table border=\"1\" class=\"dataframe\">\n",
       "  <thead>\n",
       "    <tr style=\"text-align: right;\">\n",
       "      <th></th>\n",
       "      <th>name</th>\n",
       "      <th>id</th>\n",
       "      <th>region.value</th>\n",
       "      <th>incomeLevel.value</th>\n",
       "    </tr>\n",
       "  </thead>\n",
       "  <tbody>\n",
       "    <tr>\n",
       "      <th>0</th>\n",
       "      <td>Aruba</td>\n",
       "      <td>ABW</td>\n",
       "      <td>Latin America &amp; Caribbean</td>\n",
       "      <td>High income</td>\n",
       "    </tr>\n",
       "    <tr>\n",
       "      <th>1</th>\n",
       "      <td>Andorra</td>\n",
       "      <td>AND</td>\n",
       "      <td>Europe &amp; Central Asia</td>\n",
       "      <td>High income</td>\n",
       "    </tr>\n",
       "    <tr>\n",
       "      <th>2</th>\n",
       "      <td>United Arab Emirates</td>\n",
       "      <td>ARE</td>\n",
       "      <td>Middle East &amp; North Africa</td>\n",
       "      <td>High income</td>\n",
       "    </tr>\n",
       "    <tr>\n",
       "      <th>3</th>\n",
       "      <td>Antigua and Barbuda</td>\n",
       "      <td>ATG</td>\n",
       "      <td>Latin America &amp; Caribbean</td>\n",
       "      <td>High income</td>\n",
       "    </tr>\n",
       "    <tr>\n",
       "      <th>4</th>\n",
       "      <td>Australia</td>\n",
       "      <td>AUS</td>\n",
       "      <td>East Asia &amp; Pacific</td>\n",
       "      <td>High income</td>\n",
       "    </tr>\n",
       "    <tr>\n",
       "      <th>...</th>\n",
       "      <td>...</td>\n",
       "      <td>...</td>\n",
       "      <td>...</td>\n",
       "      <td>...</td>\n",
       "    </tr>\n",
       "    <tr>\n",
       "      <th>173</th>\n",
       "      <td>Chad</td>\n",
       "      <td>TCD</td>\n",
       "      <td>Sub-Saharan Africa</td>\n",
       "      <td>Low income</td>\n",
       "    </tr>\n",
       "    <tr>\n",
       "      <th>174</th>\n",
       "      <td>Togo</td>\n",
       "      <td>TGO</td>\n",
       "      <td>Sub-Saharan Africa</td>\n",
       "      <td>Low income</td>\n",
       "    </tr>\n",
       "    <tr>\n",
       "      <th>175</th>\n",
       "      <td>Uganda</td>\n",
       "      <td>UGA</td>\n",
       "      <td>Sub-Saharan Africa</td>\n",
       "      <td>Low income</td>\n",
       "    </tr>\n",
       "    <tr>\n",
       "      <th>176</th>\n",
       "      <td>Yemen, Rep.</td>\n",
       "      <td>YEM</td>\n",
       "      <td>Middle East &amp; North Africa</td>\n",
       "      <td>Low income</td>\n",
       "    </tr>\n",
       "    <tr>\n",
       "      <th>177</th>\n",
       "      <td>Zambia</td>\n",
       "      <td>ZMB</td>\n",
       "      <td>Sub-Saharan Africa</td>\n",
       "      <td>Low income</td>\n",
       "    </tr>\n",
       "  </tbody>\n",
       "</table>\n",
       "<p>178 rows × 4 columns</p>\n",
       "</div>"
      ],
      "text/plain": [
       "                     name   id                region.value incomeLevel.value\n",
       "0                   Aruba  ABW  Latin America & Caribbean        High income\n",
       "1                 Andorra  AND       Europe & Central Asia       High income\n",
       "2    United Arab Emirates  ARE  Middle East & North Africa       High income\n",
       "3     Antigua and Barbuda  ATG  Latin America & Caribbean        High income\n",
       "4               Australia  AUS         East Asia & Pacific       High income\n",
       "..                    ...  ...                         ...               ...\n",
       "173                  Chad  TCD         Sub-Saharan Africa         Low income\n",
       "174                  Togo  TGO         Sub-Saharan Africa         Low income\n",
       "175                Uganda  UGA         Sub-Saharan Africa         Low income\n",
       "176           Yemen, Rep.  YEM  Middle East & North Africa        Low income\n",
       "177                Zambia  ZMB         Sub-Saharan Africa         Low income\n",
       "\n",
       "[178 rows x 4 columns]"
      ]
     },
     "execution_count": 55,
     "metadata": {},
     "output_type": "execute_result"
    }
   ],
   "source": [
    "trabajo"
   ]
  },
  {
   "cell_type": "markdown",
   "metadata": {},
   "source": [
    "Ahora vamos a crear una función que reciba la API, la lista, el periodo temporal y un indicador y lo extraiga de la API"
   ]
  },
  {
   "cell_type": "code",
   "execution_count": null,
   "metadata": {},
   "outputs": [],
   "source": [
    "def extraer (api_url,lista, indicador,tiempo):\n",
    "    #creamos el argumento paises\n",
    "    lista3 = lista.copy()\n",
    "    b = lista3[0]\n",
    "    lista3.pop(0)\n",
    "    for a in lista3:\n",
    "        b = b+';'+a #la API devuelve los datos de varios paises pasando el argumento: AVW;AND;ETH...\n",
    "    #lista3 = \";\".join(lista3) otra forma\n",
    "    path = f'/country/{b}/indicator/{indicador}'\n",
    "    url = api_url + path\n",
    "    args = {\"format\":\"json\", \"prefix\":\"Getdata\",\"date\":tiempo,\"per_page\":2000}\n",
    "    s = requests.get(url, params=args)\n",
    "    salida = pd.json_normalize(s.json()[1])\n",
    "    return(salida[['countryiso3code','date','value']])"
   ]
  },
  {
   "cell_type": "markdown",
   "metadata": {},
   "source": [
    "ahora vamos a implementar la función"
   ]
  },
  {
   "cell_type": "code",
   "execution_count": 56,
   "metadata": {},
   "outputs": [
    {
     "name": "stdout",
     "output_type": "stream",
     "text": [
      "http://api.worldbank.org/v2/country/ABW;AND;ARE;ATG;AUS;AUT;BEL;BHR;BHS;BMU;BRB;BRN;CAN;CHE;CHI;CHL;CUW;CYM;CYP;CZE;DEU;DNK;ESP;EST;FIN;FRA;FRO;GBR;GIB;GRC;GRL;GUM;HKG;HRV;HUN;IMN;IRL;ISL;ISR;ITA;JPN;KNA;KOR;KWT;LIE;LTU;LUX;LVA;MAC;MAF;ALB;ARG;ARM;ASM;AZE;BGR;BIH;BLR;BLZ;BRA;BWA;CHN;COL;CRI;CUB;DMA;DOM;ECU;FJI;GAB;GEO;GNQ;GRD;GTM;GUY;IRQ;JAM;JOR;KAZ;LBY;LCA;MDA;MDV;MEX;MHL;MKD;MNE;MUS;MYS;NAM;PER;PLW;PRY;RUS;SRB;SUR;THA;TKM;TON;TUR;AGO;BEN;BGD;BOL;BTN;CIV;CMR;COG;COM;CPV;DJI;DZA;EGY;FSM;GHA;HND;HTI;IDN;IND;IRN;KEN;KGZ;KHM;KIR;LAO;LBN;LKA;LSO;MAR;MMR;MNG;MRT;NGA;NIC;NPL;PAK;PHL;PNG;PSE;SEN;SLB;SLV;STP;SWZ;TJK;TLS;TUN;TZA;UKR;UZB;AFG;BDI;BFA;CAF;COD;ERI;ETH;GIN;GMB;GNB;LBR;MDG;MLI;MOZ;MWI;NER;PRK;RWA;SDN;SLE;SOM;SSD;SYR;TCD;TGO;UGA;YEM;ZMB/indicator/SP.POP.TOTL\n"
     ]
    },
    {
     "data": {
      "text/html": [
       "<div>\n",
       "<style scoped>\n",
       "    .dataframe tbody tr th:only-of-type {\n",
       "        vertical-align: middle;\n",
       "    }\n",
       "\n",
       "    .dataframe tbody tr th {\n",
       "        vertical-align: top;\n",
       "    }\n",
       "\n",
       "    .dataframe thead th {\n",
       "        text-align: right;\n",
       "    }\n",
       "</style>\n",
       "<table border=\"1\" class=\"dataframe\">\n",
       "  <thead>\n",
       "    <tr style=\"text-align: right;\">\n",
       "      <th></th>\n",
       "      <th>countryiso3code</th>\n",
       "      <th>date</th>\n",
       "      <th>value</th>\n",
       "    </tr>\n",
       "  </thead>\n",
       "  <tbody>\n",
       "    <tr>\n",
       "      <th>0</th>\n",
       "      <td>ABW</td>\n",
       "      <td>2020</td>\n",
       "      <td>106766</td>\n",
       "    </tr>\n",
       "    <tr>\n",
       "      <th>1</th>\n",
       "      <td>ABW</td>\n",
       "      <td>2019</td>\n",
       "      <td>106310</td>\n",
       "    </tr>\n",
       "    <tr>\n",
       "      <th>2</th>\n",
       "      <td>ABW</td>\n",
       "      <td>2018</td>\n",
       "      <td>105846</td>\n",
       "    </tr>\n",
       "    <tr>\n",
       "      <th>3</th>\n",
       "      <td>ABW</td>\n",
       "      <td>2017</td>\n",
       "      <td>105361</td>\n",
       "    </tr>\n",
       "    <tr>\n",
       "      <th>4</th>\n",
       "      <td>ABW</td>\n",
       "      <td>2016</td>\n",
       "      <td>104865</td>\n",
       "    </tr>\n",
       "    <tr>\n",
       "      <th>...</th>\n",
       "      <td>...</td>\n",
       "      <td>...</td>\n",
       "      <td>...</td>\n",
       "    </tr>\n",
       "    <tr>\n",
       "      <th>995</th>\n",
       "      <td>CHE</td>\n",
       "      <td>2015</td>\n",
       "      <td>8282396</td>\n",
       "    </tr>\n",
       "    <tr>\n",
       "      <th>996</th>\n",
       "      <td>CHE</td>\n",
       "      <td>2014</td>\n",
       "      <td>8188649</td>\n",
       "    </tr>\n",
       "    <tr>\n",
       "      <th>997</th>\n",
       "      <td>CHE</td>\n",
       "      <td>2013</td>\n",
       "      <td>8089346</td>\n",
       "    </tr>\n",
       "    <tr>\n",
       "      <th>998</th>\n",
       "      <td>CHE</td>\n",
       "      <td>2012</td>\n",
       "      <td>7996861</td>\n",
       "    </tr>\n",
       "    <tr>\n",
       "      <th>999</th>\n",
       "      <td>CHE</td>\n",
       "      <td>2011</td>\n",
       "      <td>7912398</td>\n",
       "    </tr>\n",
       "  </tbody>\n",
       "</table>\n",
       "<p>1000 rows × 3 columns</p>\n",
       "</div>"
      ],
      "text/plain": [
       "    countryiso3code  date    value\n",
       "0               ABW  2020   106766\n",
       "1               ABW  2019   106310\n",
       "2               ABW  2018   105846\n",
       "3               ABW  2017   105361\n",
       "4               ABW  2016   104865\n",
       "..              ...   ...      ...\n",
       "995             CHE  2015  8282396\n",
       "996             CHE  2014  8188649\n",
       "997             CHE  2013  8089346\n",
       "998             CHE  2012  7996861\n",
       "999             CHE  2011  7912398\n",
       "\n",
       "[1000 rows x 3 columns]"
      ]
     },
     "execution_count": 56,
     "metadata": {},
     "output_type": "execute_result"
    }
   ],
   "source": [
    "lista_ids= list(trabajo['id'])\n",
    "\n",
    "url = 'http://api.worldbank.org/v2'\n",
    "indicador = 'SP.POP.TOTL'\n",
    "tiempo = '1991:2020'\n",
    "df = extraer(api_url=url,lista=lista_ids,indicador=indicador,tiempo=tiempo)\n",
    "df"
   ]
  },
  {
   "cell_type": "markdown",
   "metadata": {},
   "source": [
    "Selección de un solo país bajo estudio. Si se eligen todos los países la API tarda un poco más de 30 segundos en responder una vez terminado el ciclo for. Y esa carga inicial podría molestar al usuario final."
   ]
  },
  {
   "cell_type": "code",
   "execution_count": null,
   "metadata": {},
   "outputs": [],
   "source": [
    "paises=pd.read_csv('../datasets/paises.csv')\n",
    "\n",
    "seleccion = input(\"Ingrese un nombre de país: \")\n",
    "try:\n",
    "    pais = paises.loc[paises['country.value'].str.contains(seleccion, case=False),'countryiso3code'].values[0]\n",
    "except:\n",
    "    print(\"No se encontró el país, intente de nuevo\")"
   ]
  },
  {
   "cell_type": "code",
   "execution_count": null,
   "metadata": {},
   "outputs": [],
   "source": [
    "# Establecemos los parámetros que queremos acceder.\n",
    "indicador = 'SP.DYN.LE00.IN'\n",
    "#pais = 'all' # Está comentado porque lo recibe del bloque anterior\n",
    "iyear = '1980'\n",
    "fyear = '2022'\n",
    "\n",
    "# Página de la api y path al recurso solicitado\n",
    "api_url = ' http://api.worldbank.org/v2/es'\n",
    "path = f'/country/{pais}/indicator/{indicador}'\n",
    "\n",
    "url = api_url + path\n",
    "\n",
    "# Creamos el diccionario con los parametros \n",
    "# para el método get\n",
    "def consultar(pagina = 1):\n",
    "    args= {\n",
    "        \"date\":iyear+\":\"+fyear,\n",
    "        'page':pagina,\n",
    "        \"per_page\":1000,\n",
    "        \"format\":\"json\",\n",
    "        \"prefix\":\"Getdata\",\n",
    "    }\n",
    "    return requests.get(url,params=args).json()\n",
    "\n",
    "dict_data = consultar()"
   ]
  },
  {
   "cell_type": "code",
   "execution_count": null,
   "metadata": {},
   "outputs": [],
   "source": [
    "# La primera parte de la respuesta nos indica en \n",
    "# cuantas páginas de encuentra la información\n",
    "paginas=dict_data[0][\"pages\"]\n",
    "paginas # Retornamos el número de páginas"
   ]
  },
  {
   "cell_type": "code",
   "execution_count": null,
   "metadata": {},
   "outputs": [],
   "source": [
    "# La segunda parte nos retorna una lista de diccionarios \n",
    "# con la información que queríamos\n",
    "datos=dict_data[1]\n",
    "datos"
   ]
  },
  {
   "cell_type": "code",
   "execution_count": null,
   "metadata": {},
   "outputs": [],
   "source": [
    "# Agregamos los valores de las otras páginas, si existen a \n",
    "# nuestra lista de diccionarios\n",
    "for pagina in range(2,paginas+1):\n",
    "    datos.extend(consultar(pagina)[1])"
   ]
  },
  {
   "cell_type": "code",
   "execution_count": null,
   "metadata": {},
   "outputs": [],
   "source": [
    "# Verifico que lo obtenido sea una lista de diccionarios\n",
    "print(type(datos))\n",
    "print(type(datos[1]))"
   ]
  },
  {
   "cell_type": "code",
   "execution_count": null,
   "metadata": {},
   "outputs": [],
   "source": [
    "# Creo el DataFrame con todos los datos\n",
    "data = pd.json_normalize(datos)"
   ]
  },
  {
   "cell_type": "code",
   "execution_count": null,
   "metadata": {},
   "outputs": [],
   "source": [
    "# Visualizo información relevante unicamente\n",
    "data[['date','value','country.value']]"
   ]
  },
  {
   "cell_type": "code",
   "execution_count": null,
   "metadata": {},
   "outputs": [],
   "source": [
    "# Creo un dataset para trabajar offline\n",
    "# data.to_csv('../datasets/esperanza_de_vida.csv')"
   ]
  },
  {
   "cell_type": "markdown",
   "metadata": {},
   "source": [
    "# EDA"
   ]
  },
  {
   "cell_type": "markdown",
   "metadata": {},
   "source": [
    "Esto se hace en la primera ejecución del código, cuando se corría con todos los países"
   ]
  },
  {
   "cell_type": "code",
   "execution_count": null,
   "metadata": {},
   "outputs": [],
   "source": [
    "paises = data[['countryiso3code','country.value']].groupby('countryiso3code').first()\n",
    "\n",
    "# Regreso el index creado por agrupar a una columna\n",
    "paises.reset_index(inplace=True)\n",
    "\n",
    "# Reemplazo todos los valores faltantes por NaN\n",
    "paises.replace(\"\", float(\"NaN\"), inplace=True)\n",
    "\n",
    "paises.dropna(inplace=True)\n",
    "\n",
    "# Creo el dataset de países que me va a servir de selección\n",
    "# paises.to_csv('../datasets/paises.csv')"
   ]
  },
  {
   "cell_type": "markdown",
   "metadata": {},
   "source": [
    "Verifico los datos faltantes en la respuesta de la API en español. Son dós nombres de países o grupo de países, con el código AFW y AFE, para Africa ocidental y central y Africa del este y del sur, respectivamente. En resumen: Regiones de Africa. No sé si lo vamos a incluir"
   ]
  },
  {
   "cell_type": "code",
   "execution_count": null,
   "metadata": {},
   "outputs": [],
   "source": [
    "data[data.countryiso3code.str.contains('AFE')]"
   ]
  },
  {
   "cell_type": "markdown",
   "metadata": {},
   "source": [
    "## Búsqueda de indicadores"
   ]
  },
  {
   "cell_type": "code",
   "execution_count": null,
   "metadata": {},
   "outputs": [],
   "source": [
    "url='http://api.worldbank.org/v2/es/indicator'\n",
    "def consultar_indicadores(pagina=1):\n",
    "    argumentos= {\n",
    "        'page':pagina,\n",
    "        'per_page':10000,\n",
    "        'format':'json'\n",
    "    }\n",
    "    return requests.get(url,params=argumentos).json()\n",
    "\n",
    "indicadores = consultar_indicadores()\n",
    "\n",
    "# la primera parte de la respuesta \n",
    "# contiene información sobre las páginas\n",
    "paginas = indicadores[0][\"pages\"]\n",
    "\n",
    "# Reasigno la variable únicamente a los datos de mi interés \n",
    "# es una lista de diccionarios\n",
    "indicadores = indicadores[1]\n",
    "\n",
    "# recorro todás las páginas que tiene la respuesta \n",
    "# y lo voy anexando a la lista principal\n",
    "for pagina in range(2, paginas+1):\n",
    "    indicadores.extend(consultar_indicadores(pagina)[1])\n",
    "indicators = pd.json_normalize(indicadores)\n",
    "\n",
    "# Dev data para trabajo offline\n",
    "# indicators.to_csv('../datasets/indicadores.csv')\n",
    "\n",
    "interes = input(\"Indicador de interés: \")\n",
    "indicators.loc[indicators.name.str.contains(interes,case=False),\n",
    "     ['id','name','sourceNote']]#.to_csv('temp.csv')"
   ]
  },
  {
   "cell_type": "markdown",
   "metadata": {},
   "source": []
  }
 ],
 "metadata": {
  "kernelspec": {
   "display_name": "Python 3 (ipykernel)",
   "language": "python",
   "name": "python3"
  },
  "language_info": {
   "codemirror_mode": {
    "name": "ipython",
    "version": 3
   },
   "file_extension": ".py",
   "mimetype": "text/x-python",
   "name": "python",
   "nbconvert_exporter": "python",
   "pygments_lexer": "ipython3",
   "version": "3.8.10"
  },
  "vscode": {
   "interpreter": {
    "hash": "916dbcbb3f70747c44a77c7bcd40155683ae19c65e1c03b4aa3499c5328201f1"
   }
  }
 },
 "nbformat": 4,
 "nbformat_minor": 2
}
