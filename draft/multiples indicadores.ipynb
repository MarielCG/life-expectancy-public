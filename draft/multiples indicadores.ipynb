{
 "cells": [
  {
   "cell_type": "code",
   "execution_count": 55,
   "metadata": {},
   "outputs": [],
   "source": [
    "import requests\n",
    "import pandas as pd"
   ]
  },
  {
   "cell_type": "code",
   "execution_count": 56,
   "metadata": {},
   "outputs": [],
   "source": [
    "def consultar(pais: str, indicador:str, pagina:int = 1, iyear:int = 1990, fyear:int = 2022):\n",
    "    '''Función que contacta a la API y devuelve la respuesta\n",
    "    que brinda la misma en formato json'''\n",
    "\n",
    "    # Página de la api y path al recurso solicitado\n",
    "    api_url = 'http://api.worldbank.org/v2/es'\n",
    "    path = f'/country/{pais}/indicator/{indicador}'\n",
    "    url = api_url + path\n",
    "\n",
    "    # Creamos el diccionario con los parametros \n",
    "    # para el método get\n",
    "    args= {\n",
    "        \"date\":str(iyear)+\":\"+str(fyear),\n",
    "        'page':pagina,\n",
    "        \"per_page\":1000,\n",
    "        \"format\":\"json\",\n",
    "        \"prefix\":\"Getdata\",\n",
    "    }\n",
    "   \n",
    "    return requests.get(url,params=args).json()"
   ]
  },
  {
   "cell_type": "code",
   "execution_count": 57,
   "metadata": {},
   "outputs": [],
   "source": [
    "def consultar_por_pais():\n",
    "    '''Función que retorna un código de país,\n",
    "    para, en caso que se quiera o se solicite,\n",
    "    consultar en tiempo real la API'''\n",
    "    paises=pd.read_parquet('../datasets/paises.parquet')\n",
    "\n",
    "    seleccion = input(\"Ingrese un nombre de país: \")\n",
    "    try:\n",
    "        pais = paises.loc[paises.name.str.contains(seleccion, case=False),'id'].values[0]\n",
    "    except:\n",
    "        print(\"No se encontró el país, intente de nuevo\")"
   ]
  },
  {
   "cell_type": "code",
   "execution_count": 58,
   "metadata": {},
   "outputs": [
    {
     "data": {
      "text/html": [
       "<div>\n",
       "<style scoped>\n",
       "    .dataframe tbody tr th:only-of-type {\n",
       "        vertical-align: middle;\n",
       "    }\n",
       "\n",
       "    .dataframe tbody tr th {\n",
       "        vertical-align: top;\n",
       "    }\n",
       "\n",
       "    .dataframe thead th {\n",
       "        text-align: right;\n",
       "    }\n",
       "</style>\n",
       "<table border=\"1\" class=\"dataframe\">\n",
       "  <thead>\n",
       "    <tr style=\"text-align: right;\">\n",
       "      <th></th>\n",
       "      <th>Unnamed: 0</th>\n",
       "      <th>id</th>\n",
       "      <th>name</th>\n",
       "      <th>sourceNote</th>\n",
       "    </tr>\n",
       "  </thead>\n",
       "  <tbody>\n",
       "    <tr>\n",
       "      <th>0</th>\n",
       "      <td>0</td>\n",
       "      <td>SP.DYN.LE00.IN</td>\n",
       "      <td>Esperanza de vida al nacer, total (años)</td>\n",
       "      <td>La esperanza de vida al nacer indica la cantid...</td>\n",
       "    </tr>\n",
       "    <tr>\n",
       "      <th>1</th>\n",
       "      <td>1</td>\n",
       "      <td>SP.DYN.LE00.FE.IN</td>\n",
       "      <td>Esperanza de vida al nacer, mujeres (años)</td>\n",
       "      <td>La esperanza de vida al nacer indica la cantid...</td>\n",
       "    </tr>\n",
       "    <tr>\n",
       "      <th>2</th>\n",
       "      <td>1</td>\n",
       "      <td>SP.DYN.LE00.MA.IN</td>\n",
       "      <td>Esperanza de vida al nacer, varones (años)</td>\n",
       "      <td>La esperanza de vida al nacer indica la cantid...</td>\n",
       "    </tr>\n",
       "    <tr>\n",
       "      <th>3</th>\n",
       "      <td>3</td>\n",
       "      <td>3.0.Gini</td>\n",
       "      <td>Coeficiente de Gini</td>\n",
       "      <td>El coeficiente de Gini es la medida de desigua...</td>\n",
       "    </tr>\n",
       "    <tr>\n",
       "      <th>4</th>\n",
       "      <td>4</td>\n",
       "      <td>SE.XPD.TOTL.GD.ZS</td>\n",
       "      <td>Gasto público en educación, total (% del PIB)</td>\n",
       "      <td>El gasto público en educación como porcentaje ...</td>\n",
       "    </tr>\n",
       "  </tbody>\n",
       "</table>\n",
       "</div>"
      ],
      "text/plain": [
       "   Unnamed: 0                 id  \\\n",
       "0           0     SP.DYN.LE00.IN   \n",
       "1           1  SP.DYN.LE00.FE.IN   \n",
       "2           1  SP.DYN.LE00.MA.IN   \n",
       "3           3           3.0.Gini   \n",
       "4           4  SE.XPD.TOTL.GD.ZS   \n",
       "\n",
       "                                            name  \\\n",
       "0       Esperanza de vida al nacer, total (años)   \n",
       "1     Esperanza de vida al nacer, mujeres (años)   \n",
       "2     Esperanza de vida al nacer, varones (años)   \n",
       "3                            Coeficiente de Gini   \n",
       "4  Gasto público en educación, total (% del PIB)   \n",
       "\n",
       "                                          sourceNote  \n",
       "0  La esperanza de vida al nacer indica la cantid...  \n",
       "1  La esperanza de vida al nacer indica la cantid...  \n",
       "2  La esperanza de vida al nacer indica la cantid...  \n",
       "3  El coeficiente de Gini es la medida de desigua...  \n",
       "4  El gasto público en educación como porcentaje ...  "
      ]
     },
     "execution_count": 58,
     "metadata": {},
     "output_type": "execute_result"
    }
   ],
   "source": [
    "# Estos indicadores fueron seleccionados \n",
    "# de forma manual al final del documento\n",
    "indicadores = pd.read_csv('../datasets/indicadores_seleccionados.csv')\n",
    "indicadores.head()"
   ]
  },
  {
   "cell_type": "code",
   "execution_count": 59,
   "metadata": {},
   "outputs": [],
   "source": [
    "tuplas = [(a,b) for a,b in zip(indicadores.id.to_list(), \n",
    "          indicadores.name.to_list())]"
   ]
  },
  {
   "cell_type": "code",
   "execution_count": 60,
   "metadata": {},
   "outputs": [],
   "source": [
    "def carga_incremental(pais, indicador):\n",
    "    '''Función que a partir de un país y un indicador \n",
    "    llama a consultar y establece qué tipo de contenido tiene\n",
    "    según eso devuelve o no un dataframe con todos los datos'''\n",
    "\n",
    "\n",
    "    consulta = consultar(pais, indicador)\n",
    "    try:\n",
    "        # La primera parte de la respuesta nos indica en \n",
    "        # cuantas páginas de encuentra la información\n",
    "        paginas = consulta[0][\"pages\"]\n",
    "\n",
    "        # La segunda parte nos retorna una lista de \n",
    "        # diccionarios con la información que queríamos\n",
    "        datos=consulta[1]\n",
    "\n",
    "    except:\n",
    "        print('No hay datos para:', indicador, pais)\n",
    "        pass\n",
    "    else:\n",
    "        if paginas >= 1:\n",
    "            # Agregamos los valores de las otras páginas a\n",
    "            # nuestra lista de diccionarios\n",
    "            for pagina in range(2,paginas+1):\n",
    "                datos.extend(consultar(pais, indicador, pagina)[1])\n",
    "\n",
    "            # Creo el DataFrame con todos los datos\n",
    "            data = pd.json_normalize(datos)\n",
    "            \n",
    "            # Me quedo con información relevante unicamente\n",
    "            #data = data[['countryiso3code','country.value','date','value']]\n",
    "            #data.rename(columns={'value':nombre},inplace=True)\n",
    "        \n",
    "        return data\n"
   ]
  },
  {
   "cell_type": "code",
   "execution_count": 62,
   "metadata": {},
   "outputs": [
    {
     "name": "stdout",
     "output_type": "stream",
     "text": [
      "SP.DYN.LE00.IN\n",
      "SP.DYN.LE00.FE.IN\n",
      "SP.DYN.LE00.MA.IN\n",
      "3.0.Gini\n",
      "SE.XPD.TOTL.GD.ZS\n",
      "SE.COM.DURS\n",
      "6.0.GDP_current\n",
      "NY.GDP.PCAP.CD\n",
      "NY.GDP.MKTP.PP.CD\n",
      "IQ.SCI.OVRL\n",
      "SP.POP.TOTL.FE.ZS\n",
      "SP.POP.TOTL.MA.ZS\n"
     ]
    }
   ],
   "source": [
    "for indicador, _ in tuplas:\n",
    "    print(indicador)\n",
    "\n",
    "    datos = carga_incremental(pais='all', indicador=indicador)\n",
    "\n",
    "    # Guardo el dataframe resultante\n",
    "    datos.to_parquet(f'../datasets/df_TWB_{indicador}.parquet')\n"
   ]
  },
  {
   "cell_type": "markdown",
   "metadata": {},
   "source": [
    "Función para agregar todos los indicadores a un dataframe y proceder al análisis de características"
   ]
  },
  {
   "cell_type": "code",
   "execution_count": null,
   "metadata": {},
   "outputs": [],
   "source": [
    "def merge_de_características():\n",
    "    '''Función para unir las diferentes características\n",
    "    de diferentes dataframes en uno solo'''\n",
    "    indicador, nombre = tuplas.pop(0)\n",
    "    datos = carga_incremental(pais, indicador, nombre)\n",
    "\n",
    "    for indicador, nombre in tuplas:\n",
    "        for pais in paises:\n",
    "            print(indicador)\n",
    "            try:\n",
    "                a_sumar = carga_incremental(indicador, nombre)\n",
    "                a_sumar = a_sumar[['date', nombre]]\n",
    "            except TypeError:\n",
    "                pass\n",
    "            else:\n",
    "                datos = datos.merge(a_sumar, how='left', on='date')"
   ]
  },
  {
   "cell_type": "markdown",
   "metadata": {},
   "source": [
    "# ETL"
   ]
  },
  {
   "cell_type": "markdown",
   "metadata": {},
   "source": [
    "## Búsqueda de indicadores"
   ]
  },
  {
   "cell_type": "markdown",
   "metadata": {},
   "source": [
    "Procedo a armar la lista de indicadores que estarán bajo estudio"
   ]
  },
  {
   "cell_type": "code",
   "execution_count": 54,
   "metadata": {},
   "outputs": [],
   "source": [
    "trabajo = pd.DataFrame()"
   ]
  },
  {
   "cell_type": "code",
   "execution_count": 47,
   "metadata": {},
   "outputs": [],
   "source": [
    "indicators = pd.read_csv('../datasets/indicadores.csv')\n",
    "\n",
    "# Se completó los valores faltantes con 'na'\n",
    "# para poder buscar sobre el dataframe\n",
    "indicators.fillna('na',inplace=True)"
   ]
  },
  {
   "cell_type": "markdown",
   "metadata": {},
   "source": [
    "Buscamos de forma manual el in"
   ]
  },
  {
   "cell_type": "code",
   "execution_count": 13,
   "metadata": {},
   "outputs": [
    {
     "data": {
      "text/html": [
       "<div>\n",
       "<style scoped>\n",
       "    .dataframe tbody tr th:only-of-type {\n",
       "        vertical-align: middle;\n",
       "    }\n",
       "\n",
       "    .dataframe tbody tr th {\n",
       "        vertical-align: top;\n",
       "    }\n",
       "\n",
       "    .dataframe thead th {\n",
       "        text-align: right;\n",
       "    }\n",
       "</style>\n",
       "<table border=\"1\" class=\"dataframe\">\n",
       "  <thead>\n",
       "    <tr style=\"text-align: right;\">\n",
       "      <th></th>\n",
       "      <th>id</th>\n",
       "      <th>name</th>\n",
       "      <th>sourceNote</th>\n",
       "    </tr>\n",
       "  </thead>\n",
       "  <tbody>\n",
       "    <tr>\n",
       "      <th>179</th>\n",
       "      <td>3.0.Gini</td>\n",
       "      <td>Coeficiente de Gini</td>\n",
       "      <td>El coeficiente de Gini es la medida de desigua...</td>\n",
       "    </tr>\n",
       "    <tr>\n",
       "      <th>180</th>\n",
       "      <td>3.0.Gini_nozero</td>\n",
       "      <td>Coeficiente de Gini (Ingreso diferente de cero)</td>\n",
       "      <td>El coeficiente de Gini es la medida de desigua...</td>\n",
       "    </tr>\n",
       "    <tr>\n",
       "      <th>192</th>\n",
       "      <td>3.1.Gini</td>\n",
       "      <td>Gini, Rural</td>\n",
       "      <td>El coeficiente de Gini es la medida de desigua...</td>\n",
       "    </tr>\n",
       "    <tr>\n",
       "      <th>205</th>\n",
       "      <td>3.2.Gini</td>\n",
       "      <td>Gini, Urbano</td>\n",
       "      <td>El coeficiente de Gini es la medida de desigua...</td>\n",
       "    </tr>\n",
       "    <tr>\n",
       "      <th>17088</th>\n",
       "      <td>SI.POV.GINI</td>\n",
       "      <td>Índice de Gini</td>\n",
       "      <td>El índice de Gini mide hasta qué punto la dist...</td>\n",
       "    </tr>\n",
       "  </tbody>\n",
       "</table>\n",
       "</div>"
      ],
      "text/plain": [
       "                    id                                             name  \\\n",
       "179           3.0.Gini                              Coeficiente de Gini   \n",
       "180    3.0.Gini_nozero  Coeficiente de Gini (Ingreso diferente de cero)   \n",
       "192           3.1.Gini                                      Gini, Rural   \n",
       "205           3.2.Gini                                     Gini, Urbano   \n",
       "17088      SI.POV.GINI                                   Índice de Gini   \n",
       "\n",
       "                                              sourceNote  \n",
       "179    El coeficiente de Gini es la medida de desigua...  \n",
       "180    El coeficiente de Gini es la medida de desigua...  \n",
       "192    El coeficiente de Gini es la medida de desigua...  \n",
       "205    El coeficiente de Gini es la medida de desigua...  \n",
       "17088  El índice de Gini mide hasta qué punto la dist...  "
      ]
     },
     "execution_count": 13,
     "metadata": {},
     "output_type": "execute_result"
    }
   ],
   "source": [
    "interes = input(\"Indicador de interés: \")\n",
    "indicators.loc[indicators.name.str.contains(interes,case=False),\n",
    "     ['id','name','sourceNote']]#.to_csv('temp.csv')"
   ]
  },
  {
   "cell_type": "code",
   "execution_count": 14,
   "metadata": {},
   "outputs": [
    {
     "data": {
      "text/html": [
       "<div>\n",
       "<style scoped>\n",
       "    .dataframe tbody tr th:only-of-type {\n",
       "        vertical-align: middle;\n",
       "    }\n",
       "\n",
       "    .dataframe tbody tr th {\n",
       "        vertical-align: top;\n",
       "    }\n",
       "\n",
       "    .dataframe thead th {\n",
       "        text-align: right;\n",
       "    }\n",
       "</style>\n",
       "<table border=\"1\" class=\"dataframe\">\n",
       "  <thead>\n",
       "    <tr style=\"text-align: right;\">\n",
       "      <th></th>\n",
       "      <th>id</th>\n",
       "      <th>name</th>\n",
       "      <th>sourceNote</th>\n",
       "    </tr>\n",
       "  </thead>\n",
       "  <tbody>\n",
       "    <tr>\n",
       "      <th>179</th>\n",
       "      <td>3.0.Gini</td>\n",
       "      <td>Coeficiente de Gini</td>\n",
       "      <td>El coeficiente de Gini es la medida de desigua...</td>\n",
       "    </tr>\n",
       "  </tbody>\n",
       "</table>\n",
       "</div>"
      ],
      "text/plain": [
       "           id                 name  \\\n",
       "179  3.0.Gini  Coeficiente de Gini   \n",
       "\n",
       "                                            sourceNote  \n",
       "179  El coeficiente de Gini es la medida de desigua...  "
      ]
     },
     "execution_count": 14,
     "metadata": {},
     "output_type": "execute_result"
    }
   ],
   "source": [
    "interes = input(\"Indicador de interés: \")\n",
    "pick = indicators.loc[indicators.id == interes,\n",
    "     ['id','name','sourceNote']]\n",
    "pick"
   ]
  },
  {
   "cell_type": "code",
   "execution_count": 16,
   "metadata": {},
   "outputs": [],
   "source": [
    "trabajo = pd.concat([trabajo, pick], ignore_index=True)"
   ]
  },
  {
   "cell_type": "code",
   "execution_count": 17,
   "metadata": {},
   "outputs": [
    {
     "data": {
      "text/html": [
       "<div>\n",
       "<style scoped>\n",
       "    .dataframe tbody tr th:only-of-type {\n",
       "        vertical-align: middle;\n",
       "    }\n",
       "\n",
       "    .dataframe tbody tr th {\n",
       "        vertical-align: top;\n",
       "    }\n",
       "\n",
       "    .dataframe thead th {\n",
       "        text-align: right;\n",
       "    }\n",
       "</style>\n",
       "<table border=\"1\" class=\"dataframe\">\n",
       "  <thead>\n",
       "    <tr style=\"text-align: right;\">\n",
       "      <th></th>\n",
       "      <th>id</th>\n",
       "      <th>name</th>\n",
       "      <th>sourceNote</th>\n",
       "    </tr>\n",
       "  </thead>\n",
       "  <tbody>\n",
       "    <tr>\n",
       "      <th>0</th>\n",
       "      <td>3.0.Gini</td>\n",
       "      <td>Coeficiente de Gini</td>\n",
       "      <td>El coeficiente de Gini es la medida de desigua...</td>\n",
       "    </tr>\n",
       "  </tbody>\n",
       "</table>\n",
       "</div>"
      ],
      "text/plain": [
       "         id                 name  \\\n",
       "0  3.0.Gini  Coeficiente de Gini   \n",
       "\n",
       "                                          sourceNote  \n",
       "0  El coeficiente de Gini es la medida de desigua...  "
      ]
     },
     "execution_count": 17,
     "metadata": {},
     "output_type": "execute_result"
    }
   ],
   "source": [
    "trabajo#.to_csv('../datasets/indicadores_seleccionados.csv')"
   ]
  }
 ],
 "metadata": {
  "kernelspec": {
   "display_name": "Python 3.10.6 ('.venv': venv)",
   "language": "python",
   "name": "python3"
  },
  "language_info": {
   "codemirror_mode": {
    "name": "ipython",
    "version": 3
   },
   "file_extension": ".py",
   "mimetype": "text/x-python",
   "name": "python",
   "nbconvert_exporter": "python",
   "pygments_lexer": "ipython3",
   "version": "3.10.6"
  },
  "vscode": {
   "interpreter": {
    "hash": "1a870c4107f8e48f8203b47bc0a16c443c8212083e29931ccf1e55a5d38e3b4d"
   }
  }
 },
 "nbformat": 4,
 "nbformat_minor": 2
}
