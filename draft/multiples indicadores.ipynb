{
 "cells": [
  {
   "cell_type": "markdown",
   "metadata": {},
   "source": [
    "# Recolección de datos"
   ]
  },
  {
   "cell_type": "code",
   "execution_count": 1,
   "metadata": {},
   "outputs": [
    {
     "data": {
      "application/javascript": [
       "\n",
       "            setTimeout(function() {\n",
       "                var nbb_cell_id = 1;\n",
       "                var nbb_unformatted_code = \"# We are using black as a code formatter\\n%load_ext nb_black\";\n",
       "                var nbb_formatted_code = \"# We are using black as a code formatter\\n%load_ext nb_black\";\n",
       "                var nbb_cells = Jupyter.notebook.get_cells();\n",
       "                for (var i = 0; i < nbb_cells.length; ++i) {\n",
       "                    if (nbb_cells[i].input_prompt_number == nbb_cell_id) {\n",
       "                        if (nbb_cells[i].get_text() == nbb_unformatted_code) {\n",
       "                             nbb_cells[i].set_text(nbb_formatted_code);\n",
       "                        }\n",
       "                        break;\n",
       "                    }\n",
       "                }\n",
       "            }, 500);\n",
       "            "
      ],
      "text/plain": [
       "<IPython.core.display.Javascript object>"
      ]
     },
     "metadata": {},
     "output_type": "display_data"
    }
   ],
   "source": [
    "# We are using black as a code formatter\n",
    "%load_ext nb_black"
   ]
  },
  {
   "cell_type": "code",
   "execution_count": 2,
   "metadata": {},
   "outputs": [
    {
     "data": {
      "application/javascript": [
       "\n",
       "            setTimeout(function() {\n",
       "                var nbb_cell_id = 2;\n",
       "                var nbb_unformatted_code = \"import requests\\nimport pandas as pd\";\n",
       "                var nbb_formatted_code = \"import requests\\nimport pandas as pd\";\n",
       "                var nbb_cells = Jupyter.notebook.get_cells();\n",
       "                for (var i = 0; i < nbb_cells.length; ++i) {\n",
       "                    if (nbb_cells[i].input_prompt_number == nbb_cell_id) {\n",
       "                        if (nbb_cells[i].get_text() == nbb_unformatted_code) {\n",
       "                             nbb_cells[i].set_text(nbb_formatted_code);\n",
       "                        }\n",
       "                        break;\n",
       "                    }\n",
       "                }\n",
       "            }, 500);\n",
       "            "
      ],
      "text/plain": [
       "<IPython.core.display.Javascript object>"
      ]
     },
     "metadata": {},
     "output_type": "display_data"
    }
   ],
   "source": [
    "import requests\n",
    "import pandas as pd"
   ]
  },
  {
   "cell_type": "markdown",
   "metadata": {},
   "source": [
    "## Clasificación de países por nivel de ingreso"
   ]
  },
  {
   "cell_type": "code",
   "execution_count": 3,
   "metadata": {},
   "outputs": [
    {
     "data": {
      "text/html": [
       "<div>\n",
       "<style scoped>\n",
       "    .dataframe tbody tr th:only-of-type {\n",
       "        vertical-align: middle;\n",
       "    }\n",
       "\n",
       "    .dataframe tbody tr th {\n",
       "        vertical-align: top;\n",
       "    }\n",
       "\n",
       "    .dataframe thead th {\n",
       "        text-align: right;\n",
       "    }\n",
       "</style>\n",
       "<table border=\"1\" class=\"dataframe\">\n",
       "  <thead>\n",
       "    <tr style=\"text-align: right;\">\n",
       "      <th></th>\n",
       "      <th>value</th>\n",
       "      <th>id</th>\n",
       "    </tr>\n",
       "  </thead>\n",
       "  <tbody>\n",
       "    <tr>\n",
       "      <th>0</th>\n",
       "      <td>High income</td>\n",
       "      <td>HIC</td>\n",
       "    </tr>\n",
       "    <tr>\n",
       "      <th>1</th>\n",
       "      <td>Not classified</td>\n",
       "      <td>INX</td>\n",
       "    </tr>\n",
       "    <tr>\n",
       "      <th>2</th>\n",
       "      <td>Low income</td>\n",
       "      <td>LIC</td>\n",
       "    </tr>\n",
       "    <tr>\n",
       "      <th>3</th>\n",
       "      <td>Lower middle income</td>\n",
       "      <td>LMC</td>\n",
       "    </tr>\n",
       "    <tr>\n",
       "      <th>4</th>\n",
       "      <td>Low &amp; middle income</td>\n",
       "      <td>LMY</td>\n",
       "    </tr>\n",
       "    <tr>\n",
       "      <th>5</th>\n",
       "      <td>Middle income</td>\n",
       "      <td>MIC</td>\n",
       "    </tr>\n",
       "    <tr>\n",
       "      <th>6</th>\n",
       "      <td>Upper middle income</td>\n",
       "      <td>UMC</td>\n",
       "    </tr>\n",
       "  </tbody>\n",
       "</table>\n",
       "</div>"
      ],
      "text/plain": [
       "                 value   id\n",
       "0          High income  HIC\n",
       "1       Not classified  INX\n",
       "2           Low income  LIC\n",
       "3  Lower middle income  LMC\n",
       "4  Low & middle income  LMY\n",
       "5        Middle income  MIC\n",
       "6  Upper middle income  UMC"
      ]
     },
     "execution_count": 3,
     "metadata": {},
     "output_type": "execute_result"
    },
    {
     "data": {
      "application/javascript": [
       "\n",
       "            setTimeout(function() {\n",
       "                var nbb_cell_id = 3;\n",
       "                var nbb_unformatted_code = \"#Aqui vemos la lista de niveles de Ingreso y sus respectivos c\\u00f3digos\\nurl = 'http://api.worldbank.org/v2/incomelevel' \\nargs = {\\\"format\\\":\\\"json\\\", \\\"prefix\\\":\\\"Getdata\\\"}\\ndic_Income_Level = requests.get(url, params=args)\\ndatos = dic_Income_Level.json()[1]\\ndata = pd.json_normalize(datos)\\ndata[['value', 'id']]\";\n",
       "                var nbb_formatted_code = \"# Aqui vemos la lista de niveles de Ingreso y sus respectivos c\\u00f3digos\\nurl = \\\"http://api.worldbank.org/v2/incomelevel\\\"\\nargs = {\\\"format\\\": \\\"json\\\", \\\"prefix\\\": \\\"Getdata\\\"}\\ndic_Income_Level = requests.get(url, params=args)\\ndatos = dic_Income_Level.json()[1]\\ndata = pd.json_normalize(datos)\\ndata[[\\\"value\\\", \\\"id\\\"]]\";\n",
       "                var nbb_cells = Jupyter.notebook.get_cells();\n",
       "                for (var i = 0; i < nbb_cells.length; ++i) {\n",
       "                    if (nbb_cells[i].input_prompt_number == nbb_cell_id) {\n",
       "                        if (nbb_cells[i].get_text() == nbb_unformatted_code) {\n",
       "                             nbb_cells[i].set_text(nbb_formatted_code);\n",
       "                        }\n",
       "                        break;\n",
       "                    }\n",
       "                }\n",
       "            }, 500);\n",
       "            "
      ],
      "text/plain": [
       "<IPython.core.display.Javascript object>"
      ]
     },
     "metadata": {},
     "output_type": "display_data"
    }
   ],
   "source": [
    "# Aqui vemos la lista de niveles de Ingreso y sus respectivos códigos\n",
    "url = \"http://api.worldbank.org/v2/incomelevel\"\n",
    "args = {\"format\": \"json\", \"prefix\": \"Getdata\"}\n",
    "dic_Income_Level = requests.get(url, params=args)\n",
    "datos = dic_Income_Level.json()[1]\n",
    "data = pd.json_normalize(datos)\n",
    "data[[\"value\", \"id\"]]"
   ]
  },
  {
   "cell_type": "code",
   "execution_count": 5,
   "metadata": {},
   "outputs": [
    {
     "data": {
      "application/javascript": [
       "\n",
       "            setTimeout(function() {\n",
       "                var nbb_cell_id = 5;\n",
       "                var nbb_unformatted_code = \"incomes = ['HIC', 'UMC', 'LMC', 'LIC','INX']\\nnivel_ingreso = pd.DataFrame()\\nfor income in incomes:\\n    url = 'http://api.worldbank.org/v2/country' #Aqui vemos la lista de niveles de Ingreso y sus respectivos c\\u00f3digos\\n    args = {\\\"format\\\":\\\"json\\\", \\\"prefix\\\":\\\"Getdata\\\", \\\"incomelevel\\\":income}\\n    dic_Income_Level = requests.get(url, params=args)\\n    datos = dic_Income_Level.json()[1]\\n    data = pd.json_normalize(datos)\\n    #data = data[['name', 'id', 'region.value', 'incomeLevel.value']]\\n    nivel_ingreso = pd.concat([nivel_ingreso, data], ignore_index=True)\";\n",
       "                var nbb_formatted_code = \"incomes = [\\\"HIC\\\", \\\"UMC\\\", \\\"LMC\\\", \\\"LIC\\\", \\\"INX\\\"]\\nnivel_ingreso = pd.DataFrame()\\nfor income in incomes:\\n    url = \\\"http://api.worldbank.org/v2/country\\\"  # Aqui vemos la lista de niveles de Ingreso y sus respectivos c\\u00f3digos\\n    args = {\\\"format\\\": \\\"json\\\", \\\"prefix\\\": \\\"Getdata\\\", \\\"incomelevel\\\": income}\\n    dic_Income_Level = requests.get(url, params=args)\\n    datos = dic_Income_Level.json()[1]\\n    data = pd.json_normalize(datos)\\n    # data = data[['name', 'id', 'region.value', 'incomeLevel.value']]\\n    nivel_ingreso = pd.concat([nivel_ingreso, data], ignore_index=True)\";\n",
       "                var nbb_cells = Jupyter.notebook.get_cells();\n",
       "                for (var i = 0; i < nbb_cells.length; ++i) {\n",
       "                    if (nbb_cells[i].input_prompt_number == nbb_cell_id) {\n",
       "                        if (nbb_cells[i].get_text() == nbb_unformatted_code) {\n",
       "                             nbb_cells[i].set_text(nbb_formatted_code);\n",
       "                        }\n",
       "                        break;\n",
       "                    }\n",
       "                }\n",
       "            }, 500);\n",
       "            "
      ],
      "text/plain": [
       "<IPython.core.display.Javascript object>"
      ]
     },
     "metadata": {},
     "output_type": "display_data"
    }
   ],
   "source": [
    "incomes = ['HIC', 'UMC', 'LMC', 'LIC','INX']\n",
    "nivel_ingreso = pd.DataFrame()\n",
    "for income in incomes:\n",
    "    url = 'http://api.worldbank.org/v2/country' #Aqui vemos la lista de niveles de Ingreso y sus respectivos códigos\n",
    "    args = {\"format\":\"json\", \"prefix\":\"Getdata\", \"incomelevel\":income}\n",
    "    dic_Income_Level = requests.get(url, params=args)\n",
    "    datos = dic_Income_Level.json()[1]\n",
    "    data = pd.json_normalize(datos)\n",
    "    #data = data[['name', 'id', 'region.value', 'incomeLevel.value']]\n",
    "    nivel_ingreso = pd.concat([nivel_ingreso, data], ignore_index=True)\n"
   ]
  },
  {
   "cell_type": "code",
   "execution_count": 6,
   "metadata": {},
   "outputs": [
    {
     "data": {
      "text/html": [
       "<div>\n",
       "<style scoped>\n",
       "    .dataframe tbody tr th:only-of-type {\n",
       "        vertical-align: middle;\n",
       "    }\n",
       "\n",
       "    .dataframe tbody tr th {\n",
       "        vertical-align: top;\n",
       "    }\n",
       "\n",
       "    .dataframe thead th {\n",
       "        text-align: right;\n",
       "    }\n",
       "</style>\n",
       "<table border=\"1\" class=\"dataframe\">\n",
       "  <thead>\n",
       "    <tr style=\"text-align: right;\">\n",
       "      <th></th>\n",
       "      <th>id</th>\n",
       "      <th>iso2Code</th>\n",
       "      <th>name</th>\n",
       "      <th>capitalCity</th>\n",
       "      <th>longitude</th>\n",
       "      <th>latitude</th>\n",
       "      <th>region.id</th>\n",
       "      <th>region.iso2code</th>\n",
       "      <th>region.value</th>\n",
       "      <th>adminregion.id</th>\n",
       "      <th>adminregion.iso2code</th>\n",
       "      <th>adminregion.value</th>\n",
       "      <th>incomeLevel.id</th>\n",
       "      <th>incomeLevel.iso2code</th>\n",
       "      <th>incomeLevel.value</th>\n",
       "      <th>lendingType.id</th>\n",
       "      <th>lendingType.iso2code</th>\n",
       "      <th>lendingType.value</th>\n",
       "    </tr>\n",
       "  </thead>\n",
       "  <tbody>\n",
       "    <tr>\n",
       "      <th>0</th>\n",
       "      <td>ABW</td>\n",
       "      <td>AW</td>\n",
       "      <td>Aruba</td>\n",
       "      <td>Oranjestad</td>\n",
       "      <td>-70.0167</td>\n",
       "      <td>12.5167</td>\n",
       "      <td>LCN</td>\n",
       "      <td>ZJ</td>\n",
       "      <td>Latin America &amp; Caribbean</td>\n",
       "      <td></td>\n",
       "      <td></td>\n",
       "      <td></td>\n",
       "      <td>HIC</td>\n",
       "      <td>XD</td>\n",
       "      <td>High income</td>\n",
       "      <td>LNX</td>\n",
       "      <td>XX</td>\n",
       "      <td>Not classified</td>\n",
       "    </tr>\n",
       "    <tr>\n",
       "      <th>1</th>\n",
       "      <td>AND</td>\n",
       "      <td>AD</td>\n",
       "      <td>Andorra</td>\n",
       "      <td>Andorra la Vella</td>\n",
       "      <td>1.5218</td>\n",
       "      <td>42.5075</td>\n",
       "      <td>ECS</td>\n",
       "      <td>Z7</td>\n",
       "      <td>Europe &amp; Central Asia</td>\n",
       "      <td></td>\n",
       "      <td></td>\n",
       "      <td></td>\n",
       "      <td>HIC</td>\n",
       "      <td>XD</td>\n",
       "      <td>High income</td>\n",
       "      <td>LNX</td>\n",
       "      <td>XX</td>\n",
       "      <td>Not classified</td>\n",
       "    </tr>\n",
       "    <tr>\n",
       "      <th>2</th>\n",
       "      <td>ARE</td>\n",
       "      <td>AE</td>\n",
       "      <td>United Arab Emirates</td>\n",
       "      <td>Abu Dhabi</td>\n",
       "      <td>54.3705</td>\n",
       "      <td>24.4764</td>\n",
       "      <td>MEA</td>\n",
       "      <td>ZQ</td>\n",
       "      <td>Middle East &amp; North Africa</td>\n",
       "      <td></td>\n",
       "      <td></td>\n",
       "      <td></td>\n",
       "      <td>HIC</td>\n",
       "      <td>XD</td>\n",
       "      <td>High income</td>\n",
       "      <td>LNX</td>\n",
       "      <td>XX</td>\n",
       "      <td>Not classified</td>\n",
       "    </tr>\n",
       "    <tr>\n",
       "      <th>3</th>\n",
       "      <td>ATG</td>\n",
       "      <td>AG</td>\n",
       "      <td>Antigua and Barbuda</td>\n",
       "      <td>Saint John's</td>\n",
       "      <td>-61.8456</td>\n",
       "      <td>17.1175</td>\n",
       "      <td>LCN</td>\n",
       "      <td>ZJ</td>\n",
       "      <td>Latin America &amp; Caribbean</td>\n",
       "      <td></td>\n",
       "      <td></td>\n",
       "      <td></td>\n",
       "      <td>HIC</td>\n",
       "      <td>XD</td>\n",
       "      <td>High income</td>\n",
       "      <td>IBD</td>\n",
       "      <td>XF</td>\n",
       "      <td>IBRD</td>\n",
       "    </tr>\n",
       "    <tr>\n",
       "      <th>4</th>\n",
       "      <td>AUS</td>\n",
       "      <td>AU</td>\n",
       "      <td>Australia</td>\n",
       "      <td>Canberra</td>\n",
       "      <td>149.129</td>\n",
       "      <td>-35.282</td>\n",
       "      <td>EAS</td>\n",
       "      <td>Z4</td>\n",
       "      <td>East Asia &amp; Pacific</td>\n",
       "      <td></td>\n",
       "      <td></td>\n",
       "      <td></td>\n",
       "      <td>HIC</td>\n",
       "      <td>XD</td>\n",
       "      <td>High income</td>\n",
       "      <td>LNX</td>\n",
       "      <td>XX</td>\n",
       "      <td>Not classified</td>\n",
       "    </tr>\n",
       "    <tr>\n",
       "      <th>...</th>\n",
       "      <td>...</td>\n",
       "      <td>...</td>\n",
       "      <td>...</td>\n",
       "      <td>...</td>\n",
       "      <td>...</td>\n",
       "      <td>...</td>\n",
       "      <td>...</td>\n",
       "      <td>...</td>\n",
       "      <td>...</td>\n",
       "      <td>...</td>\n",
       "      <td>...</td>\n",
       "      <td>...</td>\n",
       "      <td>...</td>\n",
       "      <td>...</td>\n",
       "      <td>...</td>\n",
       "      <td>...</td>\n",
       "      <td>...</td>\n",
       "      <td>...</td>\n",
       "    </tr>\n",
       "    <tr>\n",
       "      <th>174</th>\n",
       "      <td>TGO</td>\n",
       "      <td>TG</td>\n",
       "      <td>Togo</td>\n",
       "      <td>Lome</td>\n",
       "      <td>1.2255</td>\n",
       "      <td>6.1228</td>\n",
       "      <td>SSF</td>\n",
       "      <td>ZG</td>\n",
       "      <td>Sub-Saharan Africa</td>\n",
       "      <td>SSA</td>\n",
       "      <td>ZF</td>\n",
       "      <td>Sub-Saharan Africa (excluding high income)</td>\n",
       "      <td>LIC</td>\n",
       "      <td>XM</td>\n",
       "      <td>Low income</td>\n",
       "      <td>IDX</td>\n",
       "      <td>XI</td>\n",
       "      <td>IDA</td>\n",
       "    </tr>\n",
       "    <tr>\n",
       "      <th>175</th>\n",
       "      <td>UGA</td>\n",
       "      <td>UG</td>\n",
       "      <td>Uganda</td>\n",
       "      <td>Kampala</td>\n",
       "      <td>32.5729</td>\n",
       "      <td>0.314269</td>\n",
       "      <td>SSF</td>\n",
       "      <td>ZG</td>\n",
       "      <td>Sub-Saharan Africa</td>\n",
       "      <td>SSA</td>\n",
       "      <td>ZF</td>\n",
       "      <td>Sub-Saharan Africa (excluding high income)</td>\n",
       "      <td>LIC</td>\n",
       "      <td>XM</td>\n",
       "      <td>Low income</td>\n",
       "      <td>IDX</td>\n",
       "      <td>XI</td>\n",
       "      <td>IDA</td>\n",
       "    </tr>\n",
       "    <tr>\n",
       "      <th>176</th>\n",
       "      <td>YEM</td>\n",
       "      <td>YE</td>\n",
       "      <td>Yemen, Rep.</td>\n",
       "      <td>Sana'a</td>\n",
       "      <td>44.2075</td>\n",
       "      <td>15.352</td>\n",
       "      <td>MEA</td>\n",
       "      <td>ZQ</td>\n",
       "      <td>Middle East &amp; North Africa</td>\n",
       "      <td>MNA</td>\n",
       "      <td>XQ</td>\n",
       "      <td>Middle East &amp; North Africa (excluding high inc...</td>\n",
       "      <td>LIC</td>\n",
       "      <td>XM</td>\n",
       "      <td>Low income</td>\n",
       "      <td>IDX</td>\n",
       "      <td>XI</td>\n",
       "      <td>IDA</td>\n",
       "    </tr>\n",
       "    <tr>\n",
       "      <th>177</th>\n",
       "      <td>ZMB</td>\n",
       "      <td>ZM</td>\n",
       "      <td>Zambia</td>\n",
       "      <td>Lusaka</td>\n",
       "      <td>28.2937</td>\n",
       "      <td>-15.3982</td>\n",
       "      <td>SSF</td>\n",
       "      <td>ZG</td>\n",
       "      <td>Sub-Saharan Africa</td>\n",
       "      <td>SSA</td>\n",
       "      <td>ZF</td>\n",
       "      <td>Sub-Saharan Africa (excluding high income)</td>\n",
       "      <td>LIC</td>\n",
       "      <td>XM</td>\n",
       "      <td>Low income</td>\n",
       "      <td>IDX</td>\n",
       "      <td>XI</td>\n",
       "      <td>IDA</td>\n",
       "    </tr>\n",
       "    <tr>\n",
       "      <th>178</th>\n",
       "      <td>VEN</td>\n",
       "      <td>VE</td>\n",
       "      <td>Venezuela, RB</td>\n",
       "      <td>Caracas</td>\n",
       "      <td>-69.8371</td>\n",
       "      <td>9.08165</td>\n",
       "      <td>LCN</td>\n",
       "      <td>ZJ</td>\n",
       "      <td>Latin America &amp; Caribbean</td>\n",
       "      <td></td>\n",
       "      <td></td>\n",
       "      <td></td>\n",
       "      <td>INX</td>\n",
       "      <td>XY</td>\n",
       "      <td>Not classified</td>\n",
       "      <td>IBD</td>\n",
       "      <td>XF</td>\n",
       "      <td>IBRD</td>\n",
       "    </tr>\n",
       "  </tbody>\n",
       "</table>\n",
       "<p>179 rows × 18 columns</p>\n",
       "</div>"
      ],
      "text/plain": [
       "      id iso2Code                  name       capitalCity longitude  latitude  \\\n",
       "0    ABW       AW                 Aruba        Oranjestad  -70.0167   12.5167   \n",
       "1    AND       AD               Andorra  Andorra la Vella    1.5218   42.5075   \n",
       "2    ARE       AE  United Arab Emirates         Abu Dhabi   54.3705   24.4764   \n",
       "3    ATG       AG   Antigua and Barbuda      Saint John's  -61.8456   17.1175   \n",
       "4    AUS       AU             Australia          Canberra   149.129   -35.282   \n",
       "..   ...      ...                   ...               ...       ...       ...   \n",
       "174  TGO       TG                  Togo              Lome    1.2255    6.1228   \n",
       "175  UGA       UG                Uganda           Kampala   32.5729  0.314269   \n",
       "176  YEM       YE           Yemen, Rep.            Sana'a   44.2075    15.352   \n",
       "177  ZMB       ZM                Zambia            Lusaka   28.2937  -15.3982   \n",
       "178  VEN       VE         Venezuela, RB           Caracas  -69.8371   9.08165   \n",
       "\n",
       "    region.id region.iso2code                region.value adminregion.id  \\\n",
       "0         LCN              ZJ  Latin America & Caribbean                   \n",
       "1         ECS              Z7       Europe & Central Asia                  \n",
       "2         MEA              ZQ  Middle East & North Africa                  \n",
       "3         LCN              ZJ  Latin America & Caribbean                   \n",
       "4         EAS              Z4         East Asia & Pacific                  \n",
       "..        ...             ...                         ...            ...   \n",
       "174       SSF              ZG         Sub-Saharan Africa             SSA   \n",
       "175       SSF              ZG         Sub-Saharan Africa             SSA   \n",
       "176       MEA              ZQ  Middle East & North Africa            MNA   \n",
       "177       SSF              ZG         Sub-Saharan Africa             SSA   \n",
       "178       LCN              ZJ  Latin America & Caribbean                   \n",
       "\n",
       "    adminregion.iso2code                                  adminregion.value  \\\n",
       "0                                                                             \n",
       "1                                                                             \n",
       "2                                                                             \n",
       "3                                                                             \n",
       "4                                                                             \n",
       "..                   ...                                                ...   \n",
       "174                   ZF         Sub-Saharan Africa (excluding high income)   \n",
       "175                   ZF         Sub-Saharan Africa (excluding high income)   \n",
       "176                   XQ  Middle East & North Africa (excluding high inc...   \n",
       "177                   ZF         Sub-Saharan Africa (excluding high income)   \n",
       "178                                                                           \n",
       "\n",
       "    incomeLevel.id incomeLevel.iso2code incomeLevel.value lendingType.id  \\\n",
       "0              HIC                   XD       High income            LNX   \n",
       "1              HIC                   XD       High income            LNX   \n",
       "2              HIC                   XD       High income            LNX   \n",
       "3              HIC                   XD       High income            IBD   \n",
       "4              HIC                   XD       High income            LNX   \n",
       "..             ...                  ...               ...            ...   \n",
       "174            LIC                   XM        Low income            IDX   \n",
       "175            LIC                   XM        Low income            IDX   \n",
       "176            LIC                   XM        Low income            IDX   \n",
       "177            LIC                   XM        Low income            IDX   \n",
       "178            INX                   XY    Not classified            IBD   \n",
       "\n",
       "    lendingType.iso2code lendingType.value  \n",
       "0                     XX    Not classified  \n",
       "1                     XX    Not classified  \n",
       "2                     XX    Not classified  \n",
       "3                     XF              IBRD  \n",
       "4                     XX    Not classified  \n",
       "..                   ...               ...  \n",
       "174                   XI               IDA  \n",
       "175                   XI               IDA  \n",
       "176                   XI               IDA  \n",
       "177                   XI               IDA  \n",
       "178                   XF              IBRD  \n",
       "\n",
       "[179 rows x 18 columns]"
      ]
     },
     "execution_count": 6,
     "metadata": {},
     "output_type": "execute_result"
    },
    {
     "data": {
      "application/javascript": [
       "\n",
       "            setTimeout(function() {\n",
       "                var nbb_cell_id = 6;\n",
       "                var nbb_unformatted_code = \"nivel_ingreso\";\n",
       "                var nbb_formatted_code = \"nivel_ingreso\";\n",
       "                var nbb_cells = Jupyter.notebook.get_cells();\n",
       "                for (var i = 0; i < nbb_cells.length; ++i) {\n",
       "                    if (nbb_cells[i].input_prompt_number == nbb_cell_id) {\n",
       "                        if (nbb_cells[i].get_text() == nbb_unformatted_code) {\n",
       "                             nbb_cells[i].set_text(nbb_formatted_code);\n",
       "                        }\n",
       "                        break;\n",
       "                    }\n",
       "                }\n",
       "            }, 500);\n",
       "            "
      ],
      "text/plain": [
       "<IPython.core.display.Javascript object>"
      ]
     },
     "metadata": {},
     "output_type": "display_data"
    }
   ],
   "source": [
    "nivel_ingreso"
   ]
  },
  {
   "cell_type": "markdown",
   "metadata": {},
   "source": [
    "## Obtención de distintos indicadores"
   ]
  },
  {
   "cell_type": "code",
   "execution_count": 7,
   "metadata": {},
   "outputs": [
    {
     "data": {
      "application/javascript": [
       "\n",
       "            setTimeout(function() {\n",
       "                var nbb_cell_id = 7;\n",
       "                var nbb_unformatted_code = \"def consultar(pais: str, indicador:str, pagina:int = 1):\\n\\n    '''Funci\\u00f3n que contacta a la API y devuelve la respuesta\\n    que brinda la misma en formato json'''\\n\\n    # P\\u00e1gina de la api y path al recurso solicitado\\n    api_url = 'http://api.worldbank.org/v2/es'\\n    path = f'/country/{pais}/indicator/{indicador}'\\n    url = api_url + path\\n\\n    # Creamos el diccionario con los parametros \\n    # para el m\\u00e9todo get\\n    args= {\\n        \\\"date\\\":'1990:2020',\\n        'page':pagina,\\n        \\\"per_page\\\":1000,\\n        \\\"format\\\":\\\"json\\\",\\n        \\\"prefix\\\":\\\"Getdata\\\",\\n    }\\n   \\n    return requests.get(url,params=args).json()\";\n",
       "                var nbb_formatted_code = \"def consultar(pais: str, indicador: str, pagina: int = 1):\\n\\n    \\\"\\\"\\\"Funci\\u00f3n que contacta a la API y devuelve la respuesta\\n    que brinda la misma en formato json\\\"\\\"\\\"\\n\\n    # P\\u00e1gina de la api y path al recurso solicitado\\n    api_url = \\\"http://api.worldbank.org/v2/es\\\"\\n    path = f\\\"/country/{pais}/indicator/{indicador}\\\"\\n    url = api_url + path\\n\\n    # Creamos el diccionario con los parametros\\n    # para el m\\u00e9todo get\\n    args = {\\n        \\\"date\\\": \\\"1990:2020\\\",\\n        \\\"page\\\": pagina,\\n        \\\"per_page\\\": 1000,\\n        \\\"format\\\": \\\"json\\\",\\n        \\\"prefix\\\": \\\"Getdata\\\",\\n    }\\n\\n    return requests.get(url, params=args).json()\";\n",
       "                var nbb_cells = Jupyter.notebook.get_cells();\n",
       "                for (var i = 0; i < nbb_cells.length; ++i) {\n",
       "                    if (nbb_cells[i].input_prompt_number == nbb_cell_id) {\n",
       "                        if (nbb_cells[i].get_text() == nbb_unformatted_code) {\n",
       "                             nbb_cells[i].set_text(nbb_formatted_code);\n",
       "                        }\n",
       "                        break;\n",
       "                    }\n",
       "                }\n",
       "            }, 500);\n",
       "            "
      ],
      "text/plain": [
       "<IPython.core.display.Javascript object>"
      ]
     },
     "metadata": {},
     "output_type": "display_data"
    }
   ],
   "source": [
    "def consultar(pais: str, indicador: str, pagina: int = 1):\n",
    "\n",
    "    \"\"\"Función que contacta a la API y devuelve la respuesta\n",
    "    que brinda la misma en formato json\"\"\"\n",
    "\n",
    "    # Página de la api y path al recurso solicitado\n",
    "    api_url = \"http://api.worldbank.org/v2/es\"\n",
    "    path = f\"/country/{pais}/indicator/{indicador}\"\n",
    "    url = api_url + path\n",
    "\n",
    "    # Creamos el diccionario con los parametros\n",
    "    # para el método get\n",
    "    args = {\n",
    "        \"date\": \"1990:2020\",\n",
    "        \"page\": pagina,\n",
    "        \"per_page\": 1000,\n",
    "        \"format\": \"json\",\n",
    "        \"prefix\": \"Getdata\",\n",
    "    }\n",
    "\n",
    "    return requests.get(url, params=args).json()"
   ]
  },
  {
   "cell_type": "code",
   "execution_count": 8,
   "metadata": {},
   "outputs": [
    {
     "data": {
      "application/javascript": [
       "\n",
       "            setTimeout(function() {\n",
       "                var nbb_cell_id = 8;\n",
       "                var nbb_unformatted_code = \"def consultar_por_pais():\\n    '''Funci\\u00f3n que retorna un c\\u00f3digo de pa\\u00eds,\\n    para, en caso que se quiera o se solicite,\\n    consultar en tiempo real la API'''\\n    paises=pd.read_parquet('../datasets/paises.parquet')\\n\\n    seleccion = input(\\\"Ingrese un nombre de pa\\u00eds: \\\")\\n    try:\\n        pais = paises.loc[paises.name.str.contains(seleccion, case=False),'id'].values[0]\\n    except:\\n        print(\\\"No se encontr\\u00f3 el pa\\u00eds, intente de nuevo\\\")\";\n",
       "                var nbb_formatted_code = \"def consultar_por_pais():\\n    \\\"\\\"\\\"Funci\\u00f3n que retorna un c\\u00f3digo de pa\\u00eds,\\n    para, en caso que se quiera o se solicite,\\n    consultar en tiempo real la API\\\"\\\"\\\"\\n    paises = pd.read_parquet(\\\"../datasets/paises.parquet\\\")\\n\\n    seleccion = input(\\\"Ingrese un nombre de pa\\u00eds: \\\")\\n    try:\\n        pais = paises.loc[paises.name.str.contains(seleccion, case=False), \\\"id\\\"].values[\\n            0\\n        ]\\n    except:\\n        print(\\\"No se encontr\\u00f3 el pa\\u00eds, intente de nuevo\\\")\";\n",
       "                var nbb_cells = Jupyter.notebook.get_cells();\n",
       "                for (var i = 0; i < nbb_cells.length; ++i) {\n",
       "                    if (nbb_cells[i].input_prompt_number == nbb_cell_id) {\n",
       "                        if (nbb_cells[i].get_text() == nbb_unformatted_code) {\n",
       "                             nbb_cells[i].set_text(nbb_formatted_code);\n",
       "                        }\n",
       "                        break;\n",
       "                    }\n",
       "                }\n",
       "            }, 500);\n",
       "            "
      ],
      "text/plain": [
       "<IPython.core.display.Javascript object>"
      ]
     },
     "metadata": {},
     "output_type": "display_data"
    }
   ],
   "source": [
    "def consultar_por_pais():\n",
    "    \"\"\"Función que retorna un código de país,\n",
    "    para, en caso que se quiera o se solicite,\n",
    "    consultar en tiempo real la API\"\"\"\n",
    "    paises = pd.read_parquet(\"../datasets/paises.parquet\")\n",
    "\n",
    "    seleccion = input(\"Ingrese un nombre de país: \")\n",
    "    try:\n",
    "        pais = paises.loc[paises.name.str.contains(seleccion, case=False), \"id\"].values[\n",
    "            0\n",
    "        ]\n",
    "    except:\n",
    "        print(\"No se encontró el país, intente de nuevo\")"
   ]
  },
  {
   "cell_type": "code",
   "execution_count": 9,
   "metadata": {},
   "outputs": [
    {
     "data": {
      "application/javascript": [
       "\n",
       "            setTimeout(function() {\n",
       "                var nbb_cell_id = 9;\n",
       "                var nbb_unformatted_code = \"# Estos indicadores fueron seleccionados \\n# de forma manual al final del documento\\nindicadores = pd.read_csv('../datasets/indicadores_seleccionados.csv')\\n\\ntuplas = [(a,b) for a,b in zip(indicadores.id.to_list(), \\n          indicadores.name.to_list())]\";\n",
       "                var nbb_formatted_code = \"# Estos indicadores fueron seleccionados\\n# de forma manual al final del documento\\nindicadores = pd.read_csv(\\\"../datasets/indicadores_seleccionados.csv\\\")\\n\\ntuplas = [(a, b) for a, b in zip(indicadores.id.to_list(), indicadores.name.to_list())]\";\n",
       "                var nbb_cells = Jupyter.notebook.get_cells();\n",
       "                for (var i = 0; i < nbb_cells.length; ++i) {\n",
       "                    if (nbb_cells[i].input_prompt_number == nbb_cell_id) {\n",
       "                        if (nbb_cells[i].get_text() == nbb_unformatted_code) {\n",
       "                             nbb_cells[i].set_text(nbb_formatted_code);\n",
       "                        }\n",
       "                        break;\n",
       "                    }\n",
       "                }\n",
       "            }, 500);\n",
       "            "
      ],
      "text/plain": [
       "<IPython.core.display.Javascript object>"
      ]
     },
     "metadata": {},
     "output_type": "display_data"
    }
   ],
   "source": [
    "# Estos indicadores fueron seleccionados\n",
    "# de forma manual al final del documento\n",
    "indicadores = pd.read_csv(\"../datasets/indicadores_seleccionados.csv\")\n",
    "\n",
    "tuplas = [(a, b) for a, b in zip(indicadores.id.to_list(), indicadores.name.to_list())]"
   ]
  },
  {
   "cell_type": "code",
   "execution_count": 10,
   "metadata": {},
   "outputs": [
    {
     "data": {
      "application/javascript": [
       "\n",
       "            setTimeout(function() {\n",
       "                var nbb_cell_id = 10;\n",
       "                var nbb_unformatted_code = \"def carga_incremental(pais, indicador):\\n    '''Funci\\u00f3n que a partir de un pa\\u00eds y un indicador \\n    llama a consultar y establece qu\\u00e9 tipo de contenido tiene\\n    seg\\u00fan eso devuelve o no un dataframe con todos los datos'''\\n\\n    consulta = consultar(pais, indicador)\\n    try:\\n        # La primera parte de la respuesta nos indica en \\n        # cuantas p\\u00e1ginas de encuentra la informaci\\u00f3n\\n        paginas = consulta[0][\\\"pages\\\"]\\n\\n        # La segunda parte nos retorna una lista de \\n        # diccionarios con la informaci\\u00f3n que quer\\u00edamos\\n        datos=consulta[1]\\n\\n    except:\\n        print('No hay datos para:', indicador, pais)\\n        pass\\n    else:\\n        if paginas >= 1:\\n            # Agregamos los valores de las otras p\\u00e1ginas a\\n            # nuestra lista de diccionarios\\n            for pagina in range(2,paginas+1):\\n                datos.extend(consultar(pais, indicador, pagina)[1])\\n\\n            # Creo el DataFrame con todos los datos\\n            data = pd.json_normalize(datos)\\n            return data\\n        return pd.DataFrame(['error'],columns=['no_data'])\";\n",
       "                var nbb_formatted_code = \"def carga_incremental(pais, indicador):\\n    \\\"\\\"\\\"Funci\\u00f3n que a partir de un pa\\u00eds y un indicador\\n    llama a consultar y establece qu\\u00e9 tipo de contenido tiene\\n    seg\\u00fan eso devuelve o no un dataframe con todos los datos\\\"\\\"\\\"\\n\\n    consulta = consultar(pais, indicador)\\n    try:\\n        # La primera parte de la respuesta nos indica en\\n        # cuantas p\\u00e1ginas de encuentra la informaci\\u00f3n\\n        paginas = consulta[0][\\\"pages\\\"]\\n\\n        # La segunda parte nos retorna una lista de\\n        # diccionarios con la informaci\\u00f3n que quer\\u00edamos\\n        datos = consulta[1]\\n\\n    except:\\n        print(\\\"No hay datos para:\\\", indicador, pais)\\n        pass\\n    else:\\n        if paginas >= 1:\\n            # Agregamos los valores de las otras p\\u00e1ginas a\\n            # nuestra lista de diccionarios\\n            for pagina in range(2, paginas + 1):\\n                datos.extend(consultar(pais, indicador, pagina)[1])\\n\\n            # Creo el DataFrame con todos los datos\\n            data = pd.json_normalize(datos)\\n            return data\\n        return pd.DataFrame([\\\"error\\\"], columns=[\\\"no_data\\\"])\";\n",
       "                var nbb_cells = Jupyter.notebook.get_cells();\n",
       "                for (var i = 0; i < nbb_cells.length; ++i) {\n",
       "                    if (nbb_cells[i].input_prompt_number == nbb_cell_id) {\n",
       "                        if (nbb_cells[i].get_text() == nbb_unformatted_code) {\n",
       "                             nbb_cells[i].set_text(nbb_formatted_code);\n",
       "                        }\n",
       "                        break;\n",
       "                    }\n",
       "                }\n",
       "            }, 500);\n",
       "            "
      ],
      "text/plain": [
       "<IPython.core.display.Javascript object>"
      ]
     },
     "metadata": {},
     "output_type": "display_data"
    }
   ],
   "source": [
    "def carga_incremental(pais, indicador):\n",
    "    '''Función que a partir de un país y un indicador \n",
    "    llama a consultar y establece qué tipo de contenido tiene\n",
    "    según eso devuelve o no un dataframe con todos los datos'''\n",
    "\n",
    "    consulta = consultar(pais, indicador)\n",
    "    try:\n",
    "        # La primera parte de la respuesta nos indica en \n",
    "        # cuantas páginas de encuentra la información\n",
    "        paginas = consulta[0][\"pages\"]\n",
    "\n",
    "        # La segunda parte nos retorna una lista de \n",
    "        # diccionarios con la información que queríamos\n",
    "        datos=consulta[1]\n",
    "\n",
    "    except:\n",
    "        print('No hay datos para:', indicador, pais)\n",
    "        pass\n",
    "    else:\n",
    "        if paginas >= 1:\n",
    "            # Agregamos los valores de las otras páginas a\n",
    "            # nuestra lista de diccionarios\n",
    "            for pagina in range(2,paginas+1):\n",
    "                datos.extend(consultar(pais, indicador, pagina)[1])\n",
    "\n",
    "            # Creo el DataFrame con todos los datos\n",
    "            data = pd.json_normalize(datos)\n",
    "            return data\n",
    "        return pd.DataFrame(['error'],columns=['no_data'])\n"
   ]
  },
  {
   "cell_type": "code",
   "execution_count": null,
   "metadata": {},
   "outputs": [],
   "source": [
    "for indicador, _ in tuplas:\n",
    "    print(indicador)\n",
    "    datos = carga_incremental(pais='all', indicador=indicador)\n",
    "\n",
    "    # Guardo el dataframe resultante\n",
    "    datos.to_parquet(f'../datasets/df_TWB_{indicador}.parquet')\n",
    "    print('Guardado')\n"
   ]
  },
  {
   "cell_type": "markdown",
   "metadata": {},
   "source": [
    "# ETL"
   ]
  },
  {
   "cell_type": "markdown",
   "metadata": {},
   "source": [
    "## Búsqueda de indicadores"
   ]
  },
  {
   "cell_type": "markdown",
   "metadata": {},
   "source": [
    "La lista de indicadores bajo estudio se selecciona de forma manual a partir de los datos que indican distintas tesis de estudio. De todas formas los indicadores pasarán por un tamiz de análisis exploratorio"
   ]
  },
  {
   "cell_type": "code",
   "execution_count": 11,
   "metadata": {},
   "outputs": [
    {
     "data": {
      "application/javascript": [
       "\n",
       "            setTimeout(function() {\n",
       "                var nbb_cell_id = 11;\n",
       "                var nbb_unformatted_code = \"indicadores_todos = pd.read_csv('../datasets/indicadores.csv')\\n\\n# Se complet\\u00f3 los valores faltantes con 'na'\\n# para poder buscar sobre el dataframe\\nindicadores_todos.fillna('na',inplace=True)\";\n",
       "                var nbb_formatted_code = \"indicadores_todos = pd.read_csv(\\\"../datasets/indicadores.csv\\\")\\n\\n# Se complet\\u00f3 los valores faltantes con 'na'\\n# para poder buscar sobre el dataframe\\nindicadores_todos.fillna(\\\"na\\\", inplace=True)\";\n",
       "                var nbb_cells = Jupyter.notebook.get_cells();\n",
       "                for (var i = 0; i < nbb_cells.length; ++i) {\n",
       "                    if (nbb_cells[i].input_prompt_number == nbb_cell_id) {\n",
       "                        if (nbb_cells[i].get_text() == nbb_unformatted_code) {\n",
       "                             nbb_cells[i].set_text(nbb_formatted_code);\n",
       "                        }\n",
       "                        break;\n",
       "                    }\n",
       "                }\n",
       "            }, 500);\n",
       "            "
      ],
      "text/plain": [
       "<IPython.core.display.Javascript object>"
      ]
     },
     "metadata": {},
     "output_type": "display_data"
    }
   ],
   "source": [
    "indicadores_todos = pd.read_csv(\"../datasets/indicadores.csv\")\n",
    "\n",
    "# Se completó los valores faltantes con 'na'\n",
    "# para poder buscar sobre el dataframe\n",
    "indicadores_todos.fillna(\"na\", inplace=True)"
   ]
  },
  {
   "cell_type": "code",
   "execution_count": 13,
   "metadata": {},
   "outputs": [
    {
     "name": "stdout",
     "output_type": "stream",
     "text": [
      "Indicador de interés: gini\n"
     ]
    },
    {
     "data": {
      "text/html": [
       "<div>\n",
       "<style scoped>\n",
       "    .dataframe tbody tr th:only-of-type {\n",
       "        vertical-align: middle;\n",
       "    }\n",
       "\n",
       "    .dataframe tbody tr th {\n",
       "        vertical-align: top;\n",
       "    }\n",
       "\n",
       "    .dataframe thead th {\n",
       "        text-align: right;\n",
       "    }\n",
       "</style>\n",
       "<table border=\"1\" class=\"dataframe\">\n",
       "  <thead>\n",
       "    <tr style=\"text-align: right;\">\n",
       "      <th></th>\n",
       "      <th>id</th>\n",
       "      <th>name</th>\n",
       "      <th>sourceNote</th>\n",
       "    </tr>\n",
       "  </thead>\n",
       "  <tbody>\n",
       "    <tr>\n",
       "      <th>179</th>\n",
       "      <td>3.0.Gini</td>\n",
       "      <td>Coeficiente de Gini</td>\n",
       "      <td>El coeficiente de Gini es la medida de desigua...</td>\n",
       "    </tr>\n",
       "    <tr>\n",
       "      <th>180</th>\n",
       "      <td>3.0.Gini_nozero</td>\n",
       "      <td>Coeficiente de Gini (Ingreso diferente de cero)</td>\n",
       "      <td>El coeficiente de Gini es la medida de desigua...</td>\n",
       "    </tr>\n",
       "    <tr>\n",
       "      <th>192</th>\n",
       "      <td>3.1.Gini</td>\n",
       "      <td>Gini, Rural</td>\n",
       "      <td>El coeficiente de Gini es la medida de desigua...</td>\n",
       "    </tr>\n",
       "    <tr>\n",
       "      <th>205</th>\n",
       "      <td>3.2.Gini</td>\n",
       "      <td>Gini, Urbano</td>\n",
       "      <td>El coeficiente de Gini es la medida de desigua...</td>\n",
       "    </tr>\n",
       "    <tr>\n",
       "      <th>17088</th>\n",
       "      <td>SI.POV.GINI</td>\n",
       "      <td>Índice de Gini</td>\n",
       "      <td>El índice de Gini mide hasta qué punto la dist...</td>\n",
       "    </tr>\n",
       "  </tbody>\n",
       "</table>\n",
       "</div>"
      ],
      "text/plain": [
       "                    id                                             name  \\\n",
       "179           3.0.Gini                              Coeficiente de Gini   \n",
       "180    3.0.Gini_nozero  Coeficiente de Gini (Ingreso diferente de cero)   \n",
       "192           3.1.Gini                                      Gini, Rural   \n",
       "205           3.2.Gini                                     Gini, Urbano   \n",
       "17088      SI.POV.GINI                                   Índice de Gini   \n",
       "\n",
       "                                              sourceNote  \n",
       "179    El coeficiente de Gini es la medida de desigua...  \n",
       "180    El coeficiente de Gini es la medida de desigua...  \n",
       "192    El coeficiente de Gini es la medida de desigua...  \n",
       "205    El coeficiente de Gini es la medida de desigua...  \n",
       "17088  El índice de Gini mide hasta qué punto la dist...  "
      ]
     },
     "execution_count": 13,
     "metadata": {},
     "output_type": "execute_result"
    },
    {
     "data": {
      "application/javascript": [
       "\n",
       "            setTimeout(function() {\n",
       "                var nbb_cell_id = 13;\n",
       "                var nbb_unformatted_code = \"interes = input(\\\"Indicador de inter\\u00e9s: \\\")\\nindicadores_todos.loc[\\n    indicadores_todos.name.str.contains(interes, case=False),\\n    [\\\"id\\\", \\\"name\\\", \\\"sourceNote\\\"],\\n]  # .to_csv('temp.csv')\";\n",
       "                var nbb_formatted_code = \"interes = input(\\\"Indicador de inter\\u00e9s: \\\")\\nindicadores_todos.loc[\\n    indicadores_todos.name.str.contains(interes, case=False),\\n    [\\\"id\\\", \\\"name\\\", \\\"sourceNote\\\"],\\n]  # .to_csv('temp.csv')\";\n",
       "                var nbb_cells = Jupyter.notebook.get_cells();\n",
       "                for (var i = 0; i < nbb_cells.length; ++i) {\n",
       "                    if (nbb_cells[i].input_prompt_number == nbb_cell_id) {\n",
       "                        if (nbb_cells[i].get_text() == nbb_unformatted_code) {\n",
       "                             nbb_cells[i].set_text(nbb_formatted_code);\n",
       "                        }\n",
       "                        break;\n",
       "                    }\n",
       "                }\n",
       "            }, 500);\n",
       "            "
      ],
      "text/plain": [
       "<IPython.core.display.Javascript object>"
      ]
     },
     "metadata": {},
     "output_type": "display_data"
    }
   ],
   "source": [
    "interes = input(\"Indicador de interés: \")\n",
    "indicadores_todos.loc[\n",
    "    indicadores_todos.name.str.contains(interes, case=False),\n",
    "    [\"id\", \"name\", \"sourceNote\"],\n",
    "]  # .to_csv('temp.csv')"
   ]
  },
  {
   "cell_type": "code",
   "execution_count": 14,
   "metadata": {},
   "outputs": [
    {
     "name": "stdout",
     "output_type": "stream",
     "text": [
      "Indicador de interés: SI.POV.GINI\n"
     ]
    },
    {
     "data": {
      "text/html": [
       "<div>\n",
       "<style scoped>\n",
       "    .dataframe tbody tr th:only-of-type {\n",
       "        vertical-align: middle;\n",
       "    }\n",
       "\n",
       "    .dataframe tbody tr th {\n",
       "        vertical-align: top;\n",
       "    }\n",
       "\n",
       "    .dataframe thead th {\n",
       "        text-align: right;\n",
       "    }\n",
       "</style>\n",
       "<table border=\"1\" class=\"dataframe\">\n",
       "  <thead>\n",
       "    <tr style=\"text-align: right;\">\n",
       "      <th></th>\n",
       "      <th>id</th>\n",
       "      <th>name</th>\n",
       "      <th>sourceNote</th>\n",
       "    </tr>\n",
       "  </thead>\n",
       "  <tbody>\n",
       "    <tr>\n",
       "      <th>17088</th>\n",
       "      <td>SI.POV.GINI</td>\n",
       "      <td>Índice de Gini</td>\n",
       "      <td>El índice de Gini mide hasta qué punto la dist...</td>\n",
       "    </tr>\n",
       "  </tbody>\n",
       "</table>\n",
       "</div>"
      ],
      "text/plain": [
       "                id            name  \\\n",
       "17088  SI.POV.GINI  Índice de Gini   \n",
       "\n",
       "                                              sourceNote  \n",
       "17088  El índice de Gini mide hasta qué punto la dist...  "
      ]
     },
     "execution_count": 14,
     "metadata": {},
     "output_type": "execute_result"
    },
    {
     "data": {
      "application/javascript": [
       "\n",
       "            setTimeout(function() {\n",
       "                var nbb_cell_id = 14;\n",
       "                var nbb_unformatted_code = \"interes = input(\\\"Indicador de inter\\u00e9s: \\\")\\nseleccion = indicadores_todos.loc[indicadores_todos.id == interes,\\n     ['id','name','sourceNote']]\\nseleccion\";\n",
       "                var nbb_formatted_code = \"interes = input(\\\"Indicador de inter\\u00e9s: \\\")\\nseleccion = indicadores_todos.loc[\\n    indicadores_todos.id == interes, [\\\"id\\\", \\\"name\\\", \\\"sourceNote\\\"]\\n]\\nseleccion\";\n",
       "                var nbb_cells = Jupyter.notebook.get_cells();\n",
       "                for (var i = 0; i < nbb_cells.length; ++i) {\n",
       "                    if (nbb_cells[i].input_prompt_number == nbb_cell_id) {\n",
       "                        if (nbb_cells[i].get_text() == nbb_unformatted_code) {\n",
       "                             nbb_cells[i].set_text(nbb_formatted_code);\n",
       "                        }\n",
       "                        break;\n",
       "                    }\n",
       "                }\n",
       "            }, 500);\n",
       "            "
      ],
      "text/plain": [
       "<IPython.core.display.Javascript object>"
      ]
     },
     "metadata": {},
     "output_type": "display_data"
    }
   ],
   "source": [
    "interes = input(\"Indicador de interés: \")\n",
    "seleccion = indicadores_todos.loc[\n",
    "    indicadores_todos.id == interes, [\"id\", \"name\", \"sourceNote\"]\n",
    "]\n",
    "seleccion"
   ]
  },
  {
   "cell_type": "code",
   "execution_count": 15,
   "metadata": {},
   "outputs": [
    {
     "data": {
      "application/javascript": [
       "\n",
       "            setTimeout(function() {\n",
       "                var nbb_cell_id = 15;\n",
       "                var nbb_unformatted_code = \"indicador_selec = pd.DataFrame()\";\n",
       "                var nbb_formatted_code = \"indicador_selec = pd.DataFrame()\";\n",
       "                var nbb_cells = Jupyter.notebook.get_cells();\n",
       "                for (var i = 0; i < nbb_cells.length; ++i) {\n",
       "                    if (nbb_cells[i].input_prompt_number == nbb_cell_id) {\n",
       "                        if (nbb_cells[i].get_text() == nbb_unformatted_code) {\n",
       "                             nbb_cells[i].set_text(nbb_formatted_code);\n",
       "                        }\n",
       "                        break;\n",
       "                    }\n",
       "                }\n",
       "            }, 500);\n",
       "            "
      ],
      "text/plain": [
       "<IPython.core.display.Javascript object>"
      ]
     },
     "metadata": {},
     "output_type": "display_data"
    }
   ],
   "source": [
    "indicador_selec = pd.DataFrame()"
   ]
  },
  {
   "cell_type": "code",
   "execution_count": 16,
   "metadata": {},
   "outputs": [
    {
     "data": {
      "application/javascript": [
       "\n",
       "            setTimeout(function() {\n",
       "                var nbb_cell_id = 16;\n",
       "                var nbb_unformatted_code = \"indicador_selec = pd.concat([indicador_selec, seleccion], \\n                            ignore_index=True)\";\n",
       "                var nbb_formatted_code = \"indicador_selec = pd.concat([indicador_selec, seleccion], ignore_index=True)\";\n",
       "                var nbb_cells = Jupyter.notebook.get_cells();\n",
       "                for (var i = 0; i < nbb_cells.length; ++i) {\n",
       "                    if (nbb_cells[i].input_prompt_number == nbb_cell_id) {\n",
       "                        if (nbb_cells[i].get_text() == nbb_unformatted_code) {\n",
       "                             nbb_cells[i].set_text(nbb_formatted_code);\n",
       "                        }\n",
       "                        break;\n",
       "                    }\n",
       "                }\n",
       "            }, 500);\n",
       "            "
      ],
      "text/plain": [
       "<IPython.core.display.Javascript object>"
      ]
     },
     "metadata": {},
     "output_type": "display_data"
    }
   ],
   "source": [
    "indicador_selec = pd.concat([indicador_selec, seleccion], ignore_index=True)"
   ]
  },
  {
   "cell_type": "markdown",
   "metadata": {},
   "source": [
    "## Exploración de los Datasets obtenidos"
   ]
  },
  {
   "cell_type": "code",
   "execution_count": 17,
   "metadata": {},
   "outputs": [
    {
     "name": "stdout",
     "output_type": "stream",
     "text": [
      "12\n",
      "12\n"
     ]
    },
    {
     "data": {
      "application/javascript": [
       "\n",
       "            setTimeout(function() {\n",
       "                var nbb_cell_id = 17;\n",
       "                var nbb_unformatted_code = \"codigos = [i for i, j in tuplas]\\nnombres = [j for i, j in tuplas]\\n\\ncolumnas=['esperanza_vida_total', 'esperanza_vida_mujeres','esperanza_vida_varones','\\u00edndice_gini','gasto_p\\u00fab_educacion_pje','duraci\\u00f3n_educ_obligatoria','pib_pc_usd_actuales','pib_ppa_prec_inter','capacidad_estad\\u00edstica','poblaci\\u00f3n_mujeres_pje','poblaci\\u00f3n_hombres_pje','pib_pc_prec_inter']\\nprint(len(columnas))\\nprint(len(nombres))\";\n",
       "                var nbb_formatted_code = \"codigos = [i for i, j in tuplas]\\nnombres = [j for i, j in tuplas]\\n\\ncolumnas = [\\n    \\\"esperanza_vida_total\\\",\\n    \\\"esperanza_vida_mujeres\\\",\\n    \\\"esperanza_vida_varones\\\",\\n    \\\"\\u00edndice_gini\\\",\\n    \\\"gasto_p\\u00fab_educacion_pje\\\",\\n    \\\"duraci\\u00f3n_educ_obligatoria\\\",\\n    \\\"pib_pc_usd_actuales\\\",\\n    \\\"pib_ppa_prec_inter\\\",\\n    \\\"capacidad_estad\\u00edstica\\\",\\n    \\\"poblaci\\u00f3n_mujeres_pje\\\",\\n    \\\"poblaci\\u00f3n_hombres_pje\\\",\\n    \\\"pib_pc_prec_inter\\\",\\n]\\nprint(len(columnas))\\nprint(len(nombres))\";\n",
       "                var nbb_cells = Jupyter.notebook.get_cells();\n",
       "                for (var i = 0; i < nbb_cells.length; ++i) {\n",
       "                    if (nbb_cells[i].input_prompt_number == nbb_cell_id) {\n",
       "                        if (nbb_cells[i].get_text() == nbb_unformatted_code) {\n",
       "                             nbb_cells[i].set_text(nbb_formatted_code);\n",
       "                        }\n",
       "                        break;\n",
       "                    }\n",
       "                }\n",
       "            }, 500);\n",
       "            "
      ],
      "text/plain": [
       "<IPython.core.display.Javascript object>"
      ]
     },
     "metadata": {},
     "output_type": "display_data"
    }
   ],
   "source": [
    "codigos = [i for i, j in tuplas]\n",
    "nombres = [j for i, j in tuplas]\n",
    "\n",
    "columnas = [\n",
    "    \"esperanza_vida_total\",\n",
    "    \"esperanza_vida_mujeres\",\n",
    "    \"esperanza_vida_varones\",\n",
    "    \"índice_gini\",\n",
    "    \"gasto_púb_educacion_pje\",\n",
    "    \"duración_educ_obligatoria\",\n",
    "    \"pib_pc_usd_actuales\",\n",
    "    \"pib_ppa_prec_inter\",\n",
    "    \"capacidad_estadística\",\n",
    "    \"población_mujeres_pje\",\n",
    "    \"población_hombres_pje\",\n",
    "    \"pib_pc_prec_inter\",\n",
    "]\n",
    "print(len(columnas))\n",
    "print(len(nombres))"
   ]
  },
  {
   "cell_type": "code",
   "execution_count": 18,
   "metadata": {},
   "outputs": [
    {
     "ename": "FileNotFoundError",
     "evalue": "[Errno 2] No such file or directory: '../datasets/df_TWB_SP.DYN.LE00.IN.parquet'",
     "output_type": "error",
     "traceback": [
      "\u001b[0;31m---------------------------------------------------------------------------\u001b[0m",
      "\u001b[0;31mFileNotFoundError\u001b[0m                         Traceback (most recent call last)",
      "Cell \u001b[0;32mIn [18], line 6\u001b[0m\n\u001b[1;32m      2\u001b[0m directorio \u001b[38;5;241m=\u001b[39m \u001b[38;5;124m'\u001b[39m\u001b[38;5;124m../datasets/\u001b[39m\u001b[38;5;124m'\u001b[39m\n\u001b[1;32m      4\u001b[0m \u001b[38;5;28;01mwith\u001b[39;00m os\u001b[38;5;241m.\u001b[39mscandir(directorio) \u001b[38;5;28;01mas\u001b[39;00m ficheros:\n\u001b[0;32m----> 6\u001b[0m     trabajo\u001b[38;5;241m=\u001b[39mpd\u001b[38;5;241m.\u001b[39mread_parquet(\u001b[38;5;124m'\u001b[39m\u001b[38;5;124m../datasets/df_TWB_SP.DYN.LE00.IN.parquet\u001b[39m\u001b[38;5;124m'\u001b[39m)[[\u001b[38;5;124m'\u001b[39m\u001b[38;5;124mdate\u001b[39m\u001b[38;5;124m'\u001b[39m,\u001b[38;5;124m'\u001b[39m\u001b[38;5;124mcountryiso3code\u001b[39m\u001b[38;5;124m'\u001b[39m]]\n\u001b[1;32m      8\u001b[0m     \u001b[38;5;28;01mfor\u001b[39;00m fichero \u001b[38;5;129;01min\u001b[39;00m ficheros:\n\u001b[1;32m      9\u001b[0m         \u001b[38;5;28;01mif\u001b[39;00m fichero\u001b[38;5;241m.\u001b[39mname\u001b[38;5;241m.\u001b[39mstartswith(\u001b[38;5;124m'\u001b[39m\u001b[38;5;124mdf_TWB\u001b[39m\u001b[38;5;124m'\u001b[39m):\n\u001b[1;32m     10\u001b[0m \n\u001b[1;32m     11\u001b[0m             \u001b[38;5;66;03m# obtengo el cógigo de indicador que se encuentra en el nombre del fichero\u001b[39;00m\n",
      "File \u001b[0;32m~/Devspace/life-expectancy/venv/lib/python3.8/site-packages/pandas/io/parquet.py:493\u001b[0m, in \u001b[0;36mread_parquet\u001b[0;34m(path, engine, columns, storage_options, use_nullable_dtypes, **kwargs)\u001b[0m\n\u001b[1;32m    446\u001b[0m \u001b[38;5;124;03m\"\"\"\u001b[39;00m\n\u001b[1;32m    447\u001b[0m \u001b[38;5;124;03mLoad a parquet object from the file path, returning a DataFrame.\u001b[39;00m\n\u001b[1;32m    448\u001b[0m \n\u001b[0;32m   (...)\u001b[0m\n\u001b[1;32m    489\u001b[0m \u001b[38;5;124;03mDataFrame\u001b[39;00m\n\u001b[1;32m    490\u001b[0m \u001b[38;5;124;03m\"\"\"\u001b[39;00m\n\u001b[1;32m    491\u001b[0m impl \u001b[38;5;241m=\u001b[39m get_engine(engine)\n\u001b[0;32m--> 493\u001b[0m \u001b[38;5;28;01mreturn\u001b[39;00m \u001b[43mimpl\u001b[49m\u001b[38;5;241;43m.\u001b[39;49m\u001b[43mread\u001b[49m\u001b[43m(\u001b[49m\n\u001b[1;32m    494\u001b[0m \u001b[43m    \u001b[49m\u001b[43mpath\u001b[49m\u001b[43m,\u001b[49m\n\u001b[1;32m    495\u001b[0m \u001b[43m    \u001b[49m\u001b[43mcolumns\u001b[49m\u001b[38;5;241;43m=\u001b[39;49m\u001b[43mcolumns\u001b[49m\u001b[43m,\u001b[49m\n\u001b[1;32m    496\u001b[0m \u001b[43m    \u001b[49m\u001b[43mstorage_options\u001b[49m\u001b[38;5;241;43m=\u001b[39;49m\u001b[43mstorage_options\u001b[49m\u001b[43m,\u001b[49m\n\u001b[1;32m    497\u001b[0m \u001b[43m    \u001b[49m\u001b[43muse_nullable_dtypes\u001b[49m\u001b[38;5;241;43m=\u001b[39;49m\u001b[43muse_nullable_dtypes\u001b[49m\u001b[43m,\u001b[49m\n\u001b[1;32m    498\u001b[0m \u001b[43m    \u001b[49m\u001b[38;5;241;43m*\u001b[39;49m\u001b[38;5;241;43m*\u001b[39;49m\u001b[43mkwargs\u001b[49m\u001b[43m,\u001b[49m\n\u001b[1;32m    499\u001b[0m \u001b[43m\u001b[49m\u001b[43m)\u001b[49m\n",
      "File \u001b[0;32m~/Devspace/life-expectancy/venv/lib/python3.8/site-packages/pandas/io/parquet.py:233\u001b[0m, in \u001b[0;36mPyArrowImpl.read\u001b[0;34m(self, path, columns, use_nullable_dtypes, storage_options, **kwargs)\u001b[0m\n\u001b[1;32m    230\u001b[0m \u001b[38;5;28;01mif\u001b[39;00m manager \u001b[38;5;241m==\u001b[39m \u001b[38;5;124m\"\u001b[39m\u001b[38;5;124marray\u001b[39m\u001b[38;5;124m\"\u001b[39m:\n\u001b[1;32m    231\u001b[0m     to_pandas_kwargs[\u001b[38;5;124m\"\u001b[39m\u001b[38;5;124msplit_blocks\u001b[39m\u001b[38;5;124m\"\u001b[39m] \u001b[38;5;241m=\u001b[39m \u001b[38;5;28;01mTrue\u001b[39;00m  \u001b[38;5;66;03m# type: ignore[assignment]\u001b[39;00m\n\u001b[0;32m--> 233\u001b[0m path_or_handle, handles, kwargs[\u001b[38;5;124m\"\u001b[39m\u001b[38;5;124mfilesystem\u001b[39m\u001b[38;5;124m\"\u001b[39m] \u001b[38;5;241m=\u001b[39m \u001b[43m_get_path_or_handle\u001b[49m\u001b[43m(\u001b[49m\n\u001b[1;32m    234\u001b[0m \u001b[43m    \u001b[49m\u001b[43mpath\u001b[49m\u001b[43m,\u001b[49m\n\u001b[1;32m    235\u001b[0m \u001b[43m    \u001b[49m\u001b[43mkwargs\u001b[49m\u001b[38;5;241;43m.\u001b[39;49m\u001b[43mpop\u001b[49m\u001b[43m(\u001b[49m\u001b[38;5;124;43m\"\u001b[39;49m\u001b[38;5;124;43mfilesystem\u001b[39;49m\u001b[38;5;124;43m\"\u001b[39;49m\u001b[43m,\u001b[49m\u001b[43m \u001b[49m\u001b[38;5;28;43;01mNone\u001b[39;49;00m\u001b[43m)\u001b[49m\u001b[43m,\u001b[49m\n\u001b[1;32m    236\u001b[0m \u001b[43m    \u001b[49m\u001b[43mstorage_options\u001b[49m\u001b[38;5;241;43m=\u001b[39;49m\u001b[43mstorage_options\u001b[49m\u001b[43m,\u001b[49m\n\u001b[1;32m    237\u001b[0m \u001b[43m    \u001b[49m\u001b[43mmode\u001b[49m\u001b[38;5;241;43m=\u001b[39;49m\u001b[38;5;124;43m\"\u001b[39;49m\u001b[38;5;124;43mrb\u001b[39;49m\u001b[38;5;124;43m\"\u001b[39;49m\u001b[43m,\u001b[49m\n\u001b[1;32m    238\u001b[0m \u001b[43m\u001b[49m\u001b[43m)\u001b[49m\n\u001b[1;32m    239\u001b[0m \u001b[38;5;28;01mtry\u001b[39;00m:\n\u001b[1;32m    240\u001b[0m     result \u001b[38;5;241m=\u001b[39m \u001b[38;5;28mself\u001b[39m\u001b[38;5;241m.\u001b[39mapi\u001b[38;5;241m.\u001b[39mparquet\u001b[38;5;241m.\u001b[39mread_table(\n\u001b[1;32m    241\u001b[0m         path_or_handle, columns\u001b[38;5;241m=\u001b[39mcolumns, \u001b[38;5;241m*\u001b[39m\u001b[38;5;241m*\u001b[39mkwargs\n\u001b[1;32m    242\u001b[0m     )\u001b[38;5;241m.\u001b[39mto_pandas(\u001b[38;5;241m*\u001b[39m\u001b[38;5;241m*\u001b[39mto_pandas_kwargs)\n",
      "File \u001b[0;32m~/Devspace/life-expectancy/venv/lib/python3.8/site-packages/pandas/io/parquet.py:102\u001b[0m, in \u001b[0;36m_get_path_or_handle\u001b[0;34m(path, fs, storage_options, mode, is_dir)\u001b[0m\n\u001b[1;32m     92\u001b[0m handles \u001b[38;5;241m=\u001b[39m \u001b[38;5;28;01mNone\u001b[39;00m\n\u001b[1;32m     93\u001b[0m \u001b[38;5;28;01mif\u001b[39;00m (\n\u001b[1;32m     94\u001b[0m     \u001b[38;5;129;01mnot\u001b[39;00m fs\n\u001b[1;32m     95\u001b[0m     \u001b[38;5;129;01mand\u001b[39;00m \u001b[38;5;129;01mnot\u001b[39;00m is_dir\n\u001b[0;32m   (...)\u001b[0m\n\u001b[1;32m    100\u001b[0m     \u001b[38;5;66;03m# fsspec resources can also point to directories\u001b[39;00m\n\u001b[1;32m    101\u001b[0m     \u001b[38;5;66;03m# this branch is used for example when reading from non-fsspec URLs\u001b[39;00m\n\u001b[0;32m--> 102\u001b[0m     handles \u001b[38;5;241m=\u001b[39m \u001b[43mget_handle\u001b[49m\u001b[43m(\u001b[49m\n\u001b[1;32m    103\u001b[0m \u001b[43m        \u001b[49m\u001b[43mpath_or_handle\u001b[49m\u001b[43m,\u001b[49m\u001b[43m \u001b[49m\u001b[43mmode\u001b[49m\u001b[43m,\u001b[49m\u001b[43m \u001b[49m\u001b[43mis_text\u001b[49m\u001b[38;5;241;43m=\u001b[39;49m\u001b[38;5;28;43;01mFalse\u001b[39;49;00m\u001b[43m,\u001b[49m\u001b[43m \u001b[49m\u001b[43mstorage_options\u001b[49m\u001b[38;5;241;43m=\u001b[39;49m\u001b[43mstorage_options\u001b[49m\n\u001b[1;32m    104\u001b[0m \u001b[43m    \u001b[49m\u001b[43m)\u001b[49m\n\u001b[1;32m    105\u001b[0m     fs \u001b[38;5;241m=\u001b[39m \u001b[38;5;28;01mNone\u001b[39;00m\n\u001b[1;32m    106\u001b[0m     path_or_handle \u001b[38;5;241m=\u001b[39m handles\u001b[38;5;241m.\u001b[39mhandle\n",
      "File \u001b[0;32m~/Devspace/life-expectancy/venv/lib/python3.8/site-packages/pandas/io/common.py:795\u001b[0m, in \u001b[0;36mget_handle\u001b[0;34m(path_or_buf, mode, encoding, compression, memory_map, is_text, errors, storage_options)\u001b[0m\n\u001b[1;32m    786\u001b[0m         handle \u001b[38;5;241m=\u001b[39m \u001b[38;5;28mopen\u001b[39m(\n\u001b[1;32m    787\u001b[0m             handle,\n\u001b[1;32m    788\u001b[0m             ioargs\u001b[38;5;241m.\u001b[39mmode,\n\u001b[0;32m   (...)\u001b[0m\n\u001b[1;32m    791\u001b[0m             newline\u001b[38;5;241m=\u001b[39m\u001b[38;5;124m\"\u001b[39m\u001b[38;5;124m\"\u001b[39m,\n\u001b[1;32m    792\u001b[0m         )\n\u001b[1;32m    793\u001b[0m     \u001b[38;5;28;01melse\u001b[39;00m:\n\u001b[1;32m    794\u001b[0m         \u001b[38;5;66;03m# Binary mode\u001b[39;00m\n\u001b[0;32m--> 795\u001b[0m         handle \u001b[38;5;241m=\u001b[39m \u001b[38;5;28;43mopen\u001b[39;49m\u001b[43m(\u001b[49m\u001b[43mhandle\u001b[49m\u001b[43m,\u001b[49m\u001b[43m \u001b[49m\u001b[43mioargs\u001b[49m\u001b[38;5;241;43m.\u001b[39;49m\u001b[43mmode\u001b[49m\u001b[43m)\u001b[49m\n\u001b[1;32m    796\u001b[0m     handles\u001b[38;5;241m.\u001b[39mappend(handle)\n\u001b[1;32m    798\u001b[0m \u001b[38;5;66;03m# Convert BytesIO or file objects passed with an encoding\u001b[39;00m\n",
      "\u001b[0;31mFileNotFoundError\u001b[0m: [Errno 2] No such file or directory: '../datasets/df_TWB_SP.DYN.LE00.IN.parquet'"
     ]
    },
    {
     "data": {
      "application/javascript": [
       "\n",
       "            setTimeout(function() {\n",
       "                var nbb_cell_id = 18;\n",
       "                var nbb_unformatted_code = \"import os\\ndirectorio = '../datasets/'\\n\\nwith os.scandir(directorio) as ficheros:\\n\\n    trabajo=pd.read_parquet('../datasets/df_TWB_SP.DYN.LE00.IN.parquet')[['date','countryiso3code']]\\n\\n    for fichero in ficheros:\\n        if fichero.name.startswith('df_TWB'):\\n\\n            # obtengo el c\\u00f3gigo de indicador que se encuentra en el nombre del fichero\\n            codigo_fichero = fichero.name[7:-8]\\n            # busco el c\\u00f3digo en mi lista de c\\u00f3digos \\n            # y procedo a renombrar la columna de inter\\u00e9s\\n            if codigo_fichero in codigos:\\n                df=pd.read_parquet(directorio+fichero.name)\\n\\n                # obtengo el \\u00edndice en mi lista de c\\u00f3digos que \\n                # se corresponde con el \\u00edndice en mi lista de nombres\\n                indice_codigo = codigos.index(codigo_fichero)\\n                #df.rename(columns={'value':columnas[indice_codigo]},inplace=True)\\n                trabajo[columnas[indice_codigo]]=df.value\\n                \\n                \";\n",
       "                var nbb_formatted_code = \"import os\\n\\ndirectorio = \\\"../datasets/\\\"\\n\\nwith os.scandir(directorio) as ficheros:\\n\\n    trabajo = pd.read_parquet(\\\"../datasets/df_TWB_SP.DYN.LE00.IN.parquet\\\")[\\n        [\\\"date\\\", \\\"countryiso3code\\\"]\\n    ]\\n\\n    for fichero in ficheros:\\n        if fichero.name.startswith(\\\"df_TWB\\\"):\\n\\n            # obtengo el c\\u00f3gigo de indicador que se encuentra en el nombre del fichero\\n            codigo_fichero = fichero.name[7:-8]\\n            # busco el c\\u00f3digo en mi lista de c\\u00f3digos\\n            # y procedo a renombrar la columna de inter\\u00e9s\\n            if codigo_fichero in codigos:\\n                df = pd.read_parquet(directorio + fichero.name)\\n\\n                # obtengo el \\u00edndice en mi lista de c\\u00f3digos que\\n                # se corresponde con el \\u00edndice en mi lista de nombres\\n                indice_codigo = codigos.index(codigo_fichero)\\n                # df.rename(columns={'value':columnas[indice_codigo]},inplace=True)\\n                trabajo[columnas[indice_codigo]] = df.value\";\n",
       "                var nbb_cells = Jupyter.notebook.get_cells();\n",
       "                for (var i = 0; i < nbb_cells.length; ++i) {\n",
       "                    if (nbb_cells[i].input_prompt_number == nbb_cell_id) {\n",
       "                        if (nbb_cells[i].get_text() == nbb_unformatted_code) {\n",
       "                             nbb_cells[i].set_text(nbb_formatted_code);\n",
       "                        }\n",
       "                        break;\n",
       "                    }\n",
       "                }\n",
       "            }, 500);\n",
       "            "
      ],
      "text/plain": [
       "<IPython.core.display.Javascript object>"
      ]
     },
     "metadata": {},
     "output_type": "display_data"
    }
   ],
   "source": [
    "import os\n",
    "\n",
    "directorio = \"../datasets/\"\n",
    "\n",
    "with os.scandir(directorio) as ficheros:\n",
    "\n",
    "    trabajo = pd.read_parquet(\"../datasets/df_TWB_SP.DYN.LE00.IN.parquet\")[\n",
    "        [\"date\", \"countryiso3code\"]\n",
    "    ]\n",
    "\n",
    "    for fichero in ficheros:\n",
    "        if fichero.name.startswith(\"df_TWB\"):\n",
    "\n",
    "            # obtengo el cógigo de indicador que se encuentra en el nombre del fichero\n",
    "            codigo_fichero = fichero.name[7:-8]\n",
    "            # busco el código en mi lista de códigos\n",
    "            # y procedo a renombrar la columna de interés\n",
    "            if codigo_fichero in codigos:\n",
    "                df = pd.read_parquet(directorio + fichero.name)\n",
    "\n",
    "                # obtengo el índice en mi lista de códigos que\n",
    "                # se corresponde con el índice en mi lista de nombres\n",
    "                indice_codigo = codigos.index(codigo_fichero)\n",
    "                # df.rename(columns={'value':columnas[indice_codigo]},inplace=True)\n",
    "                trabajo[columnas[indice_codigo]] = df.value"
   ]
  },
  {
   "cell_type": "code",
   "execution_count": 22,
   "metadata": {},
   "outputs": [],
   "source": [
    "trabajo = trabajo.merge(\n",
    "                        nivel_ingreso[['id','incomeLevel.value']], \n",
    "                        left_on='countryiso3code',\n",
    "                        right_on='id',\n",
    "                        )"
   ]
  },
  {
   "cell_type": "code",
   "execution_count": 83,
   "metadata": {},
   "outputs": [
    {
     "data": {
      "text/html": [
       "<div>\n",
       "<style scoped>\n",
       "    .dataframe tbody tr th:only-of-type {\n",
       "        vertical-align: middle;\n",
       "    }\n",
       "\n",
       "    .dataframe tbody tr th {\n",
       "        vertical-align: top;\n",
       "    }\n",
       "\n",
       "    .dataframe thead th {\n",
       "        text-align: right;\n",
       "    }\n",
       "</style>\n",
       "<table border=\"1\" class=\"dataframe\">\n",
       "  <thead>\n",
       "    <tr style=\"text-align: right;\">\n",
       "      <th></th>\n",
       "      <th>date</th>\n",
       "      <th>countryiso3code</th>\n",
       "      <th>pib_ppa_prec_inter</th>\n",
       "      <th>población_mujeres_pje</th>\n",
       "      <th>esperanza_vida_total</th>\n",
       "      <th>población_hombres_pje</th>\n",
       "      <th>esperanza_vida_mujeres</th>\n",
       "      <th>esperanza_vida_varones</th>\n",
       "      <th>pib_pc_prec_inter</th>\n",
       "      <th>pib_pc_usd_actuales</th>\n",
       "      <th>id</th>\n",
       "      <th>incomeLevel.value</th>\n",
       "    </tr>\n",
       "  </thead>\n",
       "  <tbody>\n",
       "    <tr>\n",
       "      <th>0</th>\n",
       "      <td>2020</td>\n",
       "      <td>AFG</td>\n",
       "      <td>8.091174e+10</td>\n",
       "      <td>48.684520</td>\n",
       "      <td>65.173</td>\n",
       "      <td>51.315480</td>\n",
       "      <td>66.744</td>\n",
       "      <td>63.708</td>\n",
       "      <td>2078.479082</td>\n",
       "      <td>516.747871</td>\n",
       "      <td>AFG</td>\n",
       "      <td>Low income</td>\n",
       "    </tr>\n",
       "    <tr>\n",
       "      <th>1</th>\n",
       "      <td>2019</td>\n",
       "      <td>AFG</td>\n",
       "      <td>8.187310e+10</td>\n",
       "      <td>48.662395</td>\n",
       "      <td>64.833</td>\n",
       "      <td>51.337605</td>\n",
       "      <td>66.388</td>\n",
       "      <td>63.382</td>\n",
       "      <td>2152.190243</td>\n",
       "      <td>494.179350</td>\n",
       "      <td>AFG</td>\n",
       "      <td>Low income</td>\n",
       "    </tr>\n",
       "    <tr>\n",
       "      <th>2</th>\n",
       "      <td>2018</td>\n",
       "      <td>AFG</td>\n",
       "      <td>7.740652e+10</td>\n",
       "      <td>48.635847</td>\n",
       "      <td>64.486</td>\n",
       "      <td>51.364153</td>\n",
       "      <td>66.026</td>\n",
       "      <td>63.047</td>\n",
       "      <td>2082.392197</td>\n",
       "      <td>485.668419</td>\n",
       "      <td>AFG</td>\n",
       "      <td>Low income</td>\n",
       "    </tr>\n",
       "    <tr>\n",
       "      <th>3</th>\n",
       "      <td>2017</td>\n",
       "      <td>AFG</td>\n",
       "      <td>7.471192e+10</td>\n",
       "      <td>48.611616</td>\n",
       "      <td>64.130</td>\n",
       "      <td>51.388384</td>\n",
       "      <td>65.656</td>\n",
       "      <td>62.701</td>\n",
       "      <td>2058.400221</td>\n",
       "      <td>516.679862</td>\n",
       "      <td>AFG</td>\n",
       "      <td>Low income</td>\n",
       "    </tr>\n",
       "    <tr>\n",
       "      <th>4</th>\n",
       "      <td>2016</td>\n",
       "      <td>AFG</td>\n",
       "      <td>7.009796e+10</td>\n",
       "      <td>48.599668</td>\n",
       "      <td>63.763</td>\n",
       "      <td>51.400332</td>\n",
       "      <td>65.275</td>\n",
       "      <td>62.343</td>\n",
       "      <td>1981.118069</td>\n",
       "      <td>512.012778</td>\n",
       "      <td>AFG</td>\n",
       "      <td>Low income</td>\n",
       "    </tr>\n",
       "    <tr>\n",
       "      <th>...</th>\n",
       "      <td>...</td>\n",
       "      <td>...</td>\n",
       "      <td>...</td>\n",
       "      <td>...</td>\n",
       "      <td>...</td>\n",
       "      <td>...</td>\n",
       "      <td>...</td>\n",
       "      <td>...</td>\n",
       "      <td>...</td>\n",
       "      <td>...</td>\n",
       "      <td>...</td>\n",
       "      <td>...</td>\n",
       "    </tr>\n",
       "    <tr>\n",
       "      <th>5544</th>\n",
       "      <td>1994</td>\n",
       "      <td>ZMB</td>\n",
       "      <td>1.255557e+10</td>\n",
       "      <td>50.301818</td>\n",
       "      <td>44.983</td>\n",
       "      <td>49.698182</td>\n",
       "      <td>46.808</td>\n",
       "      <td>43.264</td>\n",
       "      <td>1415.550409</td>\n",
       "      <td>412.260752</td>\n",
       "      <td>ZMB</td>\n",
       "      <td>Low income</td>\n",
       "    </tr>\n",
       "    <tr>\n",
       "      <th>5545</th>\n",
       "      <td>1993</td>\n",
       "      <td>ZMB</td>\n",
       "      <td>1.345348e+10</td>\n",
       "      <td>50.264033</td>\n",
       "      <td>45.919</td>\n",
       "      <td>49.735967</td>\n",
       "      <td>47.598</td>\n",
       "      <td>44.321</td>\n",
       "      <td>1554.151167</td>\n",
       "      <td>378.125559</td>\n",
       "      <td>ZMB</td>\n",
       "      <td>Low income</td>\n",
       "    </tr>\n",
       "    <tr>\n",
       "      <th>5546</th>\n",
       "      <td>1992</td>\n",
       "      <td>ZMB</td>\n",
       "      <td>1.230553e+10</td>\n",
       "      <td>50.223669</td>\n",
       "      <td>46.987</td>\n",
       "      <td>49.776331</td>\n",
       "      <td>48.521</td>\n",
       "      <td>45.513</td>\n",
       "      <td>1456.044324</td>\n",
       "      <td>376.498819</td>\n",
       "      <td>ZMB</td>\n",
       "      <td>Low income</td>\n",
       "    </tr>\n",
       "    <tr>\n",
       "      <th>5547</th>\n",
       "      <td>1991</td>\n",
       "      <td>ZMB</td>\n",
       "      <td>1.224327e+10</td>\n",
       "      <td>50.186754</td>\n",
       "      <td>48.125</td>\n",
       "      <td>49.813246</td>\n",
       "      <td>49.523</td>\n",
       "      <td>46.768</td>\n",
       "      <td>1484.633685</td>\n",
       "      <td>409.727275</td>\n",
       "      <td>ZMB</td>\n",
       "      <td>Low income</td>\n",
       "    </tr>\n",
       "    <tr>\n",
       "      <th>5548</th>\n",
       "      <td>1990</td>\n",
       "      <td>ZMB</td>\n",
       "      <td>1.184706e+10</td>\n",
       "      <td>50.158290</td>\n",
       "      <td>49.249</td>\n",
       "      <td>49.841710</td>\n",
       "      <td>50.531</td>\n",
       "      <td>47.996</td>\n",
       "      <td>1474.092450</td>\n",
       "      <td>408.769331</td>\n",
       "      <td>ZMB</td>\n",
       "      <td>Low income</td>\n",
       "    </tr>\n",
       "  </tbody>\n",
       "</table>\n",
       "<p>5244 rows × 12 columns</p>\n",
       "</div>"
      ],
      "text/plain": [
       "      date countryiso3code  pib_ppa_prec_inter  población_mujeres_pje  \\\n",
       "0     2020             AFG        8.091174e+10              48.684520   \n",
       "1     2019             AFG        8.187310e+10              48.662395   \n",
       "2     2018             AFG        7.740652e+10              48.635847   \n",
       "3     2017             AFG        7.471192e+10              48.611616   \n",
       "4     2016             AFG        7.009796e+10              48.599668   \n",
       "...    ...             ...                 ...                    ...   \n",
       "5544  1994             ZMB        1.255557e+10              50.301818   \n",
       "5545  1993             ZMB        1.345348e+10              50.264033   \n",
       "5546  1992             ZMB        1.230553e+10              50.223669   \n",
       "5547  1991             ZMB        1.224327e+10              50.186754   \n",
       "5548  1990             ZMB        1.184706e+10              50.158290   \n",
       "\n",
       "      esperanza_vida_total  población_hombres_pje  esperanza_vida_mujeres  \\\n",
       "0                   65.173              51.315480                  66.744   \n",
       "1                   64.833              51.337605                  66.388   \n",
       "2                   64.486              51.364153                  66.026   \n",
       "3                   64.130              51.388384                  65.656   \n",
       "4                   63.763              51.400332                  65.275   \n",
       "...                    ...                    ...                     ...   \n",
       "5544                44.983              49.698182                  46.808   \n",
       "5545                45.919              49.735967                  47.598   \n",
       "5546                46.987              49.776331                  48.521   \n",
       "5547                48.125              49.813246                  49.523   \n",
       "5548                49.249              49.841710                  50.531   \n",
       "\n",
       "      esperanza_vida_varones  pib_pc_prec_inter  pib_pc_usd_actuales   id  \\\n",
       "0                     63.708        2078.479082           516.747871  AFG   \n",
       "1                     63.382        2152.190243           494.179350  AFG   \n",
       "2                     63.047        2082.392197           485.668419  AFG   \n",
       "3                     62.701        2058.400221           516.679862  AFG   \n",
       "4                     62.343        1981.118069           512.012778  AFG   \n",
       "...                      ...                ...                  ...  ...   \n",
       "5544                  43.264        1415.550409           412.260752  ZMB   \n",
       "5545                  44.321        1554.151167           378.125559  ZMB   \n",
       "5546                  45.513        1456.044324           376.498819  ZMB   \n",
       "5547                  46.768        1484.633685           409.727275  ZMB   \n",
       "5548                  47.996        1474.092450           408.769331  ZMB   \n",
       "\n",
       "     incomeLevel.value  \n",
       "0           Low income  \n",
       "1           Low income  \n",
       "2           Low income  \n",
       "3           Low income  \n",
       "4           Low income  \n",
       "...                ...  \n",
       "5544        Low income  \n",
       "5545        Low income  \n",
       "5546        Low income  \n",
       "5547        Low income  \n",
       "5548        Low income  \n",
       "\n",
       "[5244 rows x 12 columns]"
      ]
     },
     "execution_count": 83,
     "metadata": {},
     "output_type": "execute_result"
    }
   ],
   "source": [
    "trabajo"
   ]
  },
  {
   "cell_type": "code",
   "execution_count": 33,
   "metadata": {},
   "outputs": [
    {
     "data": {
      "text/plain": [
       "date                            0\n",
       "countryiso3code                 0\n",
       "pib_ppa_prec_inter            665\n",
       "población_mujeres_pje         443\n",
       "esperanza_vida_total          305\n",
       "población_hombres_pje         443\n",
       "duración_educ_obligatoria    1995\n",
       "índice_gini                  4076\n",
       "esperanza_vida_mujeres        305\n",
       "esperanza_vida_varones        305\n",
       "gasto_púb_educacion_pje      2646\n",
       "capacidad_estadística        3360\n",
       "pib_pc_prec_inter             668\n",
       "pib_pc_usd_actuales           369\n",
       "id                              0\n",
       "incomeLevel.value               0\n",
       "dtype: int64"
      ]
     },
     "execution_count": 33,
     "metadata": {},
     "output_type": "execute_result"
    }
   ],
   "source": [
    "trabajo.isna().sum()"
   ]
  },
  {
   "cell_type": "markdown",
   "metadata": {},
   "source": [
    "Al ser nuestro objetivo la esperanza de vida, no sería recomendable inventar esos datos con un promedio, ni nada parecido. por lo que vamos a limpiar todas las filas que tengan valores nulos en la esperanza de vida al nacer"
   ]
  },
  {
   "cell_type": "code",
   "execution_count": 46,
   "metadata": {},
   "outputs": [],
   "source": [
    "trabajo.dropna(subset=['esperanza_vida_total'], inplace=True)"
   ]
  },
  {
   "cell_type": "markdown",
   "metadata": {},
   "source": [
    "Verificamos nuevamente los datos"
   ]
  },
  {
   "cell_type": "code",
   "execution_count": 60,
   "metadata": {},
   "outputs": [
    {
     "data": {
      "text/plain": [
       "date                            0\n",
       "countryiso3code                 0\n",
       "pib_ppa_prec_inter            501\n",
       "población_mujeres_pje         166\n",
       "esperanza_vida_total            0\n",
       "población_hombres_pje         166\n",
       "duración_educ_obligatoria    1858\n",
       "índice_gini                  3772\n",
       "esperanza_vida_mujeres          0\n",
       "esperanza_vida_varones          0\n",
       "gasto_púb_educacion_pje      2414\n",
       "capacidad_estadística        3118\n",
       "pib_pc_prec_inter             504\n",
       "pib_pc_usd_actuales           276\n",
       "id                              0\n",
       "incomeLevel.value               0\n",
       "dtype: int64"
      ]
     },
     "execution_count": 60,
     "metadata": {},
     "output_type": "execute_result"
    }
   ],
   "source": [
    "trabajo.isna().sum()"
   ]
  },
  {
   "cell_type": "markdown",
   "metadata": {},
   "source": [
    "Vamos a eliminar todas aquellas columnas que tengan más del 30% de datos núlos. Dado que de trabajar sobre ellas con alguna estratégia de imputación no sería adecuado."
   ]
  },
  {
   "cell_type": "code",
   "execution_count": 78,
   "metadata": {},
   "outputs": [
    {
     "data": {
      "text/plain": [
       "date                          0.000000\n",
       "countryiso3code               0.000000\n",
       "pib_ppa_prec_inter            9.553776\n",
       "población_mujeres_pje         3.165523\n",
       "esperanza_vida_total          0.000000\n",
       "población_hombres_pje         3.165523\n",
       "duración_educ_obligatoria    35.430969\n",
       "índice_gini                  71.929825\n",
       "esperanza_vida_mujeres        0.000000\n",
       "esperanza_vida_varones        0.000000\n",
       "gasto_púb_educacion_pje      46.033562\n",
       "capacidad_estadística        59.458429\n",
       "pib_pc_prec_inter             9.610984\n",
       "pib_pc_usd_actuales           5.263158\n",
       "id                            0.000000\n",
       "incomeLevel.value             0.000000\n",
       "dtype: float64"
      ]
     },
     "execution_count": 78,
     "metadata": {},
     "output_type": "execute_result"
    }
   ],
   "source": [
    "(trabajo.isna().sum()/trabajo.shape[0])*100"
   ]
  },
  {
   "cell_type": "code",
   "execution_count": 79,
   "metadata": {},
   "outputs": [],
   "source": [
    "trabajo.drop(columns=[  'índice_gini',\n",
    "                        'capacidad_estadística', \n",
    "                        'gasto_púb_educacion_pje', \n",
    "                        'duración_educ_obligatoria'],\n",
    "            inplace=True\n",
    "            )"
   ]
  },
  {
   "cell_type": "code",
   "execution_count": 82,
   "metadata": {},
   "outputs": [
    {
     "name": "stdout",
     "output_type": "stream",
     "text": [
      "<class 'pandas.core.frame.DataFrame'>\n",
      "Int64Index: 5244 entries, 0 to 5548\n",
      "Data columns (total 12 columns):\n",
      " #   Column                  Non-Null Count  Dtype  \n",
      "---  ------                  --------------  -----  \n",
      " 0   date                    5244 non-null   object \n",
      " 1   countryiso3code         5244 non-null   object \n",
      " 2   pib_ppa_prec_inter      4743 non-null   float64\n",
      " 3   población_mujeres_pje   5078 non-null   float64\n",
      " 4   esperanza_vida_total    5244 non-null   float64\n",
      " 5   población_hombres_pje   5078 non-null   float64\n",
      " 6   esperanza_vida_mujeres  5244 non-null   float64\n",
      " 7   esperanza_vida_varones  5244 non-null   float64\n",
      " 8   pib_pc_prec_inter       4740 non-null   float64\n",
      " 9   pib_pc_usd_actuales     4968 non-null   float64\n",
      " 10  id                      5244 non-null   object \n",
      " 11  incomeLevel.value       5244 non-null   object \n",
      "dtypes: float64(8), object(4)\n",
      "memory usage: 532.6+ KB\n"
     ]
    }
   ],
   "source": [
    "trabajo.info()"
   ]
  },
  {
   "cell_type": "code",
   "execution_count": 88,
   "metadata": {},
   "outputs": [
    {
     "data": {
      "text/plain": [
       "esperanza_vida_total      1.000000\n",
       "esperanza_vida_mujeres    0.994401\n",
       "esperanza_vida_varones    0.993782\n",
       "pib_pc_prec_inter         0.591415\n",
       "pib_pc_usd_actuales       0.540825\n",
       "pib_ppa_prec_inter        0.211011\n",
       "población_hombres_pje     0.032236\n",
       "población_mujeres_pje    -0.032236\n",
       "Name: esperanza_vida_total, dtype: float64"
      ]
     },
     "execution_count": 88,
     "metadata": {},
     "output_type": "execute_result"
    }
   ],
   "source": [
    "corr_matrix = trabajo.corr()\n",
    "corr_matrix[\"esperanza_vida_total\"].sort_values(ascending=False)"
   ]
  },
  {
   "cell_type": "markdown",
   "metadata": {},
   "source": [
    "Dividimos el dataset de trabajo en cuatro datasets para analizar según su nivel de ingresos"
   ]
  },
  {
   "cell_type": "code",
   "execution_count": 90,
   "metadata": {},
   "outputs": [
    {
     "data": {
      "text/plain": [
       "Lower middle income    1550\n",
       "Upper middle income    1427\n",
       "High income            1368\n",
       "Low income              868\n",
       "Not classified           31\n",
       "Name: incomeLevel.value, dtype: int64"
      ]
     },
     "execution_count": 90,
     "metadata": {},
     "output_type": "execute_result"
    }
   ],
   "source": [
    "trabajo['incomeLevel.value'].value_counts()"
   ]
  },
  {
   "cell_type": "code",
   "execution_count": 91,
   "metadata": {},
   "outputs": [],
   "source": [
    "ingreso_bajo = trabajo.loc[trabajo['incomeLevel.value'] == 'Low income']\n",
    "ingreso_medio_bajo = trabajo.loc[trabajo['incomeLevel.value'] == 'Lower middle income']\n",
    "ingreso_medio_alto = trabajo.loc[trabajo['incomeLevel.value'] == 'Upper middle income']\n",
    "ingreso_alto = trabajo.loc[trabajo['incomeLevel.value'] == 'High income']\n"
   ]
  },
  {
   "cell_type": "code",
   "execution_count": 93,
   "metadata": {},
   "outputs": [
    {
     "data": {
      "text/plain": [
       "date                        0\n",
       "countryiso3code             0\n",
       "pib_ppa_prec_inter        224\n",
       "población_mujeres_pje     148\n",
       "esperanza_vida_total        0\n",
       "población_hombres_pje     148\n",
       "esperanza_vida_mujeres      0\n",
       "esperanza_vida_varones      0\n",
       "pib_pc_prec_inter         227\n",
       "pib_pc_usd_actuales       105\n",
       "id                          0\n",
       "incomeLevel.value           0\n",
       "dtype: int64"
      ]
     },
     "execution_count": 93,
     "metadata": {},
     "output_type": "execute_result"
    }
   ],
   "source": [
    "ingreso_alto.isnull().sum()"
   ]
  }
 ],
 "metadata": {
  "kernelspec": {
   "display_name": "Python 3 (ipykernel)",
   "language": "python",
   "name": "python3"
  },
  "language_info": {
   "codemirror_mode": {
    "name": "ipython",
    "version": 3
   },
   "file_extension": ".py",
   "mimetype": "text/x-python",
   "name": "python",
   "nbconvert_exporter": "python",
   "pygments_lexer": "ipython3",
   "version": "3.8.10"
  },
  "vscode": {
   "interpreter": {
    "hash": "1a870c4107f8e48f8203b47bc0a16c443c8212083e29931ccf1e55a5d38e3b4d"
   }
  }
 },
 "nbformat": 4,
 "nbformat_minor": 2
}
