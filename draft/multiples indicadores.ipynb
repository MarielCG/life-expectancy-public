{
 "cells": [
  {
   "cell_type": "markdown",
   "metadata": {},
   "source": [
    "# Recolección de datos"
   ]
  },
  {
   "cell_type": "code",
   "execution_count": 2,
   "metadata": {},
   "outputs": [],
   "source": [
    "import requests\n",
    "import pandas as pd"
   ]
  },
  {
   "cell_type": "markdown",
   "metadata": {},
   "source": [
    "## Clasificación de países por nivel de ingreso"
   ]
  },
  {
   "cell_type": "code",
   "execution_count": 3,
   "metadata": {},
   "outputs": [
    {
     "data": {
      "text/html": [
       "<div>\n",
       "<style scoped>\n",
       "    .dataframe tbody tr th:only-of-type {\n",
       "        vertical-align: middle;\n",
       "    }\n",
       "\n",
       "    .dataframe tbody tr th {\n",
       "        vertical-align: top;\n",
       "    }\n",
       "\n",
       "    .dataframe thead th {\n",
       "        text-align: right;\n",
       "    }\n",
       "</style>\n",
       "<table border=\"1\" class=\"dataframe\">\n",
       "  <thead>\n",
       "    <tr style=\"text-align: right;\">\n",
       "      <th></th>\n",
       "      <th>value</th>\n",
       "      <th>id</th>\n",
       "    </tr>\n",
       "  </thead>\n",
       "  <tbody>\n",
       "    <tr>\n",
       "      <th>0</th>\n",
       "      <td>High income</td>\n",
       "      <td>HIC</td>\n",
       "    </tr>\n",
       "    <tr>\n",
       "      <th>1</th>\n",
       "      <td>Not classified</td>\n",
       "      <td>INX</td>\n",
       "    </tr>\n",
       "    <tr>\n",
       "      <th>2</th>\n",
       "      <td>Low income</td>\n",
       "      <td>LIC</td>\n",
       "    </tr>\n",
       "    <tr>\n",
       "      <th>3</th>\n",
       "      <td>Lower middle income</td>\n",
       "      <td>LMC</td>\n",
       "    </tr>\n",
       "    <tr>\n",
       "      <th>4</th>\n",
       "      <td>Low &amp; middle income</td>\n",
       "      <td>LMY</td>\n",
       "    </tr>\n",
       "    <tr>\n",
       "      <th>5</th>\n",
       "      <td>Middle income</td>\n",
       "      <td>MIC</td>\n",
       "    </tr>\n",
       "    <tr>\n",
       "      <th>6</th>\n",
       "      <td>Upper middle income</td>\n",
       "      <td>UMC</td>\n",
       "    </tr>\n",
       "  </tbody>\n",
       "</table>\n",
       "</div>"
      ],
      "text/plain": [
       "                 value   id\n",
       "0          High income  HIC\n",
       "1       Not classified  INX\n",
       "2           Low income  LIC\n",
       "3  Lower middle income  LMC\n",
       "4  Low & middle income  LMY\n",
       "5        Middle income  MIC\n",
       "6  Upper middle income  UMC"
      ]
     },
     "execution_count": 3,
     "metadata": {},
     "output_type": "execute_result"
    }
   ],
   "source": [
    "#Aqui vemos la lista de niveles de Ingreso y sus respectivos códigos\n",
    "url = 'http://api.worldbank.org/v2/incomelevel' \n",
    "args = {\"format\":\"json\", \"prefix\":\"Getdata\"}\n",
    "dic_Income_Level = requests.get(url, params=args)\n",
    "datos = dic_Income_Level.json()[1]\n",
    "data = pd.json_normalize(datos)\n",
    "data[['value', 'id']]"
   ]
  },
  {
   "cell_type": "code",
   "execution_count": 4,
   "metadata": {},
   "outputs": [],
   "source": [
    "incomes = ['HIC', 'UMC', 'LMC', 'LIC','INX']\n",
    "nivel_ingreso = pd.DataFrame()\n",
    "for income in incomes:\n",
    "    url = 'http://api.worldbank.org/v2/country' #Aqui vemos la lista de niveles de Ingreso y sus respectivos códigos\n",
    "    args = {\"format\":\"json\", \"prefix\":\"Getdata\", \"incomelevel\":income}\n",
    "    dic_Income_Level = requests.get(url, params=args)\n",
    "    datos = dic_Income_Level.json()[1]\n",
    "    data = pd.json_normalize(datos)\n",
    "    #data = data[['name', 'id', 'region.value', 'incomeLevel.value']]\n",
    "    nivel_ingreso = pd.concat([nivel_ingreso, data], ignore_index=True)\n"
   ]
  },
  {
   "cell_type": "code",
   "execution_count": 89,
   "metadata": {},
   "outputs": [
    {
     "data": {
      "text/html": [
       "<div>\n",
       "<style scoped>\n",
       "    .dataframe tbody tr th:only-of-type {\n",
       "        vertical-align: middle;\n",
       "    }\n",
       "\n",
       "    .dataframe tbody tr th {\n",
       "        vertical-align: top;\n",
       "    }\n",
       "\n",
       "    .dataframe thead th {\n",
       "        text-align: right;\n",
       "    }\n",
       "</style>\n",
       "<table border=\"1\" class=\"dataframe\">\n",
       "  <thead>\n",
       "    <tr style=\"text-align: right;\">\n",
       "      <th></th>\n",
       "      <th>name</th>\n",
       "      <th>id</th>\n",
       "      <th>region.value</th>\n",
       "      <th>incomeLevel.value</th>\n",
       "    </tr>\n",
       "  </thead>\n",
       "  <tbody>\n",
       "    <tr>\n",
       "      <th>0</th>\n",
       "      <td>Aruba</td>\n",
       "      <td>ABW</td>\n",
       "      <td>Latin America &amp; Caribbean</td>\n",
       "      <td>High income</td>\n",
       "    </tr>\n",
       "    <tr>\n",
       "      <th>1</th>\n",
       "      <td>Andorra</td>\n",
       "      <td>AND</td>\n",
       "      <td>Europe &amp; Central Asia</td>\n",
       "      <td>High income</td>\n",
       "    </tr>\n",
       "    <tr>\n",
       "      <th>2</th>\n",
       "      <td>United Arab Emirates</td>\n",
       "      <td>ARE</td>\n",
       "      <td>Middle East &amp; North Africa</td>\n",
       "      <td>High income</td>\n",
       "    </tr>\n",
       "    <tr>\n",
       "      <th>3</th>\n",
       "      <td>Antigua and Barbuda</td>\n",
       "      <td>ATG</td>\n",
       "      <td>Latin America &amp; Caribbean</td>\n",
       "      <td>High income</td>\n",
       "    </tr>\n",
       "    <tr>\n",
       "      <th>4</th>\n",
       "      <td>Australia</td>\n",
       "      <td>AUS</td>\n",
       "      <td>East Asia &amp; Pacific</td>\n",
       "      <td>High income</td>\n",
       "    </tr>\n",
       "    <tr>\n",
       "      <th>...</th>\n",
       "      <td>...</td>\n",
       "      <td>...</td>\n",
       "      <td>...</td>\n",
       "      <td>...</td>\n",
       "    </tr>\n",
       "    <tr>\n",
       "      <th>174</th>\n",
       "      <td>Togo</td>\n",
       "      <td>TGO</td>\n",
       "      <td>Sub-Saharan Africa</td>\n",
       "      <td>Low income</td>\n",
       "    </tr>\n",
       "    <tr>\n",
       "      <th>175</th>\n",
       "      <td>Uganda</td>\n",
       "      <td>UGA</td>\n",
       "      <td>Sub-Saharan Africa</td>\n",
       "      <td>Low income</td>\n",
       "    </tr>\n",
       "    <tr>\n",
       "      <th>176</th>\n",
       "      <td>Yemen, Rep.</td>\n",
       "      <td>YEM</td>\n",
       "      <td>Middle East &amp; North Africa</td>\n",
       "      <td>Low income</td>\n",
       "    </tr>\n",
       "    <tr>\n",
       "      <th>177</th>\n",
       "      <td>Zambia</td>\n",
       "      <td>ZMB</td>\n",
       "      <td>Sub-Saharan Africa</td>\n",
       "      <td>Low income</td>\n",
       "    </tr>\n",
       "    <tr>\n",
       "      <th>178</th>\n",
       "      <td>Venezuela, RB</td>\n",
       "      <td>VEN</td>\n",
       "      <td>Latin America &amp; Caribbean</td>\n",
       "      <td>Not classified</td>\n",
       "    </tr>\n",
       "  </tbody>\n",
       "</table>\n",
       "<p>179 rows × 4 columns</p>\n",
       "</div>"
      ],
      "text/plain": [
       "                     name   id                region.value incomeLevel.value\n",
       "0                   Aruba  ABW  Latin America & Caribbean        High income\n",
       "1                 Andorra  AND       Europe & Central Asia       High income\n",
       "2    United Arab Emirates  ARE  Middle East & North Africa       High income\n",
       "3     Antigua and Barbuda  ATG  Latin America & Caribbean        High income\n",
       "4               Australia  AUS         East Asia & Pacific       High income\n",
       "..                    ...  ...                         ...               ...\n",
       "174                  Togo  TGO         Sub-Saharan Africa         Low income\n",
       "175                Uganda  UGA         Sub-Saharan Africa         Low income\n",
       "176           Yemen, Rep.  YEM  Middle East & North Africa        Low income\n",
       "177                Zambia  ZMB         Sub-Saharan Africa         Low income\n",
       "178         Venezuela, RB  VEN  Latin America & Caribbean     Not classified\n",
       "\n",
       "[179 rows x 4 columns]"
      ]
     },
     "execution_count": 89,
     "metadata": {},
     "output_type": "execute_result"
    }
   ],
   "source": [
    "nivel_ingreso"
   ]
  },
  {
   "cell_type": "markdown",
   "metadata": {},
   "source": [
    "## Obtención de distintos indicadores"
   ]
  },
  {
   "cell_type": "code",
   "execution_count": 3,
   "metadata": {},
   "outputs": [],
   "source": [
    "def consultar(pais: str, indicador:str, pagina:int = 1):\n",
    "\n",
    "    '''Función que contacta a la API y devuelve la respuesta\n",
    "    que brinda la misma en formato json'''\n",
    "\n",
    "    # Página de la api y path al recurso solicitado\n",
    "    api_url = 'http://api.worldbank.org/v2/es'\n",
    "    path = f'/country/{pais}/indicator/{indicador}'\n",
    "    url = api_url + path\n",
    "\n",
    "    # Creamos el diccionario con los parametros \n",
    "    # para el método get\n",
    "    args= {\n",
    "        \"date\":'1990:2020',\n",
    "        'page':pagina,\n",
    "        \"per_page\":1000,\n",
    "        \"format\":\"json\",\n",
    "        \"prefix\":\"Getdata\",\n",
    "    }\n",
    "   \n",
    "    return requests.get(url,params=args).json()"
   ]
  },
  {
   "cell_type": "code",
   "execution_count": 4,
   "metadata": {},
   "outputs": [],
   "source": [
    "def consultar_por_pais():\n",
    "    '''Función que retorna un código de país,\n",
    "    para, en caso que se quiera o se solicite,\n",
    "    consultar en tiempo real la API'''\n",
    "    paises=pd.read_parquet('../datasets/paises.parquet')\n",
    "\n",
    "    seleccion = input(\"Ingrese un nombre de país: \")\n",
    "    try:\n",
    "        pais = paises.loc[paises.name.str.contains(seleccion, case=False),'id'].values[0]\n",
    "    except:\n",
    "        print(\"No se encontró el país, intente de nuevo\")"
   ]
  },
  {
   "cell_type": "code",
   "execution_count": 5,
   "metadata": {},
   "outputs": [],
   "source": [
    "# Estos indicadores fueron seleccionados \n",
    "# de forma manual al final del documento\n",
    "indicadores = pd.read_csv('../datasets/indicadores_seleccionados.csv')\n",
    "\n",
    "tuplas = [(a,b) for a,b in zip(indicadores.id.to_list(), \n",
    "          indicadores.name.to_list())]"
   ]
  },
  {
   "cell_type": "code",
   "execution_count": 12,
   "metadata": {},
   "outputs": [],
   "source": [
    "def carga_incremental(pais, indicador):\n",
    "    '''Función que a partir de un país y un indicador \n",
    "    llama a consultar y establece qué tipo de contenido tiene\n",
    "    según eso devuelve o no un dataframe con todos los datos'''\n",
    "\n",
    "    consulta = consultar(pais, indicador)\n",
    "    try:\n",
    "        # La primera parte de la respuesta nos indica en \n",
    "        # cuantas páginas de encuentra la información\n",
    "        paginas = consulta[0][\"pages\"]\n",
    "\n",
    "        # La segunda parte nos retorna una lista de \n",
    "        # diccionarios con la información que queríamos\n",
    "        datos=consulta[1]\n",
    "\n",
    "    except:\n",
    "        print('No hay datos para:', indicador, pais)\n",
    "        pass\n",
    "    else:\n",
    "        if paginas >= 1:\n",
    "            # Agregamos los valores de las otras páginas a\n",
    "            # nuestra lista de diccionarios\n",
    "            for pagina in range(2,paginas+1):\n",
    "                datos.extend(consultar(pais, indicador, pagina)[1])\n",
    "\n",
    "            # Creo el DataFrame con todos los datos\n",
    "            data = pd.json_normalize(datos)\n",
    "            return data\n",
    "        return pd.DataFrame(['error'],columns=['no_data'])\n"
   ]
  },
  {
   "cell_type": "code",
   "execution_count": null,
   "metadata": {},
   "outputs": [],
   "source": [
    "for indicador, _ in tuplas:\n",
    "    print(indicador)\n",
    "    datos = carga_incremental(pais='all', indicador=indicador)\n",
    "\n",
    "    # Guardo el dataframe resultante\n",
    "    datos.to_parquet(f'../datasets/df_TWB_{indicador}.parquet')\n",
    "    print('Guardado')\n"
   ]
  },
  {
   "cell_type": "markdown",
   "metadata": {},
   "source": [
    "# ETL"
   ]
  },
  {
   "cell_type": "markdown",
   "metadata": {},
   "source": [
    "## Búsqueda de indicadores"
   ]
  },
  {
   "cell_type": "markdown",
   "metadata": {},
   "source": [
    "La lista de indicadores bajo estudio se selecciona de forma manual a partir de los datos que indican distintas tesis de estudio. De todas formas los indicadores pasarán por un tamiz de análisis exploratorio"
   ]
  },
  {
   "cell_type": "code",
   "execution_count": 19,
   "metadata": {},
   "outputs": [],
   "source": [
    "indicadores_todos = pd.read_csv('../datasets/indicadores.csv')\n",
    "\n",
    "# Se completó los valores faltantes con 'na'\n",
    "# para poder buscar sobre el dataframe\n",
    "indicadores_todos.fillna('na',inplace=True)"
   ]
  },
  {
   "cell_type": "code",
   "execution_count": 37,
   "metadata": {},
   "outputs": [
    {
     "data": {
      "text/html": [
       "<div>\n",
       "<style scoped>\n",
       "    .dataframe tbody tr th:only-of-type {\n",
       "        vertical-align: middle;\n",
       "    }\n",
       "\n",
       "    .dataframe tbody tr th {\n",
       "        vertical-align: top;\n",
       "    }\n",
       "\n",
       "    .dataframe thead th {\n",
       "        text-align: right;\n",
       "    }\n",
       "</style>\n",
       "<table border=\"1\" class=\"dataframe\">\n",
       "  <thead>\n",
       "    <tr style=\"text-align: right;\">\n",
       "      <th></th>\n",
       "      <th>id</th>\n",
       "      <th>name</th>\n",
       "      <th>sourceNote</th>\n",
       "    </tr>\n",
       "  </thead>\n",
       "  <tbody>\n",
       "    <tr>\n",
       "      <th>17810</th>\n",
       "      <td>SP.POP.TOTL.FE.IN</td>\n",
       "      <td>Población, mujeres</td>\n",
       "      <td>Población, mujeres</td>\n",
       "    </tr>\n",
       "    <tr>\n",
       "      <th>17811</th>\n",
       "      <td>SP.POP.TOTL.FE.ZS</td>\n",
       "      <td>Población, mujeres (% del total)</td>\n",
       "      <td>La población femenina es el porcentaje de la p...</td>\n",
       "    </tr>\n",
       "  </tbody>\n",
       "</table>\n",
       "</div>"
      ],
      "text/plain": [
       "                      id                              name  \\\n",
       "17810  SP.POP.TOTL.FE.IN                Población, mujeres   \n",
       "17811  SP.POP.TOTL.FE.ZS  Población, mujeres (% del total)   \n",
       "\n",
       "                                              sourceNote  \n",
       "17810                                 Población, mujeres  \n",
       "17811  La población femenina es el porcentaje de la p...  "
      ]
     },
     "execution_count": 37,
     "metadata": {},
     "output_type": "execute_result"
    }
   ],
   "source": [
    "interes = input(\"Indicador de interés: \")\n",
    "indicadores_todos.loc[\n",
    "     indicadores_todos.name.str.contains(interes,case=False),\n",
    "     ['id','name','sourceNote']\n",
    "     ]#.to_csv('temp.csv')"
   ]
  },
  {
   "cell_type": "code",
   "execution_count": 26,
   "metadata": {},
   "outputs": [
    {
     "data": {
      "text/html": [
       "<div>\n",
       "<style scoped>\n",
       "    .dataframe tbody tr th:only-of-type {\n",
       "        vertical-align: middle;\n",
       "    }\n",
       "\n",
       "    .dataframe tbody tr th {\n",
       "        vertical-align: top;\n",
       "    }\n",
       "\n",
       "    .dataframe thead th {\n",
       "        text-align: right;\n",
       "    }\n",
       "</style>\n",
       "<table border=\"1\" class=\"dataframe\">\n",
       "  <thead>\n",
       "    <tr style=\"text-align: right;\">\n",
       "      <th></th>\n",
       "      <th>id</th>\n",
       "      <th>name</th>\n",
       "      <th>sourceNote</th>\n",
       "    </tr>\n",
       "  </thead>\n",
       "  <tbody>\n",
       "    <tr>\n",
       "      <th>17815</th>\n",
       "      <td>SP.POP.TOTL.MA.ZS</td>\n",
       "      <td>Población, hombres (% del total)</td>\n",
       "      <td>na</td>\n",
       "    </tr>\n",
       "  </tbody>\n",
       "</table>\n",
       "</div>"
      ],
      "text/plain": [
       "                      id                              name sourceNote\n",
       "17815  SP.POP.TOTL.MA.ZS  Población, hombres (% del total)         na"
      ]
     },
     "execution_count": 26,
     "metadata": {},
     "output_type": "execute_result"
    }
   ],
   "source": [
    "interes = input(\"Indicador de interés: \")\n",
    "seleccion = indicadores_todos.loc[indicadores_todos.id == interes,\n",
    "     ['id','name','sourceNote']]\n",
    "seleccion"
   ]
  },
  {
   "cell_type": "code",
   "execution_count": 6,
   "metadata": {},
   "outputs": [],
   "source": [
    "indicador_selec = pd.DataFrame()"
   ]
  },
  {
   "cell_type": "code",
   "execution_count": 108,
   "metadata": {},
   "outputs": [],
   "source": [
    "indicador_selec = pd.concat([indicador_selec, seleccion], \n",
    "                            ignore_index=True)"
   ]
  },
  {
   "cell_type": "markdown",
   "metadata": {},
   "source": [
    "## Exploración de los Datasets obtenidos"
   ]
  },
  {
   "cell_type": "code",
   "execution_count": 7,
   "metadata": {},
   "outputs": [
    {
     "name": "stdout",
     "output_type": "stream",
     "text": [
      "12\n",
      "12\n"
     ]
    }
   ],
   "source": [
    "codigos = [i for i, j in tuplas]\n",
    "nombres = [j for i, j in tuplas]\n",
    "\n",
    "columnas=['esperanza_vida_total', 'esperanza_vida_mujeres','esperanza_vida_varones','índice_gini','gasto_púb_educacion_pje','duración_educ_obligatoria','pib_pc_usd_actuales','pib_ppa_prec_inter','capacidad_estadística','población_mujeres_pje','población_hombres_pje','pib_pc_prec_inter']\n",
    "print(len(columnas))\n",
    "print(len(nombres))"
   ]
  },
  {
   "cell_type": "code",
   "execution_count": 8,
   "metadata": {},
   "outputs": [],
   "source": [
    "import os\n",
    "directorio = '../datasets/'\n",
    "\n",
    "with os.scandir(directorio) as ficheros:\n",
    "\n",
    "    trabajo=pd.read_parquet('../datasets/df_TWB_SP.DYN.LE00.IN.parquet')[['date','countryiso3code']]\n",
    "\n",
    "    for fichero in ficheros:\n",
    "        if fichero.name.startswith('df_TWB'):\n",
    "\n",
    "            # obtengo el cógigo de indicador que se encuentra en el nombre del fichero\n",
    "            codigo_fichero = fichero.name[7:-8]\n",
    "            # busco el código en mi lista de códigos \n",
    "            # y procedo a renombrar la columna de interés\n",
    "            if codigo_fichero in codigos:\n",
    "                df=pd.read_parquet(directorio+fichero.name)\n",
    "\n",
    "                # obtengo el índice en mi lista de códigos que \n",
    "                # se corresponde con el índice en mi lista de nombres\n",
    "                indice_codigo = codigos.index(codigo_fichero)\n",
    "                #df.rename(columns={'value':columnas[indice_codigo]},inplace=True)\n",
    "                trabajo[columnas[indice_codigo]]=df.value\n",
    "                \n",
    "                "
   ]
  },
  {
   "cell_type": "code",
   "execution_count": 22,
   "metadata": {},
   "outputs": [],
   "source": [
    "trabajo = trabajo.merge(\n",
    "                        nivel_ingreso[['id','incomeLevel.value']], \n",
    "                        left_on='countryiso3code',\n",
    "                        right_on='id',\n",
    "                        )"
   ]
  },
  {
   "cell_type": "code",
   "execution_count": 83,
   "metadata": {},
   "outputs": [
    {
     "data": {
      "text/html": [
       "<div>\n",
       "<style scoped>\n",
       "    .dataframe tbody tr th:only-of-type {\n",
       "        vertical-align: middle;\n",
       "    }\n",
       "\n",
       "    .dataframe tbody tr th {\n",
       "        vertical-align: top;\n",
       "    }\n",
       "\n",
       "    .dataframe thead th {\n",
       "        text-align: right;\n",
       "    }\n",
       "</style>\n",
       "<table border=\"1\" class=\"dataframe\">\n",
       "  <thead>\n",
       "    <tr style=\"text-align: right;\">\n",
       "      <th></th>\n",
       "      <th>date</th>\n",
       "      <th>countryiso3code</th>\n",
       "      <th>pib_ppa_prec_inter</th>\n",
       "      <th>población_mujeres_pje</th>\n",
       "      <th>esperanza_vida_total</th>\n",
       "      <th>población_hombres_pje</th>\n",
       "      <th>esperanza_vida_mujeres</th>\n",
       "      <th>esperanza_vida_varones</th>\n",
       "      <th>pib_pc_prec_inter</th>\n",
       "      <th>pib_pc_usd_actuales</th>\n",
       "      <th>id</th>\n",
       "      <th>incomeLevel.value</th>\n",
       "    </tr>\n",
       "  </thead>\n",
       "  <tbody>\n",
       "    <tr>\n",
       "      <th>0</th>\n",
       "      <td>2020</td>\n",
       "      <td>AFG</td>\n",
       "      <td>8.091174e+10</td>\n",
       "      <td>48.684520</td>\n",
       "      <td>65.173</td>\n",
       "      <td>51.315480</td>\n",
       "      <td>66.744</td>\n",
       "      <td>63.708</td>\n",
       "      <td>2078.479082</td>\n",
       "      <td>516.747871</td>\n",
       "      <td>AFG</td>\n",
       "      <td>Low income</td>\n",
       "    </tr>\n",
       "    <tr>\n",
       "      <th>1</th>\n",
       "      <td>2019</td>\n",
       "      <td>AFG</td>\n",
       "      <td>8.187310e+10</td>\n",
       "      <td>48.662395</td>\n",
       "      <td>64.833</td>\n",
       "      <td>51.337605</td>\n",
       "      <td>66.388</td>\n",
       "      <td>63.382</td>\n",
       "      <td>2152.190243</td>\n",
       "      <td>494.179350</td>\n",
       "      <td>AFG</td>\n",
       "      <td>Low income</td>\n",
       "    </tr>\n",
       "    <tr>\n",
       "      <th>2</th>\n",
       "      <td>2018</td>\n",
       "      <td>AFG</td>\n",
       "      <td>7.740652e+10</td>\n",
       "      <td>48.635847</td>\n",
       "      <td>64.486</td>\n",
       "      <td>51.364153</td>\n",
       "      <td>66.026</td>\n",
       "      <td>63.047</td>\n",
       "      <td>2082.392197</td>\n",
       "      <td>485.668419</td>\n",
       "      <td>AFG</td>\n",
       "      <td>Low income</td>\n",
       "    </tr>\n",
       "    <tr>\n",
       "      <th>3</th>\n",
       "      <td>2017</td>\n",
       "      <td>AFG</td>\n",
       "      <td>7.471192e+10</td>\n",
       "      <td>48.611616</td>\n",
       "      <td>64.130</td>\n",
       "      <td>51.388384</td>\n",
       "      <td>65.656</td>\n",
       "      <td>62.701</td>\n",
       "      <td>2058.400221</td>\n",
       "      <td>516.679862</td>\n",
       "      <td>AFG</td>\n",
       "      <td>Low income</td>\n",
       "    </tr>\n",
       "    <tr>\n",
       "      <th>4</th>\n",
       "      <td>2016</td>\n",
       "      <td>AFG</td>\n",
       "      <td>7.009796e+10</td>\n",
       "      <td>48.599668</td>\n",
       "      <td>63.763</td>\n",
       "      <td>51.400332</td>\n",
       "      <td>65.275</td>\n",
       "      <td>62.343</td>\n",
       "      <td>1981.118069</td>\n",
       "      <td>512.012778</td>\n",
       "      <td>AFG</td>\n",
       "      <td>Low income</td>\n",
       "    </tr>\n",
       "    <tr>\n",
       "      <th>...</th>\n",
       "      <td>...</td>\n",
       "      <td>...</td>\n",
       "      <td>...</td>\n",
       "      <td>...</td>\n",
       "      <td>...</td>\n",
       "      <td>...</td>\n",
       "      <td>...</td>\n",
       "      <td>...</td>\n",
       "      <td>...</td>\n",
       "      <td>...</td>\n",
       "      <td>...</td>\n",
       "      <td>...</td>\n",
       "    </tr>\n",
       "    <tr>\n",
       "      <th>5544</th>\n",
       "      <td>1994</td>\n",
       "      <td>ZMB</td>\n",
       "      <td>1.255557e+10</td>\n",
       "      <td>50.301818</td>\n",
       "      <td>44.983</td>\n",
       "      <td>49.698182</td>\n",
       "      <td>46.808</td>\n",
       "      <td>43.264</td>\n",
       "      <td>1415.550409</td>\n",
       "      <td>412.260752</td>\n",
       "      <td>ZMB</td>\n",
       "      <td>Low income</td>\n",
       "    </tr>\n",
       "    <tr>\n",
       "      <th>5545</th>\n",
       "      <td>1993</td>\n",
       "      <td>ZMB</td>\n",
       "      <td>1.345348e+10</td>\n",
       "      <td>50.264033</td>\n",
       "      <td>45.919</td>\n",
       "      <td>49.735967</td>\n",
       "      <td>47.598</td>\n",
       "      <td>44.321</td>\n",
       "      <td>1554.151167</td>\n",
       "      <td>378.125559</td>\n",
       "      <td>ZMB</td>\n",
       "      <td>Low income</td>\n",
       "    </tr>\n",
       "    <tr>\n",
       "      <th>5546</th>\n",
       "      <td>1992</td>\n",
       "      <td>ZMB</td>\n",
       "      <td>1.230553e+10</td>\n",
       "      <td>50.223669</td>\n",
       "      <td>46.987</td>\n",
       "      <td>49.776331</td>\n",
       "      <td>48.521</td>\n",
       "      <td>45.513</td>\n",
       "      <td>1456.044324</td>\n",
       "      <td>376.498819</td>\n",
       "      <td>ZMB</td>\n",
       "      <td>Low income</td>\n",
       "    </tr>\n",
       "    <tr>\n",
       "      <th>5547</th>\n",
       "      <td>1991</td>\n",
       "      <td>ZMB</td>\n",
       "      <td>1.224327e+10</td>\n",
       "      <td>50.186754</td>\n",
       "      <td>48.125</td>\n",
       "      <td>49.813246</td>\n",
       "      <td>49.523</td>\n",
       "      <td>46.768</td>\n",
       "      <td>1484.633685</td>\n",
       "      <td>409.727275</td>\n",
       "      <td>ZMB</td>\n",
       "      <td>Low income</td>\n",
       "    </tr>\n",
       "    <tr>\n",
       "      <th>5548</th>\n",
       "      <td>1990</td>\n",
       "      <td>ZMB</td>\n",
       "      <td>1.184706e+10</td>\n",
       "      <td>50.158290</td>\n",
       "      <td>49.249</td>\n",
       "      <td>49.841710</td>\n",
       "      <td>50.531</td>\n",
       "      <td>47.996</td>\n",
       "      <td>1474.092450</td>\n",
       "      <td>408.769331</td>\n",
       "      <td>ZMB</td>\n",
       "      <td>Low income</td>\n",
       "    </tr>\n",
       "  </tbody>\n",
       "</table>\n",
       "<p>5244 rows × 12 columns</p>\n",
       "</div>"
      ],
      "text/plain": [
       "      date countryiso3code  pib_ppa_prec_inter  población_mujeres_pje  \\\n",
       "0     2020             AFG        8.091174e+10              48.684520   \n",
       "1     2019             AFG        8.187310e+10              48.662395   \n",
       "2     2018             AFG        7.740652e+10              48.635847   \n",
       "3     2017             AFG        7.471192e+10              48.611616   \n",
       "4     2016             AFG        7.009796e+10              48.599668   \n",
       "...    ...             ...                 ...                    ...   \n",
       "5544  1994             ZMB        1.255557e+10              50.301818   \n",
       "5545  1993             ZMB        1.345348e+10              50.264033   \n",
       "5546  1992             ZMB        1.230553e+10              50.223669   \n",
       "5547  1991             ZMB        1.224327e+10              50.186754   \n",
       "5548  1990             ZMB        1.184706e+10              50.158290   \n",
       "\n",
       "      esperanza_vida_total  población_hombres_pje  esperanza_vida_mujeres  \\\n",
       "0                   65.173              51.315480                  66.744   \n",
       "1                   64.833              51.337605                  66.388   \n",
       "2                   64.486              51.364153                  66.026   \n",
       "3                   64.130              51.388384                  65.656   \n",
       "4                   63.763              51.400332                  65.275   \n",
       "...                    ...                    ...                     ...   \n",
       "5544                44.983              49.698182                  46.808   \n",
       "5545                45.919              49.735967                  47.598   \n",
       "5546                46.987              49.776331                  48.521   \n",
       "5547                48.125              49.813246                  49.523   \n",
       "5548                49.249              49.841710                  50.531   \n",
       "\n",
       "      esperanza_vida_varones  pib_pc_prec_inter  pib_pc_usd_actuales   id  \\\n",
       "0                     63.708        2078.479082           516.747871  AFG   \n",
       "1                     63.382        2152.190243           494.179350  AFG   \n",
       "2                     63.047        2082.392197           485.668419  AFG   \n",
       "3                     62.701        2058.400221           516.679862  AFG   \n",
       "4                     62.343        1981.118069           512.012778  AFG   \n",
       "...                      ...                ...                  ...  ...   \n",
       "5544                  43.264        1415.550409           412.260752  ZMB   \n",
       "5545                  44.321        1554.151167           378.125559  ZMB   \n",
       "5546                  45.513        1456.044324           376.498819  ZMB   \n",
       "5547                  46.768        1484.633685           409.727275  ZMB   \n",
       "5548                  47.996        1474.092450           408.769331  ZMB   \n",
       "\n",
       "     incomeLevel.value  \n",
       "0           Low income  \n",
       "1           Low income  \n",
       "2           Low income  \n",
       "3           Low income  \n",
       "4           Low income  \n",
       "...                ...  \n",
       "5544        Low income  \n",
       "5545        Low income  \n",
       "5546        Low income  \n",
       "5547        Low income  \n",
       "5548        Low income  \n",
       "\n",
       "[5244 rows x 12 columns]"
      ]
     },
     "execution_count": 83,
     "metadata": {},
     "output_type": "execute_result"
    }
   ],
   "source": [
    "trabajo"
   ]
  },
  {
   "cell_type": "code",
   "execution_count": 33,
   "metadata": {},
   "outputs": [
    {
     "data": {
      "text/plain": [
       "date                            0\n",
       "countryiso3code                 0\n",
       "pib_ppa_prec_inter            665\n",
       "población_mujeres_pje         443\n",
       "esperanza_vida_total          305\n",
       "población_hombres_pje         443\n",
       "duración_educ_obligatoria    1995\n",
       "índice_gini                  4076\n",
       "esperanza_vida_mujeres        305\n",
       "esperanza_vida_varones        305\n",
       "gasto_púb_educacion_pje      2646\n",
       "capacidad_estadística        3360\n",
       "pib_pc_prec_inter             668\n",
       "pib_pc_usd_actuales           369\n",
       "id                              0\n",
       "incomeLevel.value               0\n",
       "dtype: int64"
      ]
     },
     "execution_count": 33,
     "metadata": {},
     "output_type": "execute_result"
    }
   ],
   "source": [
    "trabajo.isna().sum()"
   ]
  },
  {
   "cell_type": "markdown",
   "metadata": {},
   "source": [
    "Al ser nuestro objetivo la esperanza de vida, no sería recomendable inventar esos datos con un promedio, ni nada parecido. por lo que vamos a limpiar todas las filas que tengan valores nulos en la esperanza de vida al nacer"
   ]
  },
  {
   "cell_type": "code",
   "execution_count": 46,
   "metadata": {},
   "outputs": [],
   "source": [
    "trabajo.dropna(subset=['esperanza_vida_total'], inplace=True)"
   ]
  },
  {
   "cell_type": "markdown",
   "metadata": {},
   "source": [
    "Verificamos nuevamente los datos"
   ]
  },
  {
   "cell_type": "code",
   "execution_count": 60,
   "metadata": {},
   "outputs": [
    {
     "data": {
      "text/plain": [
       "date                            0\n",
       "countryiso3code                 0\n",
       "pib_ppa_prec_inter            501\n",
       "población_mujeres_pje         166\n",
       "esperanza_vida_total            0\n",
       "población_hombres_pje         166\n",
       "duración_educ_obligatoria    1858\n",
       "índice_gini                  3772\n",
       "esperanza_vida_mujeres          0\n",
       "esperanza_vida_varones          0\n",
       "gasto_púb_educacion_pje      2414\n",
       "capacidad_estadística        3118\n",
       "pib_pc_prec_inter             504\n",
       "pib_pc_usd_actuales           276\n",
       "id                              0\n",
       "incomeLevel.value               0\n",
       "dtype: int64"
      ]
     },
     "execution_count": 60,
     "metadata": {},
     "output_type": "execute_result"
    }
   ],
   "source": [
    "trabajo.isna().sum()"
   ]
  },
  {
   "cell_type": "markdown",
   "metadata": {},
   "source": [
    "Vamos a eliminar todas aquellas columnas que tengan más del 30% de datos núlos. Dado que de trabajar sobre ellas con alguna estratégia de imputación no sería adecuado."
   ]
  },
  {
   "cell_type": "code",
   "execution_count": 78,
   "metadata": {},
   "outputs": [
    {
     "data": {
      "text/plain": [
       "date                          0.000000\n",
       "countryiso3code               0.000000\n",
       "pib_ppa_prec_inter            9.553776\n",
       "población_mujeres_pje         3.165523\n",
       "esperanza_vida_total          0.000000\n",
       "población_hombres_pje         3.165523\n",
       "duración_educ_obligatoria    35.430969\n",
       "índice_gini                  71.929825\n",
       "esperanza_vida_mujeres        0.000000\n",
       "esperanza_vida_varones        0.000000\n",
       "gasto_púb_educacion_pje      46.033562\n",
       "capacidad_estadística        59.458429\n",
       "pib_pc_prec_inter             9.610984\n",
       "pib_pc_usd_actuales           5.263158\n",
       "id                            0.000000\n",
       "incomeLevel.value             0.000000\n",
       "dtype: float64"
      ]
     },
     "execution_count": 78,
     "metadata": {},
     "output_type": "execute_result"
    }
   ],
   "source": [
    "(trabajo.isna().sum()/trabajo.shape[0])*100"
   ]
  },
  {
   "cell_type": "code",
   "execution_count": 79,
   "metadata": {},
   "outputs": [],
   "source": [
    "trabajo.drop(columns=[  'índice_gini',\n",
    "                        'capacidad_estadística', \n",
    "                        'gasto_púb_educacion_pje', \n",
    "                        'duración_educ_obligatoria'],\n",
    "            inplace=True\n",
    "            )"
   ]
  },
  {
   "cell_type": "code",
   "execution_count": 82,
   "metadata": {},
   "outputs": [
    {
     "name": "stdout",
     "output_type": "stream",
     "text": [
      "<class 'pandas.core.frame.DataFrame'>\n",
      "Int64Index: 5244 entries, 0 to 5548\n",
      "Data columns (total 12 columns):\n",
      " #   Column                  Non-Null Count  Dtype  \n",
      "---  ------                  --------------  -----  \n",
      " 0   date                    5244 non-null   object \n",
      " 1   countryiso3code         5244 non-null   object \n",
      " 2   pib_ppa_prec_inter      4743 non-null   float64\n",
      " 3   población_mujeres_pje   5078 non-null   float64\n",
      " 4   esperanza_vida_total    5244 non-null   float64\n",
      " 5   población_hombres_pje   5078 non-null   float64\n",
      " 6   esperanza_vida_mujeres  5244 non-null   float64\n",
      " 7   esperanza_vida_varones  5244 non-null   float64\n",
      " 8   pib_pc_prec_inter       4740 non-null   float64\n",
      " 9   pib_pc_usd_actuales     4968 non-null   float64\n",
      " 10  id                      5244 non-null   object \n",
      " 11  incomeLevel.value       5244 non-null   object \n",
      "dtypes: float64(8), object(4)\n",
      "memory usage: 532.6+ KB\n"
     ]
    }
   ],
   "source": [
    "trabajo.info()"
   ]
  },
  {
   "cell_type": "code",
   "execution_count": 88,
   "metadata": {},
   "outputs": [
    {
     "data": {
      "text/plain": [
       "esperanza_vida_total      1.000000\n",
       "esperanza_vida_mujeres    0.994401\n",
       "esperanza_vida_varones    0.993782\n",
       "pib_pc_prec_inter         0.591415\n",
       "pib_pc_usd_actuales       0.540825\n",
       "pib_ppa_prec_inter        0.211011\n",
       "población_hombres_pje     0.032236\n",
       "población_mujeres_pje    -0.032236\n",
       "Name: esperanza_vida_total, dtype: float64"
      ]
     },
     "execution_count": 88,
     "metadata": {},
     "output_type": "execute_result"
    }
   ],
   "source": [
    "corr_matrix = trabajo.corr()\n",
    "corr_matrix[\"esperanza_vida_total\"].sort_values(ascending=False)"
   ]
  },
  {
   "cell_type": "markdown",
   "metadata": {},
   "source": [
    "Dividimos el dataset de trabajo en cuatro datasets para analizar según su nivel de ingresos"
   ]
  },
  {
   "cell_type": "code",
   "execution_count": 90,
   "metadata": {},
   "outputs": [
    {
     "data": {
      "text/plain": [
       "Lower middle income    1550\n",
       "Upper middle income    1427\n",
       "High income            1368\n",
       "Low income              868\n",
       "Not classified           31\n",
       "Name: incomeLevel.value, dtype: int64"
      ]
     },
     "execution_count": 90,
     "metadata": {},
     "output_type": "execute_result"
    }
   ],
   "source": [
    "trabajo['incomeLevel.value'].value_counts()"
   ]
  },
  {
   "cell_type": "code",
   "execution_count": 91,
   "metadata": {},
   "outputs": [],
   "source": [
    "ingreso_bajo = trabajo.loc[trabajo['incomeLevel.value'] == 'Low income']\n",
    "ingreso_medio_bajo = trabajo.loc[trabajo['incomeLevel.value'] == 'Lower middle income']\n",
    "ingreso_medio_alto = trabajo.loc[trabajo['incomeLevel.value'] == 'Upper middle income']\n",
    "ingreso_alto = trabajo.loc[trabajo['incomeLevel.value'] == 'High income']\n"
   ]
  },
  {
   "cell_type": "code",
   "execution_count": 93,
   "metadata": {},
   "outputs": [
    {
     "data": {
      "text/plain": [
       "date                        0\n",
       "countryiso3code             0\n",
       "pib_ppa_prec_inter        224\n",
       "población_mujeres_pje     148\n",
       "esperanza_vida_total        0\n",
       "población_hombres_pje     148\n",
       "esperanza_vida_mujeres      0\n",
       "esperanza_vida_varones      0\n",
       "pib_pc_prec_inter         227\n",
       "pib_pc_usd_actuales       105\n",
       "id                          0\n",
       "incomeLevel.value           0\n",
       "dtype: int64"
      ]
     },
     "execution_count": 93,
     "metadata": {},
     "output_type": "execute_result"
    }
   ],
   "source": [
    "ingreso_alto.isnull().sum()"
   ]
  }
 ],
 "metadata": {
  "kernelspec": {
   "display_name": "Python 3.10.6 ('.venv': venv)",
   "language": "python",
   "name": "python3"
  },
  "language_info": {
   "codemirror_mode": {
    "name": "ipython",
    "version": 3
   },
   "file_extension": ".py",
   "mimetype": "text/x-python",
   "name": "python",
   "nbconvert_exporter": "python",
   "pygments_lexer": "ipython3",
   "version": "3.10.6"
  },
  "vscode": {
   "interpreter": {
    "hash": "1a870c4107f8e48f8203b47bc0a16c443c8212083e29931ccf1e55a5d38e3b4d"
   }
  }
 },
 "nbformat": 4,
 "nbformat_minor": 2
}
