{
 "cells": [
  {
   "cell_type": "code",
   "execution_count": 2,
   "id": "e93a74c7",
   "metadata": {},
   "outputs": [
    {
     "data": {
      "application/javascript": [
       "\n",
       "            setTimeout(function() {\n",
       "                var nbb_cell_id = 2;\n",
       "                var nbb_unformatted_code = \"# We are using black as a code formatter\\n%load_ext nb_black\";\n",
       "                var nbb_formatted_code = \"# We are using black as a code formatter\\n%load_ext nb_black\";\n",
       "                var nbb_cells = Jupyter.notebook.get_cells();\n",
       "                for (var i = 0; i < nbb_cells.length; ++i) {\n",
       "                    if (nbb_cells[i].input_prompt_number == nbb_cell_id) {\n",
       "                        if (nbb_cells[i].get_text() == nbb_unformatted_code) {\n",
       "                             nbb_cells[i].set_text(nbb_formatted_code);\n",
       "                        }\n",
       "                        break;\n",
       "                    }\n",
       "                }\n",
       "            }, 500);\n",
       "            "
      ],
      "text/plain": [
       "<IPython.core.display.Javascript object>"
      ]
     },
     "metadata": {},
     "output_type": "display_data"
    }
   ],
   "source": [
    "# We are using black as a code formatter\n",
    "%load_ext nb_black"
   ]
  },
  {
   "cell_type": "code",
   "execution_count": 3,
   "id": "28c3daf6",
   "metadata": {},
   "outputs": [
    {
     "data": {
      "application/javascript": [
       "\n",
       "            setTimeout(function() {\n",
       "                var nbb_cell_id = 3;\n",
       "                var nbb_unformatted_code = \"import requests\\nimport json\\nimport datetime\\nimport pandas as pd\\nimport numpy as np\\nfrom pathlib import Path\\nimport matplotlib.pyplot as plt\\nimport os\\nimport re\";\n",
       "                var nbb_formatted_code = \"import requests\\nimport json\\nimport datetime\\nimport pandas as pd\\nimport numpy as np\\nfrom pathlib import Path\\nimport matplotlib.pyplot as plt\\nimport os\\nimport re\";\n",
       "                var nbb_cells = Jupyter.notebook.get_cells();\n",
       "                for (var i = 0; i < nbb_cells.length; ++i) {\n",
       "                    if (nbb_cells[i].input_prompt_number == nbb_cell_id) {\n",
       "                        if (nbb_cells[i].get_text() == nbb_unformatted_code) {\n",
       "                             nbb_cells[i].set_text(nbb_formatted_code);\n",
       "                        }\n",
       "                        break;\n",
       "                    }\n",
       "                }\n",
       "            }, 500);\n",
       "            "
      ],
      "text/plain": [
       "<IPython.core.display.Javascript object>"
      ]
     },
     "metadata": {},
     "output_type": "display_data"
    }
   ],
   "source": [
    "import requests\n",
    "import json\n",
    "import datetime\n",
    "import pandas as pd\n",
    "import numpy as np\n",
    "from pathlib import Path\n",
    "import matplotlib.pyplot as plt\n",
    "import os\n",
    "import re"
   ]
  },
  {
   "cell_type": "code",
   "execution_count": 4,
   "id": "12b6c4e0",
   "metadata": {},
   "outputs": [
    {
     "data": {
      "application/javascript": [
       "\n",
       "            setTimeout(function() {\n",
       "                var nbb_cell_id = 4;\n",
       "                var nbb_unformatted_code = \"# pd.set_option('display.max_rows', None)\\npd.set_option(\\\"display.max_columns\\\", None)\\npd.set_option(\\\"display.width\\\", None)\\npd.set_option(\\\"display.max_colwidth\\\", None)\";\n",
       "                var nbb_formatted_code = \"# pd.set_option('display.max_rows', None)\\npd.set_option(\\\"display.max_columns\\\", None)\\npd.set_option(\\\"display.width\\\", None)\\npd.set_option(\\\"display.max_colwidth\\\", None)\";\n",
       "                var nbb_cells = Jupyter.notebook.get_cells();\n",
       "                for (var i = 0; i < nbb_cells.length; ++i) {\n",
       "                    if (nbb_cells[i].input_prompt_number == nbb_cell_id) {\n",
       "                        if (nbb_cells[i].get_text() == nbb_unformatted_code) {\n",
       "                             nbb_cells[i].set_text(nbb_formatted_code);\n",
       "                        }\n",
       "                        break;\n",
       "                    }\n",
       "                }\n",
       "            }, 500);\n",
       "            "
      ],
      "text/plain": [
       "<IPython.core.display.Javascript object>"
      ]
     },
     "metadata": {},
     "output_type": "display_data"
    }
   ],
   "source": [
    "# pd.set_option('display.max_rows', None)\n",
    "pd.set_option(\"display.max_columns\", None)\n",
    "pd.set_option(\"display.width\", None)\n",
    "pd.set_option(\"display.max_colwidth\", None)"
   ]
  },
  {
   "cell_type": "markdown",
   "id": "79c94209",
   "metadata": {},
   "source": [
    "Extraigamos los archivos parquet y los convertimos a dataframe"
   ]
  },
  {
   "cell_type": "code",
   "execution_count": 5,
   "id": "3e94f8d2",
   "metadata": {},
   "outputs": [
    {
     "ename": "FileNotFoundError",
     "evalue": "[Errno 2] No such file or directory: '../datasets/df_locationsWithAggregates.parquet'",
     "output_type": "error",
     "traceback": [
      "\u001b[0;31m---------------------------------------------------------------------------\u001b[0m",
      "\u001b[0;31mFileNotFoundError\u001b[0m                         Traceback (most recent call last)",
      "Cell \u001b[0;32mIn [5], line 1\u001b[0m\n\u001b[0;32m----> 1\u001b[0m df \u001b[38;5;241m=\u001b[39m pd\u001b[38;5;241m.\u001b[39mread_parquet(\u001b[38;5;124m\"\u001b[39m\u001b[38;5;124m../datasets/df_locationsWithAggregates.parquet\u001b[39m\u001b[38;5;124m\"\u001b[39m)\n",
      "File \u001b[0;32m~/Devspace/life-expectancy/venv/lib/python3.8/site-packages/pandas/io/parquet.py:493\u001b[0m, in \u001b[0;36mread_parquet\u001b[0;34m(path, engine, columns, storage_options, use_nullable_dtypes, **kwargs)\u001b[0m\n\u001b[1;32m    446\u001b[0m \u001b[38;5;124;03m\"\"\"\u001b[39;00m\n\u001b[1;32m    447\u001b[0m \u001b[38;5;124;03mLoad a parquet object from the file path, returning a DataFrame.\u001b[39;00m\n\u001b[1;32m    448\u001b[0m \n\u001b[0;32m   (...)\u001b[0m\n\u001b[1;32m    489\u001b[0m \u001b[38;5;124;03mDataFrame\u001b[39;00m\n\u001b[1;32m    490\u001b[0m \u001b[38;5;124;03m\"\"\"\u001b[39;00m\n\u001b[1;32m    491\u001b[0m impl \u001b[38;5;241m=\u001b[39m get_engine(engine)\n\u001b[0;32m--> 493\u001b[0m \u001b[38;5;28;01mreturn\u001b[39;00m \u001b[43mimpl\u001b[49m\u001b[38;5;241;43m.\u001b[39;49m\u001b[43mread\u001b[49m\u001b[43m(\u001b[49m\n\u001b[1;32m    494\u001b[0m \u001b[43m    \u001b[49m\u001b[43mpath\u001b[49m\u001b[43m,\u001b[49m\n\u001b[1;32m    495\u001b[0m \u001b[43m    \u001b[49m\u001b[43mcolumns\u001b[49m\u001b[38;5;241;43m=\u001b[39;49m\u001b[43mcolumns\u001b[49m\u001b[43m,\u001b[49m\n\u001b[1;32m    496\u001b[0m \u001b[43m    \u001b[49m\u001b[43mstorage_options\u001b[49m\u001b[38;5;241;43m=\u001b[39;49m\u001b[43mstorage_options\u001b[49m\u001b[43m,\u001b[49m\n\u001b[1;32m    497\u001b[0m \u001b[43m    \u001b[49m\u001b[43muse_nullable_dtypes\u001b[49m\u001b[38;5;241;43m=\u001b[39;49m\u001b[43muse_nullable_dtypes\u001b[49m\u001b[43m,\u001b[49m\n\u001b[1;32m    498\u001b[0m \u001b[43m    \u001b[49m\u001b[38;5;241;43m*\u001b[39;49m\u001b[38;5;241;43m*\u001b[39;49m\u001b[43mkwargs\u001b[49m\u001b[43m,\u001b[49m\n\u001b[1;32m    499\u001b[0m \u001b[43m\u001b[49m\u001b[43m)\u001b[49m\n",
      "File \u001b[0;32m~/Devspace/life-expectancy/venv/lib/python3.8/site-packages/pandas/io/parquet.py:233\u001b[0m, in \u001b[0;36mPyArrowImpl.read\u001b[0;34m(self, path, columns, use_nullable_dtypes, storage_options, **kwargs)\u001b[0m\n\u001b[1;32m    230\u001b[0m \u001b[38;5;28;01mif\u001b[39;00m manager \u001b[38;5;241m==\u001b[39m \u001b[38;5;124m\"\u001b[39m\u001b[38;5;124marray\u001b[39m\u001b[38;5;124m\"\u001b[39m:\n\u001b[1;32m    231\u001b[0m     to_pandas_kwargs[\u001b[38;5;124m\"\u001b[39m\u001b[38;5;124msplit_blocks\u001b[39m\u001b[38;5;124m\"\u001b[39m] \u001b[38;5;241m=\u001b[39m \u001b[38;5;28;01mTrue\u001b[39;00m  \u001b[38;5;66;03m# type: ignore[assignment]\u001b[39;00m\n\u001b[0;32m--> 233\u001b[0m path_or_handle, handles, kwargs[\u001b[38;5;124m\"\u001b[39m\u001b[38;5;124mfilesystem\u001b[39m\u001b[38;5;124m\"\u001b[39m] \u001b[38;5;241m=\u001b[39m \u001b[43m_get_path_or_handle\u001b[49m\u001b[43m(\u001b[49m\n\u001b[1;32m    234\u001b[0m \u001b[43m    \u001b[49m\u001b[43mpath\u001b[49m\u001b[43m,\u001b[49m\n\u001b[1;32m    235\u001b[0m \u001b[43m    \u001b[49m\u001b[43mkwargs\u001b[49m\u001b[38;5;241;43m.\u001b[39;49m\u001b[43mpop\u001b[49m\u001b[43m(\u001b[49m\u001b[38;5;124;43m\"\u001b[39;49m\u001b[38;5;124;43mfilesystem\u001b[39;49m\u001b[38;5;124;43m\"\u001b[39;49m\u001b[43m,\u001b[49m\u001b[43m \u001b[49m\u001b[38;5;28;43;01mNone\u001b[39;49;00m\u001b[43m)\u001b[49m\u001b[43m,\u001b[49m\n\u001b[1;32m    236\u001b[0m \u001b[43m    \u001b[49m\u001b[43mstorage_options\u001b[49m\u001b[38;5;241;43m=\u001b[39;49m\u001b[43mstorage_options\u001b[49m\u001b[43m,\u001b[49m\n\u001b[1;32m    237\u001b[0m \u001b[43m    \u001b[49m\u001b[43mmode\u001b[49m\u001b[38;5;241;43m=\u001b[39;49m\u001b[38;5;124;43m\"\u001b[39;49m\u001b[38;5;124;43mrb\u001b[39;49m\u001b[38;5;124;43m\"\u001b[39;49m\u001b[43m,\u001b[49m\n\u001b[1;32m    238\u001b[0m \u001b[43m\u001b[49m\u001b[43m)\u001b[49m\n\u001b[1;32m    239\u001b[0m \u001b[38;5;28;01mtry\u001b[39;00m:\n\u001b[1;32m    240\u001b[0m     result \u001b[38;5;241m=\u001b[39m \u001b[38;5;28mself\u001b[39m\u001b[38;5;241m.\u001b[39mapi\u001b[38;5;241m.\u001b[39mparquet\u001b[38;5;241m.\u001b[39mread_table(\n\u001b[1;32m    241\u001b[0m         path_or_handle, columns\u001b[38;5;241m=\u001b[39mcolumns, \u001b[38;5;241m*\u001b[39m\u001b[38;5;241m*\u001b[39mkwargs\n\u001b[1;32m    242\u001b[0m     )\u001b[38;5;241m.\u001b[39mto_pandas(\u001b[38;5;241m*\u001b[39m\u001b[38;5;241m*\u001b[39mto_pandas_kwargs)\n",
      "File \u001b[0;32m~/Devspace/life-expectancy/venv/lib/python3.8/site-packages/pandas/io/parquet.py:102\u001b[0m, in \u001b[0;36m_get_path_or_handle\u001b[0;34m(path, fs, storage_options, mode, is_dir)\u001b[0m\n\u001b[1;32m     92\u001b[0m handles \u001b[38;5;241m=\u001b[39m \u001b[38;5;28;01mNone\u001b[39;00m\n\u001b[1;32m     93\u001b[0m \u001b[38;5;28;01mif\u001b[39;00m (\n\u001b[1;32m     94\u001b[0m     \u001b[38;5;129;01mnot\u001b[39;00m fs\n\u001b[1;32m     95\u001b[0m     \u001b[38;5;129;01mand\u001b[39;00m \u001b[38;5;129;01mnot\u001b[39;00m is_dir\n\u001b[0;32m   (...)\u001b[0m\n\u001b[1;32m    100\u001b[0m     \u001b[38;5;66;03m# fsspec resources can also point to directories\u001b[39;00m\n\u001b[1;32m    101\u001b[0m     \u001b[38;5;66;03m# this branch is used for example when reading from non-fsspec URLs\u001b[39;00m\n\u001b[0;32m--> 102\u001b[0m     handles \u001b[38;5;241m=\u001b[39m \u001b[43mget_handle\u001b[49m\u001b[43m(\u001b[49m\n\u001b[1;32m    103\u001b[0m \u001b[43m        \u001b[49m\u001b[43mpath_or_handle\u001b[49m\u001b[43m,\u001b[49m\u001b[43m \u001b[49m\u001b[43mmode\u001b[49m\u001b[43m,\u001b[49m\u001b[43m \u001b[49m\u001b[43mis_text\u001b[49m\u001b[38;5;241;43m=\u001b[39;49m\u001b[38;5;28;43;01mFalse\u001b[39;49;00m\u001b[43m,\u001b[49m\u001b[43m \u001b[49m\u001b[43mstorage_options\u001b[49m\u001b[38;5;241;43m=\u001b[39;49m\u001b[43mstorage_options\u001b[49m\n\u001b[1;32m    104\u001b[0m \u001b[43m    \u001b[49m\u001b[43m)\u001b[49m\n\u001b[1;32m    105\u001b[0m     fs \u001b[38;5;241m=\u001b[39m \u001b[38;5;28;01mNone\u001b[39;00m\n\u001b[1;32m    106\u001b[0m     path_or_handle \u001b[38;5;241m=\u001b[39m handles\u001b[38;5;241m.\u001b[39mhandle\n",
      "File \u001b[0;32m~/Devspace/life-expectancy/venv/lib/python3.8/site-packages/pandas/io/common.py:795\u001b[0m, in \u001b[0;36mget_handle\u001b[0;34m(path_or_buf, mode, encoding, compression, memory_map, is_text, errors, storage_options)\u001b[0m\n\u001b[1;32m    786\u001b[0m         handle \u001b[38;5;241m=\u001b[39m \u001b[38;5;28mopen\u001b[39m(\n\u001b[1;32m    787\u001b[0m             handle,\n\u001b[1;32m    788\u001b[0m             ioargs\u001b[38;5;241m.\u001b[39mmode,\n\u001b[0;32m   (...)\u001b[0m\n\u001b[1;32m    791\u001b[0m             newline\u001b[38;5;241m=\u001b[39m\u001b[38;5;124m\"\u001b[39m\u001b[38;5;124m\"\u001b[39m,\n\u001b[1;32m    792\u001b[0m         )\n\u001b[1;32m    793\u001b[0m     \u001b[38;5;28;01melse\u001b[39;00m:\n\u001b[1;32m    794\u001b[0m         \u001b[38;5;66;03m# Binary mode\u001b[39;00m\n\u001b[0;32m--> 795\u001b[0m         handle \u001b[38;5;241m=\u001b[39m \u001b[38;5;28;43mopen\u001b[39;49m\u001b[43m(\u001b[49m\u001b[43mhandle\u001b[49m\u001b[43m,\u001b[49m\u001b[43m \u001b[49m\u001b[43mioargs\u001b[49m\u001b[38;5;241;43m.\u001b[39;49m\u001b[43mmode\u001b[49m\u001b[43m)\u001b[49m\n\u001b[1;32m    796\u001b[0m     handles\u001b[38;5;241m.\u001b[39mappend(handle)\n\u001b[1;32m    798\u001b[0m \u001b[38;5;66;03m# Convert BytesIO or file objects passed with an encoding\u001b[39;00m\n",
      "\u001b[0;31mFileNotFoundError\u001b[0m: [Errno 2] No such file or directory: '../datasets/df_locationsWithAggregates.parquet'"
     ]
    },
    {
     "data": {
      "application/javascript": [
       "\n",
       "            setTimeout(function() {\n",
       "                var nbb_cell_id = 5;\n",
       "                var nbb_unformatted_code = \"df = pd.read_parquet(\\\"../datasets/df_locationsWithAggregates.parquet\\\")\";\n",
       "                var nbb_formatted_code = \"df = pd.read_parquet(\\\"../datasets/df_locationsWithAggregates.parquet\\\")\";\n",
       "                var nbb_cells = Jupyter.notebook.get_cells();\n",
       "                for (var i = 0; i < nbb_cells.length; ++i) {\n",
       "                    if (nbb_cells[i].input_prompt_number == nbb_cell_id) {\n",
       "                        if (nbb_cells[i].get_text() == nbb_unformatted_code) {\n",
       "                             nbb_cells[i].set_text(nbb_formatted_code);\n",
       "                        }\n",
       "                        break;\n",
       "                    }\n",
       "                }\n",
       "            }, 500);\n",
       "            "
      ],
      "text/plain": [
       "<IPython.core.display.Javascript object>"
      ]
     },
     "metadata": {},
     "output_type": "display_data"
    }
   ],
   "source": [
    "df = pd.read_parquet(\"../datasets/df_locationsWithAggregates.parquet\")"
   ]
  },
  {
   "cell_type": "code",
   "execution_count": null,
   "id": "1158a7c1",
   "metadata": {},
   "outputs": [],
   "source": [
    "df"
   ]
  },
  {
   "cell_type": "code",
   "execution_count": null,
   "id": "d00984ee",
   "metadata": {},
   "outputs": [],
   "source": [
    "# guardar en una lista los nombres en formtato Iso3 de los países\n",
    "iso3_code = [str(code) for code in df[\"Iso3\"].values]\n",
    "iso3_code"
   ]
  },
  {
   "cell_type": "markdown",
   "id": "46629d0f",
   "metadata": {},
   "source": [
    "Maybe if we want to filter by WorldBankIncomeGroup (This step is not required.)"
   ]
  },
  {
   "cell_type": "code",
   "execution_count": null,
   "id": "41975943",
   "metadata": {},
   "outputs": [],
   "source": [
    "df_high_income = df[(df[\"WorldBankIncomeGroup\"] == \"High-income countries\")]\n",
    "df_low_income = df[(df[\"WorldBankIncomeGroup\"] == \"Low-income countries\")]\n",
    "df_upper_middle_income = df[\n",
    "    (df[\"WorldBankIncomeGroup\"] == \"Upper-middle-income countries\")\n",
    "]\n",
    "df_lower_middle_income = df[\n",
    "    (df[\"WorldBankIncomeGroup\"] == \"Lower-middle-income countries\")\n",
    "]"
   ]
  },
  {
   "cell_type": "markdown",
   "id": "43962e5e",
   "metadata": {},
   "source": [
    "Revisamos una información básica de los dataframes"
   ]
  },
  {
   "cell_type": "code",
   "execution_count": null,
   "id": "80b1c75b",
   "metadata": {},
   "outputs": [],
   "source": [
    "directory = \"../datasets/\"\n",
    "# Let's iterate each parquet file and get some basic information\n",
    "for filename in os.listdir(directory):\n",
    "    f = os.path.join(directory, filename)\n",
    "    # checking if it is a file\n",
    "    if os.path.isfile(f) and f.endswith(\".parquet\"):\n",
    "        print(\"========\" + filename.rstrip(\".parquet\").upper() + \"========\", end=\"\\n\")\n",
    "        df = pd.read_parquet(f)\n",
    "        df.replace(\"\", float(\"NaN\"), inplace=True)\n",
    "        # print(\"====Basic info about the dataframe====\", end=\"\\n\")\n",
    "        # print(df.info(), end=\"\\n\")\n",
    "        # print(\"====Sum the null in each column====\", end=\"\\n\")\n",
    "        # print(df.isnull().sum(), end=\"\\n\")\n",
    "        # print(\"====Describe numeric columns====\", end=\"\\n\")\n",
    "        # print(df.describe(), end=\"\\n\")\n",
    "        print(\"====Get a sample of 5 rows====\", end=\"\\n\")\n",
    "        print(df.sample(5), end=\"\\n\")\n",
    "        print(end=\"\\n\")"
   ]
  },
  {
   "cell_type": "markdown",
   "id": "fc3afe23",
   "metadata": {},
   "source": [
    "Modificación de los nombres de las diferentes columnas"
   ]
  },
  {
   "cell_type": "code",
   "execution_count": null,
   "id": "b23cf08b",
   "metadata": {},
   "outputs": [],
   "source": [
    "directory = \"../datasets/\"\n",
    "# Let's iterate each parquet file and get some basic information\n",
    "for filename in os.listdir(directory):\n",
    "    f = os.path.join(directory, filename)\n",
    "    # checking if it is a file\n",
    "    if os.path.isfile(f) and f.endswith(\".parquet\"):\n",
    "        print(\"========\" + filename.rstrip(\".parquet\").upper() + \"========\", end=\"\\n\")\n",
    "        df = pd.read_parquet(f)\n",
    "        df.replace(\"\", float(\"NaN\"), inplace=True)\n",
    "        # columns_categories = df.columns\n",
    "        print(\"====Basic info about the dataframe====\", end=\"\\n\")\n",
    "        print(df.columns)\n",
    "        print(end=\"\\n\")\n",
    "     \n"
   ]
  },
  {
   "cell_type": "code",
   "execution_count": 14,
   "id": "8bfe71b8",
   "metadata": {},
   "outputs": [
    {
     "name": "stdout",
     "output_type": "stream",
     "text": [
      "  countryiso3code  date      value unit obs_status  decimal  \\\n",
      "0             AFE  2020  62.121491                        0   \n",
      "1             AFE  2019  61.813185                        0   \n",
      "2             AFE  2018  61.470354                        0   \n",
      "3             AFE  2017  61.083445                        0   \n",
      "4             AFE  2016  60.643170                        0   \n",
      "\n",
      "        indicator.id                             indicator.value country.id  \\\n",
      "0  SP.DYN.LE00.MA.IN  Esperanza de vida al nacer, varones (años)         ZH   \n",
      "1  SP.DYN.LE00.MA.IN  Esperanza de vida al nacer, varones (años)         ZH   \n",
      "2  SP.DYN.LE00.MA.IN  Esperanza de vida al nacer, varones (años)         ZH   \n",
      "3  SP.DYN.LE00.MA.IN  Esperanza de vida al nacer, varones (años)         ZH   \n",
      "4  SP.DYN.LE00.MA.IN  Esperanza de vida al nacer, varones (años)         ZH   \n",
      "\n",
      "  country.value  \n",
      "0                \n",
      "1                \n",
      "2                \n",
      "3                \n",
      "4                \n",
      "  countryiso3code  date      value\n",
      "0             AFE  2020  30.931064\n",
      "1             AFE  2019  30.742610\n",
      "2             AFE  2018  30.384759\n",
      "3             AFE  2017  30.114592\n",
      "4             AFE  2016  29.618405\n",
      "  countryiso3code  date  value unit obs_status  decimal indicator.id  \\\n",
      "0             AFE  2020    NaN                        1  SI.POV.GINI   \n",
      "1             AFE  2019    NaN                        1  SI.POV.GINI   \n",
      "2             AFE  2018    NaN                        1  SI.POV.GINI   \n",
      "3             AFE  2017    NaN                        1  SI.POV.GINI   \n",
      "4             AFE  2016    NaN                        1  SI.POV.GINI   \n",
      "\n",
      "  indicator.value country.id country.value  \n",
      "0  Índice de Gini         ZH                \n",
      "1  Índice de Gini         ZH                \n",
      "2  Índice de Gini         ZH                \n",
      "3  Índice de Gini         ZH                \n",
      "4  Índice de Gini         ZH                \n",
      "  countryiso3code  date       value\n",
      "0             AFE  2020         NaN\n",
      "1             AFE  2019   91.970113\n",
      "2             AFE  2018   96.289480\n",
      "3             AFE  2017  102.410661\n",
      "4             AFE  2016   94.739159\n",
      "  countryiso3code  date         value unit obs_status  decimal  \\\n",
      "0             AFE  2020  2.478218e+12                        0   \n",
      "1             AFE  2019  2.517975e+12                        0   \n",
      "2             AFE  2018  2.418685e+12                        0   \n",
      "3             AFE  2017  2.299420e+12                        0   \n",
      "4             AFE  2016  2.212683e+12                        0   \n",
      "\n",
      "        indicator.id                                  indicator.value  \\\n",
      "0  NY.GDP.MKTP.PP.CD  PIB, PPA ($ a precios internacionales actuales)   \n",
      "1  NY.GDP.MKTP.PP.CD  PIB, PPA ($ a precios internacionales actuales)   \n",
      "2  NY.GDP.MKTP.PP.CD  PIB, PPA ($ a precios internacionales actuales)   \n",
      "3  NY.GDP.MKTP.PP.CD  PIB, PPA ($ a precios internacionales actuales)   \n",
      "4  NY.GDP.MKTP.PP.CD  PIB, PPA ($ a precios internacionales actuales)   \n",
      "\n",
      "  country.id country.value  \n",
      "0         ZH                \n",
      "1         ZH                \n",
      "2         ZH                \n",
      "3         ZH                \n",
      "4         ZH                \n",
      "  countryiso3code  date     value\n",
      "0             AFE  2020       NaN\n",
      "1             AFE  2019  8.036293\n",
      "2             AFE  2018  8.128884\n",
      "3             AFE  2017  8.244062\n",
      "4             AFE  2016  8.324659\n",
      "  countryiso3code  date  value unit obs_status  decimal indicator.id  \\\n",
      "0             AFE  2020    7.0                        0  SE.COM.DURS   \n",
      "1             AFE  2019    7.0                        0  SE.COM.DURS   \n",
      "2             AFE  2018    7.0                        0  SE.COM.DURS   \n",
      "3             AFE  2017    7.0                        0  SE.COM.DURS   \n",
      "4             AFE  2016    7.0                        0  SE.COM.DURS   \n",
      "\n",
      "                          indicator.value country.id country.value  \n",
      "0  Educación obligatoria, duración (años)         ZH                \n",
      "1  Educación obligatoria, duración (años)         ZH                \n",
      "2  Educación obligatoria, duración (años)         ZH                \n",
      "3  Educación obligatoria, duración (años)         ZH                \n",
      "4  Educación obligatoria, duración (años)         ZH                \n",
      "  countryiso3code  date      value\n",
      "0             AFE  2020  64.325702\n",
      "1             AFE  2019  64.005213\n",
      "2             AFE  2018  63.648988\n",
      "3             AFE  2017  63.246264\n",
      "4             AFE  2016  62.787681\n",
      "  countryiso3code  date        value unit obs_status  decimal    indicator.id  \\\n",
      "0             AFE  2020  1360.878645                        1  NY.GDP.PCAP.CD   \n",
      "1             AFE  2019  1511.309259                        1  NY.GDP.PCAP.CD   \n",
      "2             AFE  2018  1541.031661                        1  NY.GDP.PCAP.CD   \n",
      "3             AFE  2017  1629.404273                        1  NY.GDP.PCAP.CD   \n",
      "4             AFE  2016  1446.533624                        1  NY.GDP.PCAP.CD   \n",
      "\n",
      "                           indicator.value country.id country.value  \n",
      "0  PIB per cápita (US$ a precios actuales)         ZH                \n",
      "1  PIB per cápita (US$ a precios actuales)         ZH                \n",
      "2  PIB per cápita (US$ a precios actuales)         ZH                \n",
      "3  PIB per cápita (US$ a precios actuales)         ZH                \n",
      "4  PIB per cápita (US$ a precios actuales)         ZH                \n",
      "  countryiso3code  date      value unit obs_status  decimal indicator.id  \\\n",
      "0             AFE  2020  57.632861                        1  IQ.SCI.OVRL   \n",
      "1             AFE  2019  58.502425                        1  IQ.SCI.OVRL   \n",
      "2             AFE  2018  58.067643                        1  IQ.SCI.OVRL   \n",
      "3             AFE  2017  59.710148                        1  IQ.SCI.OVRL   \n",
      "4             AFE  2016  58.599045                        1  IQ.SCI.OVRL   \n",
      "\n",
      "                                              indicator.value country.id  \\\n",
      "0  Nivel general de la capacidad estadística (escala 0 - 100)         ZH   \n",
      "1  Nivel general de la capacidad estadística (escala 0 - 100)         ZH   \n",
      "2  Nivel general de la capacidad estadística (escala 0 - 100)         ZH   \n",
      "3  Nivel general de la capacidad estadística (escala 0 - 100)         ZH   \n",
      "4  Nivel general de la capacidad estadística (escala 0 - 100)         ZH   \n",
      "\n",
      "  country.value  \n",
      "0                \n",
      "1                \n",
      "2                \n",
      "3                \n",
      "4                \n",
      "  countryiso3code  date      value unit obs_status  decimal  \\\n",
      "0             AFE  2020  49.635421                        0   \n",
      "1             AFE  2019  49.626992                        0   \n",
      "2             AFE  2018  49.617642                        0   \n",
      "3             AFE  2017  49.607385                        0   \n",
      "4             AFE  2016  49.596273                        0   \n",
      "\n",
      "        indicator.id                   indicator.value country.id  \\\n",
      "0  SP.POP.TOTL.MA.ZS  Población, hombres (% del total)         ZH   \n",
      "1  SP.POP.TOTL.MA.ZS  Población, hombres (% del total)         ZH   \n",
      "2  SP.POP.TOTL.MA.ZS  Población, hombres (% del total)         ZH   \n",
      "3  SP.POP.TOTL.MA.ZS  Población, hombres (% del total)         ZH   \n",
      "4  SP.POP.TOTL.MA.ZS  Población, hombres (% del total)         ZH   \n",
      "\n",
      "  country.value  \n",
      "0                \n",
      "1                \n",
      "2                \n",
      "3                \n",
      "4                \n",
      "  countryiso3code  date        value\n",
      "0             AFE  2020  1397.543390\n",
      "1             AFE  2019  1506.731921\n",
      "2             AFE  2018  1464.995375\n",
      "3             AFE  2017  1459.517554\n",
      "4             AFE  2016  1475.979716\n",
      "  countryiso3code  date     value unit obs_status  decimal       indicator.id  \\\n",
      "0             AFE  2020  4.608170                        1  SE.XPD.TOTL.GD.ZS   \n",
      "1             AFE  2019  4.846845                        1  SE.XPD.TOTL.GD.ZS   \n",
      "2             AFE  2018  4.951635                        1  SE.XPD.TOTL.GD.ZS   \n",
      "3             AFE  2017  4.963090                        1  SE.XPD.TOTL.GD.ZS   \n",
      "4             AFE  2016  4.821875                        1  SE.XPD.TOTL.GD.ZS   \n",
      "\n",
      "                                 indicator.value country.id country.value  \n",
      "0  Gasto público en educación, total (% del PIB)         ZH                \n",
      "1  Gasto público en educación, total (% del PIB)         ZH                \n",
      "2  Gasto público en educación, total (% del PIB)         ZH                \n",
      "3  Gasto público en educación, total (% del PIB)         ZH                \n",
      "4  Gasto público en educación, total (% del PIB)         ZH                \n",
      "  countryiso3code  date      value\n",
      "0             AFE  2020  42.447198\n",
      "1             AFE  2019  43.591252\n",
      "2             AFE  2018  44.795221\n",
      "3             AFE  2017  46.108140\n",
      "4             AFE  2016  47.527244\n",
      "  countryiso3code  date      value\n",
      "0             AFE  2020  59.511910\n",
      "1             AFE  2019  58.782401\n",
      "2             AFE  2018  57.860301\n",
      "3             AFE  2017  56.921012\n",
      "4             AFE  2016  55.963351\n",
      "  countryiso3code  date     value\n",
      "0             AFE  2020  7.563187\n",
      "1             AFE  2019  6.914353\n",
      "2             AFE  2018  6.731163\n",
      "3             AFE  2017  6.714955\n",
      "4             AFE  2016  6.610205\n",
      "  countryiso3code  date        value unit obs_status  decimal  \\\n",
      "0             AFE  2020  3659.272868                        1   \n",
      "1             AFE  2019  3814.846625                        1   \n",
      "2             AFE  2018  3761.035160                        1   \n",
      "3             AFE  2017  3670.891196                        1   \n",
      "4             AFE  2016  3627.474284                        1   \n",
      "\n",
      "        indicator.id  \\\n",
      "0  NY.GDP.PCAP.PP.CD   \n",
      "1  NY.GDP.PCAP.PP.CD   \n",
      "2  NY.GDP.PCAP.PP.CD   \n",
      "3  NY.GDP.PCAP.PP.CD   \n",
      "4  NY.GDP.PCAP.PP.CD   \n",
      "\n",
      "                                              indicator.value country.id  \\\n",
      "0  PIB per cápita, PPA ($ a precios internacionales actuales)         ZH   \n",
      "1  PIB per cápita, PPA ($ a precios internacionales actuales)         ZH   \n",
      "2  PIB per cápita, PPA ($ a precios internacionales actuales)         ZH   \n",
      "3  PIB per cápita, PPA ($ a precios internacionales actuales)         ZH   \n",
      "4  PIB per cápita, PPA ($ a precios internacionales actuales)         ZH   \n",
      "\n",
      "  country.value  \n",
      "0                \n",
      "1                \n",
      "2                \n",
      "3                \n",
      "4                \n",
      "  countryiso3code  date     value\n",
      "0             AFE  2020       NaN\n",
      "1             AFE  2019  0.913618\n",
      "2             AFE  2018  0.917507\n",
      "3             AFE  2017  0.937926\n",
      "4             AFE  2016  0.948410\n",
      "  countryiso3code  date      value unit obs_status  decimal  \\\n",
      "0             AFE  2020  50.364579                        1   \n",
      "1             AFE  2019  50.373008                        1   \n",
      "2             AFE  2018  50.382358                        1   \n",
      "3             AFE  2017  50.392615                        1   \n",
      "4             AFE  2016  50.403727                        1   \n",
      "\n",
      "        indicator.id                   indicator.value country.id  \\\n",
      "0  SP.POP.TOTL.FE.ZS  Población, mujeres (% del total)         ZH   \n",
      "1  SP.POP.TOTL.FE.ZS  Población, mujeres (% del total)         ZH   \n",
      "2  SP.POP.TOTL.FE.ZS  Población, mujeres (% del total)         ZH   \n",
      "3  SP.POP.TOTL.FE.ZS  Población, mujeres (% del total)         ZH   \n",
      "4  SP.POP.TOTL.FE.ZS  Población, mujeres (% del total)         ZH   \n",
      "\n",
      "  country.value  \n",
      "0                \n",
      "1                \n",
      "2                \n",
      "3                \n",
      "4                \n",
      "  countryiso3code  date  value\n",
      "0             AFE  2020    NaN\n",
      "1             AFE  2019    NaN\n",
      "2             AFE  2018    NaN\n",
      "3             AFE  2017    NaN\n",
      "4             AFE  2016    NaN\n",
      "['SP.DYN.LE00.MA.IN', 'SH.STA.BASS.ZS', 'SI.POV.GINI', 'SH.XPD.CHEX.PC.CD', 'NY.GDP.MKTP.PP.CD', 'SH.STA.SUIC.P5', 'SE.COM.DURS', 'SP.DYN.LE00.IN', 'NY.GDP.PCAP.CD', 'IQ.SCI.OVRL', 'SP.POP.TOTL.MA.ZS', 'NY.GNP.PCAP.CD', 'SE.XPD.TOTL.GD.ZS', 'SP.DYN.IMRT.IN', 'SH.H2O.BASW.ZS', 'SL.UEM.TOTL.ZS', 'NY.GDP.PCAP.PP.CD', 'EN.ATM.CO2E.PC', 'SP.POP.TOTL.FE.ZS', 'SH.MED.BEDS.ZS']\n"
     ]
    },
    {
     "data": {
      "application/javascript": [
       "\n",
       "            setTimeout(function() {\n",
       "                var nbb_cell_id = 14;\n",
       "                var nbb_unformatted_code = \"directory = \\\"../data_lake/\\\"\\nfiles = [f for f in os.listdir(directory) if f.endswith(\\\".parquet\\\")]\\n\\ndfs = {file: pd.read_parquet(directory + file) for file in files}\\n\\ncount = []\\n\\nfor key, value in dfs.items():\\n    if key.startswith(\\\"df_TWB\\\"):\\n        count.append(str(key.rstrip(\\\".parquet\\\").lstrip(\\\"df_TWB_\\\")))\\n        print(value.head())\\n\\nprint(count)\\n# dfs[\\\"df_UNPD_mort_24.parquet\\\"].loc[\\n#     :, dfs[\\\"df_UNPD_mort_24.parquet\\\"].columns.str.fullmatch(\\\"indicator\\\")\\n# ].mode()\";\n",
       "                var nbb_formatted_code = \"directory = \\\"../data_lake/\\\"\\nfiles = [f for f in os.listdir(directory) if f.endswith(\\\".parquet\\\")]\\n\\ndfs = {file: pd.read_parquet(directory + file) for file in files}\\n\\ncount = []\\n\\nfor key, value in dfs.items():\\n    if key.startswith(\\\"df_TWB\\\"):\\n        count.append(str(key.rstrip(\\\".parquet\\\").lstrip(\\\"df_TWB_\\\")))\\n        print(value.head())\\n\\nprint(count)\\n# dfs[\\\"df_UNPD_mort_24.parquet\\\"].loc[\\n#     :, dfs[\\\"df_UNPD_mort_24.parquet\\\"].columns.str.fullmatch(\\\"indicator\\\")\\n# ].mode()\";\n",
       "                var nbb_cells = Jupyter.notebook.get_cells();\n",
       "                for (var i = 0; i < nbb_cells.length; ++i) {\n",
       "                    if (nbb_cells[i].input_prompt_number == nbb_cell_id) {\n",
       "                        if (nbb_cells[i].get_text() == nbb_unformatted_code) {\n",
       "                             nbb_cells[i].set_text(nbb_formatted_code);\n",
       "                        }\n",
       "                        break;\n",
       "                    }\n",
       "                }\n",
       "            }, 500);\n",
       "            "
      ],
      "text/plain": [
       "<IPython.core.display.Javascript object>"
      ]
     },
     "metadata": {},
     "output_type": "display_data"
    }
   ],
   "source": [
    "directory = \"../data_lake/\"\n",
    "files = [f for f in os.listdir(directory) if f.endswith(\".parquet\")]\n",
    "\n",
    "dfs = {file: pd.read_parquet(directory + file) for file in files}\n",
    "\n",
    "count = []\n",
    "\n",
    "for key, value in dfs.items():\n",
    "    if key.startswith(\"df_TWB\"):\n",
    "        count.append(str(key.rstrip(\".parquet\").lstrip(\"df_TWB_\")))\n",
    "        print(value.head())\n",
    "\n",
    "print(count)\n",
    "# dfs[\"df_UNPD_mort_24.parquet\"].loc[\n",
    "#     :, dfs[\"df_UNPD_mort_24.parquet\"].columns.str.fullmatch(\"indicator\")\n",
    "# ].mode()"
   ]
  },
  {
   "cell_type": "code",
   "execution_count": 7,
   "id": "425baa00",
   "metadata": {},
   "outputs": [
    {
     "data": {
      "application/javascript": [
       "\n",
       "            setTimeout(function() {\n",
       "                var nbb_cell_id = 7;\n",
       "                var nbb_unformatted_code = \"UDPD = {\\n    \\\"df_UNPD_mort_22\\\" : \\\"tasa_mortalidad_infantil\\\",\\n    \\\"df_UNPD_pop_54\\\": \\\"densidad_poblaci\\u00f3n_por_kil\\u00f3metro_cuadrado)\\\",\\n    \\\"df_UNPD_imigrt_65\\\": \\\"migraci\\u00f3n_neta_total\\\",\\n    \\\"df_UNPD_pop_49\\\": \\\"poblaci\\u00f3n_total_por_sexo\\\",\\n    \\\"df_UNPD_mort_60\\\": \\\"total_muertes_por_sexo\\\",\\n    \\\"df_UNPD_pop_53\\\": \\\"tasa_bruta_cambio_natural_poblaci\\u00f3n\\\",\\n    \\\"df_UNPD_imigrt_66\\\": \\\"tasa_bruta_migraci\\u00f3n_neta\\\",\\n    \\\"df_UNPD_pop_72\\\": \\\"proporci\\u00f3n_sexos_poblaci\\u00f3n_total\\\",\\n    \\\"df_UNPD_fam_1\\\": \\\"prevalencia_anticonceptivos_porcentaje\\\",\\n    \\\"df_UNPD_pop_67\\\": \\\"mediana_edad_poblaci\\u00f3n\\\",\\n    \\\"df_UNPD_mort_59\\\": \\\"tasa_bruta_mortalidad_por_1000_habitantes\\\",\\n    \\\"df_UNPD_pop_51\\\": \\\"tasa_bruta_variaci\\u00f3n_total_poblaci\\u00f3n\\\",\\n    \\\"df_UNPD_pop_50\\\": \\\"cambio_de_la_poblaci\\u00f3n\\\",\\n    \\\"df_UNPD_pop_41\\\": \\\"poblaci\\u00f3n_femenina_edad_reproductiva_(15-49 a\\u00f1os)\\\",\\n    \\\"df_UNPD_mort_24\\\": \\\"tasa_mortalidad_menores_cinco_a\\u00f1os\\\",\\n    \\\"df_UNPD_pop_52\\\": \\\"cambio_natural_poblaci\\u00f3n\\\",\\n    \\\"df_UNPD_fert_19\\\": \\\"tasa_fertilidad\\\",\\n    \\\"df_UNPD_marstat_42\\\": \\\"estado_civil_casado_porcentaje\\\",\\n}\";\n",
       "                var nbb_formatted_code = \"UDPD = {\\n    \\\"df_UNPD_mort_22\\\": \\\"tasa_mortalidad_infantil\\\",\\n    \\\"df_UNPD_pop_54\\\": \\\"densidad_poblaci\\u00f3n_por_kil\\u00f3metro_cuadrado)\\\",\\n    \\\"df_UNPD_imigrt_65\\\": \\\"migraci\\u00f3n_neta_total\\\",\\n    \\\"df_UNPD_pop_49\\\": \\\"poblaci\\u00f3n_total_por_sexo\\\",\\n    \\\"df_UNPD_mort_60\\\": \\\"total_muertes_por_sexo\\\",\\n    \\\"df_UNPD_pop_53\\\": \\\"tasa_bruta_cambio_natural_poblaci\\u00f3n\\\",\\n    \\\"df_UNPD_imigrt_66\\\": \\\"tasa_bruta_migraci\\u00f3n_neta\\\",\\n    \\\"df_UNPD_pop_72\\\": \\\"proporci\\u00f3n_sexos_poblaci\\u00f3n_total\\\",\\n    \\\"df_UNPD_fam_1\\\": \\\"prevalencia_anticonceptivos_porcentaje\\\",\\n    \\\"df_UNPD_pop_67\\\": \\\"mediana_edad_poblaci\\u00f3n\\\",\\n    \\\"df_UNPD_mort_59\\\": \\\"tasa_bruta_mortalidad_por_1000_habitantes\\\",\\n    \\\"df_UNPD_pop_51\\\": \\\"tasa_bruta_variaci\\u00f3n_total_poblaci\\u00f3n\\\",\\n    \\\"df_UNPD_pop_50\\\": \\\"cambio_de_la_poblaci\\u00f3n\\\",\\n    \\\"df_UNPD_pop_41\\\": \\\"poblaci\\u00f3n_femenina_edad_reproductiva_(15-49 a\\u00f1os)\\\",\\n    \\\"df_UNPD_mort_24\\\": \\\"tasa_mortalidad_menores_cinco_a\\u00f1os\\\",\\n    \\\"df_UNPD_pop_52\\\": \\\"cambio_natural_poblaci\\u00f3n\\\",\\n    \\\"df_UNPD_fert_19\\\": \\\"tasa_fertilidad\\\",\\n    \\\"df_UNPD_marstat_42\\\": \\\"estado_civil_casado_porcentaje\\\",\\n}\";\n",
       "                var nbb_cells = Jupyter.notebook.get_cells();\n",
       "                for (var i = 0; i < nbb_cells.length; ++i) {\n",
       "                    if (nbb_cells[i].input_prompt_number == nbb_cell_id) {\n",
       "                        if (nbb_cells[i].get_text() == nbb_unformatted_code) {\n",
       "                             nbb_cells[i].set_text(nbb_formatted_code);\n",
       "                        }\n",
       "                        break;\n",
       "                    }\n",
       "                }\n",
       "            }, 500);\n",
       "            "
      ],
      "text/plain": [
       "<IPython.core.display.Javascript object>"
      ]
     },
     "metadata": {},
     "output_type": "display_data"
    }
   ],
   "source": [
    "UDPD = {\n",
    "    \"df_UNPD_mort_22\": \"tasa_mortalidad_infantil\",\n",
    "    \"df_UNPD_pop_54\": \"densidad_población_por_kilómetro_cuadrado)\",\n",
    "    \"df_UNPD_imigrt_65\": \"migración_neta_total\",\n",
    "    \"df_UNPD_pop_49\": \"población_total_por_sexo\",\n",
    "    \"df_UNPD_mort_60\": \"total_muertes_por_sexo\",\n",
    "    \"df_UNPD_pop_53\": \"tasa_bruta_cambio_natural_población\",\n",
    "    \"df_UNPD_imigrt_66\": \"tasa_bruta_migración_neta\",\n",
    "    \"df_UNPD_pop_72\": \"proporción_sexos_población_total\",\n",
    "    \"df_UNPD_fam_1\": \"prevalencia_anticonceptivos_porcentaje\",\n",
    "    \"df_UNPD_pop_67\": \"mediana_edad_población\",\n",
    "    \"df_UNPD_mort_59\": \"tasa_bruta_mortalidad_por_1000_habitantes\",\n",
    "    \"df_UNPD_pop_51\": \"tasa_bruta_variación_total_población\",\n",
    "    \"df_UNPD_pop_50\": \"cambio_de_la_población\",\n",
    "    \"df_UNPD_pop_41\": \"población_femenina_edad_reproductiva_(15-49 años)\",\n",
    "    \"df_UNPD_mort_24\": \"tasa_mortalidad_menores_cinco_años\",\n",
    "    \"df_UNPD_pop_52\": \"cambio_natural_población\",\n",
    "    \"df_UNPD_fert_19\": \"tasa_fertilidad\",\n",
    "    \"df_UNPD_marstat_42\": \"estado_civil_casado_porcentaje\",\n",
    "}"
   ]
  },
  {
   "cell_type": "code",
   "execution_count": 8,
   "id": "af0d0000",
   "metadata": {},
   "outputs": [
    {
     "data": {
      "application/javascript": [
       "\n",
       "            setTimeout(function() {\n",
       "                var nbb_cell_id = 8;\n",
       "                var nbb_unformatted_code = \"banco_mundial = {\\n    'SP.DYN.LE00.IN': 'esperanza_vida_total',\\n    'SP.DYN.LE00.FE.IN': 'esperanza_vida_mujeres',\\n    'SP.DYN.LE00.MA.IN': 'esperanza_vida_varones',\\n    'SI.POV.GINI': '\\u00edndice_gini',\\n    'SE.XPD.TOTL.GD.ZS': 'gasto_p\\u00fab_educacion_pje',\\n    'SE.COM.DURS': 'duraci\\u00f3n_educ_obligatoria',\\n    'NY.GDP.PCAP.CD': 'pib_pc_usd_actuales',\\n    'NY.GDP.MKTP.PP.CD': 'pib_ppa_prec_inter',\\n    'IQ.SCI.OVRL': 'capacidad_estad\\u00edstica',\\n    'SP.POP.TOTL.FE.ZS': 'poblaci\\u00f3n_mujeres_pje',\\n    'SP.POP.TOTL.MA.ZS': 'poblaci\\u00f3n_hombres_pje',\\n    'NY.GDP.PCAP.PP.CD': 'pib_pc_prec_inter',\\n    'AG.LND.FRST.ZS': 'porcentaje_de_bosque',\\n    'EN.ATM.CO2E.PC': 'emisiones_co2',\\n    'SH.XPD.CHEX.PC.CD': 'inversion_salud_percapita',\\n    'SH.MED.BEDS.ZS': 'camas_hospitales_c/1000personas',\\n    'SP.DYN.IMRT.IN': 'mortalidad_infantil_c/1000nacimientos',\\n    'SH.H2O.BASW.ZS': 'acceso_agua_potable(%)',\\n    'SH.STA.BASS.ZS': 'acceso_servicios_sanitarios(%)',\\n    'SH.STA.SUIC.P5': 'tasa_mortalidad_suicidio_c/100.000',\\n    'SL.UEM.TOTL.ZS': 'tasa_desempleo',\\n    'SP.URB.TOTL.IN.ZS': 'tasa_poblacion_urbana',\\n    'NY.GNP.PCAP.CD': 'INB_percapita'\\n}\";\n",
       "                var nbb_formatted_code = \"banco_mundial = {\\n    \\\"SP.DYN.LE00.IN\\\": \\\"esperanza_vida_total\\\",\\n    \\\"SP.DYN.LE00.FE.IN\\\": \\\"esperanza_vida_mujeres\\\",\\n    \\\"SP.DYN.LE00.MA.IN\\\": \\\"esperanza_vida_varones\\\",\\n    \\\"SI.POV.GINI\\\": \\\"\\u00edndice_gini\\\",\\n    \\\"SE.XPD.TOTL.GD.ZS\\\": \\\"gasto_p\\u00fab_educacion_pje\\\",\\n    \\\"SE.COM.DURS\\\": \\\"duraci\\u00f3n_educ_obligatoria\\\",\\n    \\\"NY.GDP.PCAP.CD\\\": \\\"pib_pc_usd_actuales\\\",\\n    \\\"NY.GDP.MKTP.PP.CD\\\": \\\"pib_ppa_prec_inter\\\",\\n    \\\"IQ.SCI.OVRL\\\": \\\"capacidad_estad\\u00edstica\\\",\\n    \\\"SP.POP.TOTL.FE.ZS\\\": \\\"poblaci\\u00f3n_mujeres_pje\\\",\\n    \\\"SP.POP.TOTL.MA.ZS\\\": \\\"poblaci\\u00f3n_hombres_pje\\\",\\n    \\\"NY.GDP.PCAP.PP.CD\\\": \\\"pib_pc_prec_inter\\\",\\n    \\\"AG.LND.FRST.ZS\\\": \\\"porcentaje_de_bosque\\\",\\n    \\\"EN.ATM.CO2E.PC\\\": \\\"emisiones_co2\\\",\\n    \\\"SH.XPD.CHEX.PC.CD\\\": \\\"inversion_salud_percapita\\\",\\n    \\\"SH.MED.BEDS.ZS\\\": \\\"camas_hospitales_c/1000personas\\\",\\n    \\\"SP.DYN.IMRT.IN\\\": \\\"mortalidad_infantil_c/1000nacimientos\\\",\\n    \\\"SH.H2O.BASW.ZS\\\": \\\"acceso_agua_potable(%)\\\",\\n    \\\"SH.STA.BASS.ZS\\\": \\\"acceso_servicios_sanitarios(%)\\\",\\n    \\\"SH.STA.SUIC.P5\\\": \\\"tasa_mortalidad_suicidio_c/100.000\\\",\\n    \\\"SL.UEM.TOTL.ZS\\\": \\\"tasa_desempleo\\\",\\n    \\\"SP.URB.TOTL.IN.ZS\\\": \\\"tasa_poblacion_urbana\\\",\\n    \\\"NY.GNP.PCAP.CD\\\": \\\"INB_percapita\\\",\\n}\";\n",
       "                var nbb_cells = Jupyter.notebook.get_cells();\n",
       "                for (var i = 0; i < nbb_cells.length; ++i) {\n",
       "                    if (nbb_cells[i].input_prompt_number == nbb_cell_id) {\n",
       "                        if (nbb_cells[i].get_text() == nbb_unformatted_code) {\n",
       "                             nbb_cells[i].set_text(nbb_formatted_code);\n",
       "                        }\n",
       "                        break;\n",
       "                    }\n",
       "                }\n",
       "            }, 500);\n",
       "            "
      ],
      "text/plain": [
       "<IPython.core.display.Javascript object>"
      ]
     },
     "metadata": {},
     "output_type": "display_data"
    }
   ],
   "source": [
    "banco_mundial = {\n",
    "    \"SP.DYN.LE00.IN\": \"esperanza_vida_total\",\n",
    "    \"SP.DYN.LE00.FE.IN\": \"esperanza_vida_mujeres\",\n",
    "    \"SP.DYN.LE00.MA.IN\": \"esperanza_vida_varones\",\n",
    "    \"SI.POV.GINI\": \"índice_gini\",\n",
    "    \"SE.XPD.TOTL.GD.ZS\": \"gasto_púb_educacion_pje\",\n",
    "    \"SE.COM.DURS\": \"duración_educ_obligatoria\",\n",
    "    \"NY.GDP.PCAP.CD\": \"pib_pc_usd_actuales\",\n",
    "    \"NY.GDP.MKTP.PP.CD\": \"pib_ppa_prec_inter\",\n",
    "    \"IQ.SCI.OVRL\": \"capacidad_estadística\",\n",
    "    \"SP.POP.TOTL.FE.ZS\": \"población_mujeres_pje\",\n",
    "    \"SP.POP.TOTL.MA.ZS\": \"población_hombres_pje\",\n",
    "    \"NY.GDP.PCAP.PP.CD\": \"pib_pc_prec_inter\",\n",
    "    \"AG.LND.FRST.ZS\": \"porcentaje_de_bosque\",\n",
    "    \"EN.ATM.CO2E.PC\": \"emisiones_co2\",\n",
    "    \"SH.XPD.CHEX.PC.CD\": \"inversion_salud_percapita\",\n",
    "    \"SH.MED.BEDS.ZS\": \"camas_hospitales_c/1000personas\",\n",
    "    \"SP.DYN.IMRT.IN\": \"mortalidad_infantil_c/1000nacimientos\",\n",
    "    \"SH.H2O.BASW.ZS\": \"acceso_agua_potable(%)\",\n",
    "    \"SH.STA.BASS.ZS\": \"acceso_servicios_sanitarios(%)\",\n",
    "    \"SH.STA.SUIC.P5\": \"tasa_mortalidad_suicidio_c/100.000\",\n",
    "    \"SL.UEM.TOTL.ZS\": \"tasa_desempleo\",\n",
    "    \"SP.URB.TOTL.IN.ZS\": \"tasa_poblacion_urbana\",\n",
    "    \"NY.GNP.PCAP.CD\": \"INB_percapita\",\n",
    "}"
   ]
  },
  {
   "cell_type": "code",
   "execution_count": 15,
   "id": "344659dc",
   "metadata": {},
   "outputs": [
    {
     "data": {
      "application/javascript": [
       "\n",
       "            setTimeout(function() {\n",
       "                var nbb_cell_id = 15;\n",
       "                var nbb_unformatted_code = \"las = ['SP.DYN.LE00.MA.IN', 'SH.STA.BASS.ZS', 'SI.POV.GINI', 'SH.XPD.CHEX.PC.CD', 'NY.GDP.MKTP.PP.CD', 'SH.STA.SUIC.P5', 'SE.COM.DURS', 'SP.DYN.LE00.IN', 'NY.GDP.PCAP.CD', 'IQ.SCI.OVRL', 'SP.POP.TOTL.MA.ZS', 'NY.GNP.PCAP.CD', 'SE.XPD.TOTL.GD.ZS', 'SP.DYN.IMRT.IN', 'SH.H2O.BASW.ZS', 'SL.UEM.TOTL.ZS', 'NY.GDP.PCAP.PP.CD', 'EN.ATM.CO2E.PC', 'SP.POP.TOTL.FE.ZS', 'SH.MED.BEDS.ZS']\";\n",
       "                var nbb_formatted_code = \"las = [\\n    \\\"SP.DYN.LE00.MA.IN\\\",\\n    \\\"SH.STA.BASS.ZS\\\",\\n    \\\"SI.POV.GINI\\\",\\n    \\\"SH.XPD.CHEX.PC.CD\\\",\\n    \\\"NY.GDP.MKTP.PP.CD\\\",\\n    \\\"SH.STA.SUIC.P5\\\",\\n    \\\"SE.COM.DURS\\\",\\n    \\\"SP.DYN.LE00.IN\\\",\\n    \\\"NY.GDP.PCAP.CD\\\",\\n    \\\"IQ.SCI.OVRL\\\",\\n    \\\"SP.POP.TOTL.MA.ZS\\\",\\n    \\\"NY.GNP.PCAP.CD\\\",\\n    \\\"SE.XPD.TOTL.GD.ZS\\\",\\n    \\\"SP.DYN.IMRT.IN\\\",\\n    \\\"SH.H2O.BASW.ZS\\\",\\n    \\\"SL.UEM.TOTL.ZS\\\",\\n    \\\"NY.GDP.PCAP.PP.CD\\\",\\n    \\\"EN.ATM.CO2E.PC\\\",\\n    \\\"SP.POP.TOTL.FE.ZS\\\",\\n    \\\"SH.MED.BEDS.ZS\\\",\\n]\";\n",
       "                var nbb_cells = Jupyter.notebook.get_cells();\n",
       "                for (var i = 0; i < nbb_cells.length; ++i) {\n",
       "                    if (nbb_cells[i].input_prompt_number == nbb_cell_id) {\n",
       "                        if (nbb_cells[i].get_text() == nbb_unformatted_code) {\n",
       "                             nbb_cells[i].set_text(nbb_formatted_code);\n",
       "                        }\n",
       "                        break;\n",
       "                    }\n",
       "                }\n",
       "            }, 500);\n",
       "            "
      ],
      "text/plain": [
       "<IPython.core.display.Javascript object>"
      ]
     },
     "metadata": {},
     "output_type": "display_data"
    }
   ],
   "source": [
    "las = [\n",
    "    \"SP.DYN.LE00.MA.IN\",\n",
    "    \"SH.STA.BASS.ZS\",\n",
    "    \"SI.POV.GINI\",\n",
    "    \"SH.XPD.CHEX.PC.CD\",\n",
    "    \"NY.GDP.MKTP.PP.CD\",\n",
    "    \"SH.STA.SUIC.P5\",\n",
    "    \"SE.COM.DURS\",\n",
    "    \"SP.DYN.LE00.IN\",\n",
    "    \"NY.GDP.PCAP.CD\",\n",
    "    \"IQ.SCI.OVRL\",\n",
    "    \"SP.POP.TOTL.MA.ZS\",\n",
    "    \"NY.GNP.PCAP.CD\",\n",
    "    \"SE.XPD.TOTL.GD.ZS\",\n",
    "    \"SP.DYN.IMRT.IN\",\n",
    "    \"SH.H2O.BASW.ZS\",\n",
    "    \"SL.UEM.TOTL.ZS\",\n",
    "    \"NY.GDP.PCAP.PP.CD\",\n",
    "    \"EN.ATM.CO2E.PC\",\n",
    "    \"SP.POP.TOTL.FE.ZS\",\n",
    "    \"SH.MED.BEDS.ZS\",\n",
    "]"
   ]
  },
  {
   "cell_type": "code",
   "execution_count": 17,
   "id": "b5ed2a7b",
   "metadata": {},
   "outputs": [
    {
     "data": {
      "application/javascript": [
       "\n",
       "            setTimeout(function() {\n",
       "                var nbb_cell_id = 17;\n",
       "                var nbb_unformatted_code = \"banco_mundial = {\\n    'SP.DYN.LE00.IN': 'esperanza_vida_total',\\n    'SP.DYN.LE00.FE.IN': 'esperanza_vida_mujeres',\\n    'SP.DYN.LE00.MA.IN': 'esperanza_vida_varones',\\n    'SI.POV.GINI': '\\u00edndice_gini',\\n    'SE.XPD.TOTL.GD.ZS': 'gasto_p\\u00fab_educacion_pje',\\n    'SE.COM.DURS': 'duraci\\u00f3n_educ_obligatoria',\\n    'NY.GDP.PCAP.CD': 'pib_pc_usd_actuales',\\n    'NY.GDP.MKTP.PP.CD': 'pib_ppa_prec_inter',\\n    'IQ.SCI.OVRL': 'capacidad_estad\\u00edstica',\\n    'SP.POP.TOTL.FE.ZS': 'poblaci\\u00f3n_mujeres_pje',\\n    'SP.POP.TOTL.MA.ZS': 'poblaci\\u00f3n_hombres_pje',\\n    'NY.GDP.PCAP.PP.CD': 'pib_pc_prec_inter',\\n    'AG.LND.FRST.ZS': 'porcentaje_de_bosque',\\n    'EN.ATM.CO2E.PC': 'emisiones_co2',\\n    'SH.XPD.CHEX.PC.CD': 'inversion_salud_percapita',\\n    'SH.MED.BEDS.ZS': 'camas_hospitales_c/1000personas',\\n    'SP.DYN.IMRT.IN': 'mortalidad_infantil_c/1000nacimientos',\\n    'SH.H2O.BASW.ZS': 'acceso_agua_potable(%)',\\n    'SH.STA.BASS.ZS': 'acceso_servicios_sanitarios(%)',\\n    'SH.STA.SUIC.P5': 'tasa_mortalidad_suicidio_c/100.000',\\n    'SL.UEM.TOTL.ZS': 'tasa_desempleo',\\n    'SP.URB.TOTL.IN.ZS': 'tasa_poblacion_urbana',\\n    'NY.GNP.PCAP.CD': 'INB_percapita'\\n}\";\n",
       "                var nbb_formatted_code = \"banco_mundial = {\\n    \\\"SP.DYN.LE00.IN\\\": \\\"esperanza_vida_total\\\",\\n    \\\"SP.DYN.LE00.FE.IN\\\": \\\"esperanza_vida_mujeres\\\",\\n    \\\"SP.DYN.LE00.MA.IN\\\": \\\"esperanza_vida_varones\\\",\\n    \\\"SI.POV.GINI\\\": \\\"\\u00edndice_gini\\\",\\n    \\\"SE.XPD.TOTL.GD.ZS\\\": \\\"gasto_p\\u00fab_educacion_pje\\\",\\n    \\\"SE.COM.DURS\\\": \\\"duraci\\u00f3n_educ_obligatoria\\\",\\n    \\\"NY.GDP.PCAP.CD\\\": \\\"pib_pc_usd_actuales\\\",\\n    \\\"NY.GDP.MKTP.PP.CD\\\": \\\"pib_ppa_prec_inter\\\",\\n    \\\"IQ.SCI.OVRL\\\": \\\"capacidad_estad\\u00edstica\\\",\\n    \\\"SP.POP.TOTL.FE.ZS\\\": \\\"poblaci\\u00f3n_mujeres_pje\\\",\\n    \\\"SP.POP.TOTL.MA.ZS\\\": \\\"poblaci\\u00f3n_hombres_pje\\\",\\n    \\\"NY.GDP.PCAP.PP.CD\\\": \\\"pib_pc_prec_inter\\\",\\n    \\\"AG.LND.FRST.ZS\\\": \\\"porcentaje_de_bosque\\\",\\n    \\\"EN.ATM.CO2E.PC\\\": \\\"emisiones_co2\\\",\\n    \\\"SH.XPD.CHEX.PC.CD\\\": \\\"inversion_salud_percapita\\\",\\n    \\\"SH.MED.BEDS.ZS\\\": \\\"camas_hospitales_c/1000personas\\\",\\n    \\\"SP.DYN.IMRT.IN\\\": \\\"mortalidad_infantil_c/1000nacimientos\\\",\\n    \\\"SH.H2O.BASW.ZS\\\": \\\"acceso_agua_potable(%)\\\",\\n    \\\"SH.STA.BASS.ZS\\\": \\\"acceso_servicios_sanitarios(%)\\\",\\n    \\\"SH.STA.SUIC.P5\\\": \\\"tasa_mortalidad_suicidio_c/100.000\\\",\\n    \\\"SL.UEM.TOTL.ZS\\\": \\\"tasa_desempleo\\\",\\n    \\\"SP.URB.TOTL.IN.ZS\\\": \\\"tasa_poblacion_urbana\\\",\\n    \\\"NY.GNP.PCAP.CD\\\": \\\"INB_percapita\\\",\\n}\";\n",
       "                var nbb_cells = Jupyter.notebook.get_cells();\n",
       "                for (var i = 0; i < nbb_cells.length; ++i) {\n",
       "                    if (nbb_cells[i].input_prompt_number == nbb_cell_id) {\n",
       "                        if (nbb_cells[i].get_text() == nbb_unformatted_code) {\n",
       "                             nbb_cells[i].set_text(nbb_formatted_code);\n",
       "                        }\n",
       "                        break;\n",
       "                    }\n",
       "                }\n",
       "            }, 500);\n",
       "            "
      ],
      "text/plain": [
       "<IPython.core.display.Javascript object>"
      ]
     },
     "metadata": {},
     "output_type": "display_data"
    }
   ],
   "source": [
    "banco_mundial = {\n",
    "    'SP.DYN.LE00.IN': 'esperanza_vida_total',\n",
    "    'SP.DYN.LE00.FE.IN': 'esperanza_vida_mujeres',\n",
    "    'SP.DYN.LE00.MA.IN': 'esperanza_vida_varones',\n",
    "    'SI.POV.GINI': 'índice_gini',\n",
    "    'SE.XPD.TOTL.GD.ZS': 'gasto_púb_educacion_pje',\n",
    "    'SE.COM.DURS': 'duración_educ_obligatoria',\n",
    "    'NY.GDP.PCAP.CD': 'pib_pc_usd_actuales',\n",
    "    'NY.GDP.MKTP.PP.CD': 'pib_ppa_prec_inter',\n",
    "    'IQ.SCI.OVRL': 'capacidad_estadística',\n",
    "    'SP.POP.TOTL.FE.ZS': 'población_mujeres_pje',\n",
    "    'SP.POP.TOTL.MA.ZS': 'población_hombres_pje',\n",
    "    'NY.GDP.PCAP.PP.CD': 'pib_pc_prec_inter',\n",
    "    'AG.LND.FRST.ZS': 'porcentaje_de_bosque',\n",
    "    'EN.ATM.CO2E.PC': 'emisiones_co2',\n",
    "    'SH.XPD.CHEX.PC.CD': 'inversion_salud_percapita',\n",
    "    'SH.MED.BEDS.ZS': 'camas_hospitales_c/1000personas',\n",
    "    'SP.DYN.IMRT.IN': 'mortalidad_infantil_c/1000nacimientos',\n",
    "    'SH.H2O.BASW.ZS': 'acceso_agua_potable(%)',\n",
    "    'SH.STA.BASS.ZS': 'acceso_servicios_sanitarios(%)',\n",
    "    'SH.STA.SUIC.P5': 'tasa_mortalidad_suicidio_c/100.000',\n",
    "    'SL.UEM.TOTL.ZS': 'tasa_desempleo',\n",
    "    'SP.URB.TOTL.IN.ZS': 'tasa_poblacion_urbana',\n",
    "    'NY.GNP.PCAP.CD': 'INB_percapita'\n",
    "}"
   ]
  },
  {
   "cell_type": "code",
   "execution_count": 18,
   "id": "7dd2102b",
   "metadata": {},
   "outputs": [
    {
     "data": {
      "text/plain": [
       "20"
      ]
     },
     "execution_count": 18,
     "metadata": {},
     "output_type": "execute_result"
    },
    {
     "data": {
      "application/javascript": [
       "\n",
       "            setTimeout(function() {\n",
       "                var nbb_cell_id = 18;\n",
       "                var nbb_unformatted_code = \"len(las)\";\n",
       "                var nbb_formatted_code = \"len(las)\";\n",
       "                var nbb_cells = Jupyter.notebook.get_cells();\n",
       "                for (var i = 0; i < nbb_cells.length; ++i) {\n",
       "                    if (nbb_cells[i].input_prompt_number == nbb_cell_id) {\n",
       "                        if (nbb_cells[i].get_text() == nbb_unformatted_code) {\n",
       "                             nbb_cells[i].set_text(nbb_formatted_code);\n",
       "                        }\n",
       "                        break;\n",
       "                    }\n",
       "                }\n",
       "            }, 500);\n",
       "            "
      ],
      "text/plain": [
       "<IPython.core.display.Javascript object>"
      ]
     },
     "metadata": {},
     "output_type": "display_data"
    }
   ],
   "source": [
    "len(las)"
   ]
  },
  {
   "cell_type": "code",
   "execution_count": 19,
   "id": "6bea34ed",
   "metadata": {},
   "outputs": [
    {
     "data": {
      "text/plain": [
       "23"
      ]
     },
     "execution_count": 19,
     "metadata": {},
     "output_type": "execute_result"
    },
    {
     "data": {
      "application/javascript": [
       "\n",
       "            setTimeout(function() {\n",
       "                var nbb_cell_id = 19;\n",
       "                var nbb_unformatted_code = \"len(banco_mundial)\";\n",
       "                var nbb_formatted_code = \"len(banco_mundial)\";\n",
       "                var nbb_cells = Jupyter.notebook.get_cells();\n",
       "                for (var i = 0; i < nbb_cells.length; ++i) {\n",
       "                    if (nbb_cells[i].input_prompt_number == nbb_cell_id) {\n",
       "                        if (nbb_cells[i].get_text() == nbb_unformatted_code) {\n",
       "                             nbb_cells[i].set_text(nbb_formatted_code);\n",
       "                        }\n",
       "                        break;\n",
       "                    }\n",
       "                }\n",
       "            }, 500);\n",
       "            "
      ],
      "text/plain": [
       "<IPython.core.display.Javascript object>"
      ]
     },
     "metadata": {},
     "output_type": "display_data"
    }
   ],
   "source": [
    "len(banco_mundial)"
   ]
  },
  {
   "cell_type": "code",
   "execution_count": 20,
   "id": "e09a4c73",
   "metadata": {},
   "outputs": [
    {
     "name": "stdout",
     "output_type": "stream",
     "text": [
      "['SP.DYN.LE00.IN', 'SP.DYN.LE00.FE.IN', 'SP.DYN.LE00.MA.IN', 'SI.POV.GINI', 'SE.XPD.TOTL.GD.ZS', 'SE.COM.DURS', 'NY.GDP.PCAP.CD', 'NY.GDP.MKTP.PP.CD', 'IQ.SCI.OVRL', 'SP.POP.TOTL.FE.ZS', 'SP.POP.TOTL.MA.ZS', 'NY.GDP.PCAP.PP.CD', 'AG.LND.FRST.ZS', 'EN.ATM.CO2E.PC', 'SH.XPD.CHEX.PC.CD', 'SH.MED.BEDS.ZS', 'SP.DYN.IMRT.IN', 'SH.H2O.BASW.ZS', 'SH.STA.BASS.ZS', 'SH.STA.SUIC.P5', 'SL.UEM.TOTL.ZS', 'SP.URB.TOTL.IN.ZS', 'NY.GNP.PCAP.CD']\n"
     ]
    },
    {
     "data": {
      "application/javascript": [
       "\n",
       "            setTimeout(function() {\n",
       "                var nbb_cell_id = 20;\n",
       "                var nbb_unformatted_code = \"new_las = []\\nfor key, value in banco_mundial.items():\\n    new_las.append(key)\\n\\nprint(new_las)\";\n",
       "                var nbb_formatted_code = \"new_las = []\\nfor key, value in banco_mundial.items():\\n    new_las.append(key)\\n\\nprint(new_las)\";\n",
       "                var nbb_cells = Jupyter.notebook.get_cells();\n",
       "                for (var i = 0; i < nbb_cells.length; ++i) {\n",
       "                    if (nbb_cells[i].input_prompt_number == nbb_cell_id) {\n",
       "                        if (nbb_cells[i].get_text() == nbb_unformatted_code) {\n",
       "                             nbb_cells[i].set_text(nbb_formatted_code);\n",
       "                        }\n",
       "                        break;\n",
       "                    }\n",
       "                }\n",
       "            }, 500);\n",
       "            "
      ],
      "text/plain": [
       "<IPython.core.display.Javascript object>"
      ]
     },
     "metadata": {},
     "output_type": "display_data"
    }
   ],
   "source": [
    "new_las = []\n",
    "for key, value in banco_mundial.items():\n",
    "    new_las.append(key)\n",
    "\n",
    "print(new_las)"
   ]
  },
  {
   "cell_type": "code",
   "execution_count": 22,
   "id": "4a7b75da",
   "metadata": {},
   "outputs": [
    {
     "data": {
      "text/plain": [
       "20"
      ]
     },
     "execution_count": 22,
     "metadata": {},
     "output_type": "execute_result"
    },
    {
     "data": {
      "application/javascript": [
       "\n",
       "            setTimeout(function() {\n",
       "                var nbb_cell_id = 22;\n",
       "                var nbb_unformatted_code = \"len(set(las) & set(new_las))\";\n",
       "                var nbb_formatted_code = \"len(set(las) & set(new_las))\";\n",
       "                var nbb_cells = Jupyter.notebook.get_cells();\n",
       "                for (var i = 0; i < nbb_cells.length; ++i) {\n",
       "                    if (nbb_cells[i].input_prompt_number == nbb_cell_id) {\n",
       "                        if (nbb_cells[i].get_text() == nbb_unformatted_code) {\n",
       "                             nbb_cells[i].set_text(nbb_formatted_code);\n",
       "                        }\n",
       "                        break;\n",
       "                    }\n",
       "                }\n",
       "            }, 500);\n",
       "            "
      ],
      "text/plain": [
       "<IPython.core.display.Javascript object>"
      ]
     },
     "metadata": {},
     "output_type": "display_data"
    }
   ],
   "source": [
    "len(set(las) & set(new_las))"
   ]
  },
  {
   "cell_type": "code",
   "execution_count": 26,
   "id": "26229e53",
   "metadata": {},
   "outputs": [
    {
     "data": {
      "text/plain": [
       "{'AG.LND.FRST.ZS', 'SP.DYN.LE00.FE.IN', 'SP.URB.TOTL.IN.ZS'}"
      ]
     },
     "execution_count": 26,
     "metadata": {},
     "output_type": "execute_result"
    },
    {
     "data": {
      "application/javascript": [
       "\n",
       "            setTimeout(function() {\n",
       "                var nbb_cell_id = 26;\n",
       "                var nbb_unformatted_code = \"setlist1 = set(las)\\nsetlist2 = set(new_las)\\ndifference1 = setlist2.difference(setlist1)\\ndifference1\";\n",
       "                var nbb_formatted_code = \"setlist1 = set(las)\\nsetlist2 = set(new_las)\\ndifference1 = setlist2.difference(setlist1)\\ndifference1\";\n",
       "                var nbb_cells = Jupyter.notebook.get_cells();\n",
       "                for (var i = 0; i < nbb_cells.length; ++i) {\n",
       "                    if (nbb_cells[i].input_prompt_number == nbb_cell_id) {\n",
       "                        if (nbb_cells[i].get_text() == nbb_unformatted_code) {\n",
       "                             nbb_cells[i].set_text(nbb_formatted_code);\n",
       "                        }\n",
       "                        break;\n",
       "                    }\n",
       "                }\n",
       "            }, 500);\n",
       "            "
      ],
      "text/plain": [
       "<IPython.core.display.Javascript object>"
      ]
     },
     "metadata": {},
     "output_type": "display_data"
    }
   ],
   "source": [
    "setlist1 = set(las)\n",
    "setlist2 = set(new_las)\n",
    "difference1 = setlist2.difference(setlist1)\n",
    "difference1"
   ]
  },
  {
   "cell_type": "code",
   "execution_count": null,
   "id": "1a2867a4",
   "metadata": {},
   "outputs": [],
   "source": []
  }
 ],
 "metadata": {
  "kernelspec": {
   "display_name": "Python 3 (ipykernel)",
   "language": "python",
   "name": "python3"
  },
  "language_info": {
   "codemirror_mode": {
    "name": "ipython",
    "version": 3
   },
   "file_extension": ".py",
   "mimetype": "text/x-python",
   "name": "python",
   "nbconvert_exporter": "python",
   "pygments_lexer": "ipython3",
   "version": "3.8.10"
  }
 },
 "nbformat": 4,
 "nbformat_minor": 5
}
